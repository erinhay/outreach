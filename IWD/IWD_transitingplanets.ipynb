{
  "cells": [
    {
      "cell_type": "markdown",
      "id": "14b648cb",
      "metadata": {
        "id": "14b648cb"
      },
      "source": [
        "# Discovering Exoplanets Around Distant Stars\n",
        "\n",
        "By [Erin Hayes](https://www.ast.cam.ac.uk/people/Erin.Hayes), [Erik Rosenberg](https://www.ast.cam.ac.uk/people/erik.rosenberg), and [Steve Young](https://www.ast.cam.ac.uk/people/Steven.Young)\n",
        "\n",
        "(INFORMATION ON EXOPLANETS) - STEVE\n",
        "\n",
        "In this notebook, you will learn how astronomers use data from NASA's Kepler Space Telescope to discover over 5,000 exoplanets orbiting around other stars in our galaxy, the Milky Way."
      ]
    },
    {
      "cell_type": "markdown",
      "id": "e0daa2a7",
      "metadata": {
        "id": "e0daa2a7"
      },
      "source": [
        "## How to use this notebook:\n",
        "\n",
        "Much like the notebooks you take to school, this notebook is a way to organize what you're learning all in one place. It consists of many \"cells\" which like the pages of your notebook. Each cell can contain one or many ideas. You can see the first cell of our notebook below this text. Try clicking on the cell and reading the text:"
      ]
    },
    {
      "cell_type": "code",
      "execution_count": null,
      "id": "47a2dd4d",
      "metadata": {
        "id": "47a2dd4d"
      },
      "outputs": [],
      "source": [
        "# This is a cell!\n",
        "# It is where we keep all of our ideas about the project we are working on!"
      ]
    },
    {
      "cell_type": "markdown",
      "id": "bc1e330b",
      "metadata": {
        "id": "bc1e330b"
      },
      "source": [
        "In order to \"run\" a cell – which is like telling the computer to \"read\" a page of the notebook – you should press Shift + Enter together on your keyboard. Click on the cell below and try running it!"
      ]
    },
    {
      "cell_type": "code",
      "execution_count": null,
      "id": "4e99ad91",
      "metadata": {
        "id": "4e99ad91",
        "outputId": "7e8ce10d-cc73-4e8c-aeb5-5e47478ffea9",
        "colab": {
          "base_uri": "https://localhost:8080/"
        }
      },
      "outputs": [
        {
          "output_type": "stream",
          "name": "stdout",
          "text": [
            "12 * 7 = \n"
          ]
        },
        {
          "output_type": "execute_result",
          "data": {
            "text/plain": [
              "84"
            ]
          },
          "metadata": {},
          "execution_count": 2
        }
      ],
      "source": [
        "# Do you know what 12*7 is equal to? Let's ask the computer!\n",
        "# Press Shift + Enter to \n",
        "\n",
        "print('12 * 7 = ')\n",
        "12*7"
      ]
    },
    {
      "cell_type": "markdown",
      "id": "8b525700",
      "metadata": {
        "id": "8b525700"
      },
      "source": [
        "Built-in to the computer are a number of \"functions.\" Functions are short commands that make the computer automatically perform a task for us. These tasks can be really helpful.\n",
        "\n",
        "We actually already used a function in the above cell. When we told the computer to print the text \"12 * 7 = \" that was a function! Functions are normally used by typing the name of the function followed by a set of parenthesis, which specify the item we want the function to focus on. For example, the code `print('Hello World!')` tells the computer to show the phrase \"Hello World\" on your screen!\n",
        "\n",
        "Let's use the \"min\" function to find the minimum of a list of numbers. First, we'll want to create a list of numbers. Then we'll want to tell the computer to use min to find the minimum of our list of numbers."
      ]
    },
    {
      "cell_type": "code",
      "execution_count": null,
      "id": "9e1788d5",
      "metadata": {
        "id": "9e1788d5",
        "outputId": "8ea36379-1636-49cd-d6c4-a14eb7a4689f",
        "colab": {
          "base_uri": "https://localhost:8080/"
        }
      },
      "outputs": [
        {
          "output_type": "stream",
          "name": "stdout",
          "text": [
            "The minimum of our list of numbers is: \n"
          ]
        },
        {
          "output_type": "execute_result",
          "data": {
            "text/plain": [
              "0.05"
            ]
          },
          "metadata": {},
          "execution_count": 3
        }
      ],
      "source": [
        "# Create a list of numbers below. Feel free to change it!\n",
        "numbers = [0.3, 1, 28, 17.6, 4, 0.05, 1.25]\n",
        "\n",
        "# Use the min function below to find the minimum of our list, \"numbers\"\n",
        "print('The minimum of our list of numbers is: ')\n",
        "min(numbers)"
      ]
    },
    {
      "cell_type": "markdown",
      "id": "d03b4958",
      "metadata": {
        "id": "d03b4958"
      },
      "source": [
        "Great! Now that we can run our cells and use functions, we can have the computer perform lots of math, make graphs for us, and more! Let's use the power of the computer to learn more about exoplanets below.\n",
        "\n",
        "Before we start, run the below cell to setup the computer with the necessary tools to work through this notebook."
      ]
    },
    {
      "cell_type": "code",
      "source": [
        "!git clone https://github.com/erinhay/outreach.git\n",
        "!pip install ipympl\n",
        "!pip install astropy\n",
        "!pip install lightkurve > /dev/null 2>&1 \n",
        "\n",
        "import os\n",
        "os.chdir('/content/outreach/IWD/py')\n",
        "from helpers import *\n",
        "import lightkurve as lk\n",
        "\n",
        "from google.colab import output\n",
        "output.enable_custom_widget_manager()\n",
        "%matplotlib widget\n",
        "\n",
        "os.chdir('/content/outreach/IWD/')\n",
        "plt.style.use('./style/style.mplstyle')"
      ],
      "metadata": {
        "id": "Xko-Rz88or-o"
      },
      "id": "Xko-Rz88or-o",
      "execution_count": null,
      "outputs": []
    },
    {
      "cell_type": "markdown",
      "id": "40c4cc7b",
      "metadata": {
        "id": "40c4cc7b"
      },
      "source": [
        "## What is a light curve?\n",
        "\n",
        "Light curves measure the brightness of a star over time, in a graph like this:"
      ]
    },
    {
      "cell_type": "code",
      "execution_count": null,
      "id": "ef85866f",
      "metadata": {
        "id": "ef85866f",
        "outputId": "48e11aa0-7ccd-4377-da63-b4b346336ac8",
        "colab": {
          "base_uri": "https://localhost:8080/",
          "height": 377,
          "referenced_widgets": [
            "9c8cc08c8c354b05aa8e018043f2f980",
            "7cf5c777cf664958a68c358353daa6e0",
            "2652ae0fea2941a5b4a0917896f6612a",
            "894d662d59ad4c7aa47a53ccb10a3edb"
          ]
        }
      },
      "outputs": [
        {
          "output_type": "display_data",
          "data": {
            "text/plain": [
              "Canvas(toolbar=Toolbar(toolitems=[('Home', 'Reset original view', 'home', 'home'), ('Back', 'Back to previous …"
            ],
            "image/png": "[encoded data removed]",
            "text/html": [
              "\n",
              "            <div style=\"display: inline-block;\">\n",
              "                <div class=\"jupyter-widgets widget-label\" style=\"text-align: center;\">\n",
              "                    Figure\n",
              "                </div>\n",
              "                <img src='data:image/png;base64,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' width=720.0/>\n",
              "            </div>\n",
              "        "
            ],
            "application/vnd.jupyter.widget-view+json": {
              "version_major": 2,
              "version_minor": 0,
              "model_id": "9c8cc08c8c354b05aa8e018043f2f980"
            }
          },
          "metadata": {
            "application/vnd.jupyter.widget-view+json": {
              "colab": {
                "custom_widget_manager": {
                  "url": "https://ssl.gstatic.com/colaboratory-static/widgets/colab-cdn-widget-manager/b3e629b1971e1542/manager.min.js"
                }
              }
            }
          }
        }
      ],
      "source": [
        "plt.figure(figsize=(10,4)) #this line tells the computer we want to make a \"figure\" or graph\n",
        "plt.xlabel('time [days]')  #this line makes an x-axis label with the text \"time [days]\"\n",
        "plt.ylabel('brightness')   #this line makes an y-axis label with the text \"brightness\"\n",
        "plt.xlim(0, 10)            #this line makes the x-axis go from 0 to 10 days\n",
        "plt.ylim(0, 2)             #this line makes the y-axis go from 0 to 2 units of brightness\n",
        "plt.tight_layout()\n",
        "plt.show()"
      ]
    },
    {
      "cell_type": "markdown",
      "id": "8bed4d16",
      "metadata": {
        "id": "8bed4d16"
      },
      "source": [
        "### The Kepler telescope was sent into space to observe the light curves of millions of stars. Most stars stay the same brightness for very long periods of time (millions of years!), so light curves often look very flat over time.\n",
        "\n",
        "Run the cell below to see what a light curve of a \"normal\" star might look like!"
      ]
    },
    {
      "cell_type": "code",
      "execution_count": null,
      "id": "eb30ab63",
      "metadata": {
        "id": "eb30ab63",
        "outputId": "deb98b41-de4a-4d93-f576-116601f822ee",
        "colab": {
          "base_uri": "https://localhost:8080/",
          "height": 377,
          "referenced_widgets": [
            "6ae8f3ba704944739610405463fa2323",
            "75492c499c0f4f83b6df3414394acf29",
            "f9cfc7f98d10437f82a437a07e51fce2",
            "35d6f46baa1743d68ef473ee129d5e0a"
          ]
        }
      },
      "outputs": [
        {
          "output_type": "display_data",
          "data": {
            "text/plain": [
              "Canvas(toolbar=Toolbar(toolitems=[('Home', 'Reset original view', 'home', 'home'), ('Back', 'Back to previous …"
            ],
            "image/png": "[encoded data removed]",
            "text/html": [
              "\n",
              "            <div style=\"display: inline-block;\">\n",
              "                <div class=\"jupyter-widgets widget-label\" style=\"text-align: center;\">\n",
              "                    Figure\n",
              "                </div>\n",
              "                <img src='data:image/png;base64,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' width=720.0/>\n",
              "            </div>\n",
              "        "
            ],
            "application/vnd.jupyter.widget-view+json": {
              "version_major": 2,
              "version_minor": 0,
              "model_id": "6ae8f3ba704944739610405463fa2323"
            }
          },
          "metadata": {
            "application/vnd.jupyter.widget-view+json": {
              "colab": {
                "custom_widget_manager": {
                  "url": "https://ssl.gstatic.com/colaboratory-static/widgets/colab-cdn-widget-manager/b3e629b1971e1542/manager.min.js"
                }
              }
            }
          }
        }
      ],
      "source": [
        "plt.figure(figsize=(10,4))\n",
        "\n",
        "# How many times do you want to observe the star? Let's start with 100.\n",
        "N_observations = 100\n",
        "\n",
        "# Next we're going to make a list that is N_observations entries long and goes from 0 to 10 days \n",
        "times = np.linspace(0, 10, N_observations)\n",
        "\n",
        "# Now we are going to use a very special function called \"model\"\n",
        "# This function tells us the brightness of a star if its told the times at which to get its brightness\n",
        "# To store the brightness values, we have to give them a name! Let's set brightness = model(times).\n",
        "\n",
        "brightness = model(times)\n",
        "\n",
        "# Use the function plt.scatter to plot the brightnesses as a scatter plot!\n",
        "\n",
        "plt.scatter(times, brightness, s=5) #s=5 makes the points smaller\n",
        "\n",
        "plt.xlabel('time [days]')\n",
        "plt.ylabel('brightness')\n",
        "plt.ylim(0,1.5)\n",
        "plt.tight_layout()"
      ]
    },
    {
      "cell_type": "markdown",
      "id": "62b8b66f",
      "metadata": {
        "id": "62b8b66f"
      },
      "source": [
        "### However, when an exoplanet passes in front of the star, the brightness of the star decreases because the exoplanet blocks the light! The light curve is left with a dip in it like you see in this video:\n",
        "\n",
        "<br>\n",
        "<img src=\"https://github.com/erinhay/outreach/blob/main/IWD/images/transit_gif.gif?raw=1\" alt=\"Alternative text\" />\n",
        "<br>\n",
        "\n",
        "By observing stars and looking for dips in their brightnesses, astronomers can identify which stars have exoplanets orbiting around them. Let's use our model function to plot our own light curve with exoplanet transits!"
      ]
    },
    {
      "cell_type": "code",
      "execution_count": null,
      "id": "b2f15d18",
      "metadata": {
        "id": "b2f15d18",
        "outputId": "0587e600-3101-4187-b774-80651a971538",
        "colab": {
          "base_uri": "https://localhost:8080/",
          "height": 377,
          "referenced_widgets": [
            "2dec39473fdd408abb5a9425ecc1c0cb",
            "d544a1733e3d47e89bee24b3c81f77fc",
            "772967be59574c1e9d3f60f3c999d700",
            "d51b81bbfc024b4abe6c86eec3288637"
          ]
        }
      },
      "outputs": [
        {
          "output_type": "display_data",
          "data": {
            "text/plain": [
              "Canvas(toolbar=Toolbar(toolitems=[('Home', 'Reset original view', 'home', 'home'), ('Back', 'Back to previous …"
            ],
            "image/png": "[encoded data removed]",
            "text/html": [
              "\n",
              "            <div style=\"display: inline-block;\">\n",
              "                <div class=\"jupyter-widgets widget-label\" style=\"text-align: center;\">\n",
              "                    Figure\n",
              "                </div>\n",
              "                <img src='data:image/png;base64,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' width=720.0/>\n",
              "            </div>\n",
              "        "
            ],
            "application/vnd.jupyter.widget-view+json": {
              "version_major": 2,
              "version_minor": 0,
              "model_id": "2dec39473fdd408abb5a9425ecc1c0cb"
            }
          },
          "metadata": {
            "application/vnd.jupyter.widget-view+json": {
              "colab": {
                "custom_widget_manager": {
                  "url": "https://ssl.gstatic.com/colaboratory-static/widgets/colab-cdn-widget-manager/b3e629b1971e1542/manager.min.js"
                }
              }
            }
          }
        }
      ],
      "source": [
        "# Set up the graph and the times in the same way as before:\n",
        "plt.figure(figsize=(10,4))\n",
        "\n",
        "N_observations = 100\n",
        "times = np.linspace(0, 10, N_observations)\n",
        "\n",
        "# Now, the model function needs to know how big the exoplanet is (its radius) and\n",
        "# how many days it takes for the exoplanet to revolve around it's host star one time (its period).\n",
        "\n",
        "exoplanet_radius = 80_000      #the radius of the exoplanet in km\n",
        "period_of_orbit = 4            #the period of the exoplanet's orbit in days\n",
        "            \n",
        "    \n",
        "# Tell the model function that we want the brightness of a star that has\n",
        "# an exoplanet with radius, R_p, = exoplanet_radius and period, period, = period_of_orbit.\n",
        "brightness = model(times, period = period_of_orbit, R_p = exoplanet_radius)\n",
        "\n",
        "\n",
        "# Make a scatter plot of the brightnesses over time\n",
        "plt.scatter(times, brightness, s=5)\n",
        "\n",
        "plt.xlabel('time [days]')\n",
        "plt.ylabel('brightness')\n",
        "plt.ylim(0.98,1.005)\n",
        "plt.tight_layout()"
      ]
    },
    {
      "cell_type": "markdown",
      "id": "b5b1871e",
      "metadata": {
        "id": "b5b1871e"
      },
      "source": [
        "Wow! We can see the exoplanet orbit every three days!\n",
        "\n",
        "### The shape of the transit can very a lot depending on a lot of factors, including the radius of the exoplanet and how fast the exoplanet moves around the star. There are a lot of other factors that affect the shape of the light curve, such as the size of the star and the distance of the exoplanet from the star.\n",
        "\n",
        "<br>\n",
        "<img src=\"https://github.com/erinhay/outreach/blob/main/IWD/images/orbit_gif.gif?raw=1\" alt=\"Alternative text\" />\n",
        "<br>\n",
        "\n",
        "In the next cell, you will be able to adjust the radius of the exoplanet, the period of the orbit, the distance of the exoplanet from the host star, and the radius of the host star using sliders. You are also able to change where the transits fall in time using the \"offset\" slider. Play with the sliders to create unique transit events and answer the following questions:\n",
        "\n",
        "1. What happens to the size of the transit dip if you make the radius of the exoplanet smaller?\n",
        "2. What happens to the light curve if you make the period of the orbit larger?\n",
        "3. If the exoplanet is placed further away from the star, what happens to the shape of the transit?\n",
        "\n",
        "Can you come up with reasons for why the light curve changes as a result of these changing characteristics of the exoplanet system?"
      ]
    },
    {
      "cell_type": "code",
      "execution_count": null,
      "id": "ddf36ad7",
      "metadata": {
        "id": "ddf36ad7",
        "outputId": "13815897-590c-47cb-b0c2-f3f42301209f",
        "colab": {
          "base_uri": "https://localhost:8080/",
          "height": 537,
          "referenced_widgets": [
            "6ac4dbc26b5f445b9d6c89c9ed42809a",
            "761570dba11f4ddcab5497dd5d5adf95",
            "5bdc08c7c53c4c7c8e169711073f87ed",
            "65ccecb8388a4b4180182d79884106b8",
            "121a7c5358864de6b606730338db59e5",
            "ea621579a9034fd29c0e4c87605c1463",
            "01e33291158f4278846cf867364a8bf9",
            "b25047a892d245268caa98af01c350cb",
            "5dc22a1736754dddb7a7b3a378daf26b",
            "7352dba4c998461c9e65fa06c08eca77",
            "a0fa99e6272748f8b1e824f09af67a03",
            "6859c7ef27ba4fafb9310398447c3422",
            "89831bff37b7425cb56a976962e502d4",
            "5daf21a968f147dd9309a7ea76397e9e",
            "8548d9ce92944a0fbda42902990dd0f9",
            "94a4ff1ae6ab42b783ef6e53aef588e9",
            "0ec6b128cf5747baa1bc08c0616dded0",
            "b8971c588faf4b02bdd655a967697e5a",
            "50fcb5eca81a450aaaa7a174ae76cd96",
            "cf87a7d173e34fc0b8859207151d1ce5",
            "216e63f3a5c9443b83ae55f5cb445f9a",
            "2b63069400eb4c6f937279e197138534",
            "ce7151f94b224e10acd9fedc166fa9b8"
          ]
        }
      },
      "outputs": [
        {
          "output_type": "display_data",
          "data": {
            "text/plain": [
              "interactive(children=(IntSlider(value=50000, description='exoplanet_radius', max=100000, step=1000), FloatSlid…"
            ],
            "application/vnd.jupyter.widget-view+json": {
              "version_major": 2,
              "version_minor": 0,
              "model_id": "6ac4dbc26b5f445b9d6c89c9ed42809a"
            }
          },
          "metadata": {
            "application/vnd.jupyter.widget-view+json": {
              "colab": {
                "custom_widget_manager": {
                  "url": "https://ssl.gstatic.com/colaboratory-static/widgets/colab-cdn-widget-manager/b3e629b1971e1542/manager.min.js"
                }
              }
            }
          }
        },
        {
          "output_type": "display_data",
          "data": {
            "text/plain": [
              "Canvas(toolbar=Toolbar(toolitems=[('Home', 'Reset original view', 'home', 'home'), ('Back', 'Back to previous …"
            ],
            "image/png": "[encoded data removed]",
            "text/html": [
              "\n",
              "            <div style=\"display: inline-block;\">\n",
              "                <div class=\"jupyter-widgets widget-label\" style=\"text-align: center;\">\n",
              "                    Figure\n",
              "                </div>\n",
              "                <img src='data:image/png;base64,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' width=720.0/>\n",
              "            </div>\n",
              "        "
            ],
            "application/vnd.jupyter.widget-view+json": {
              "version_major": 2,
              "version_minor": 0,
              "model_id": "cf87a7d173e34fc0b8859207151d1ce5"
            }
          },
          "metadata": {
            "application/vnd.jupyter.widget-view+json": {
              "colab": {
                "custom_widget_manager": {
                  "url": "https://ssl.gstatic.com/colaboratory-static/widgets/colab-cdn-widget-manager/b3e629b1971e1542/manager.min.js"
                }
              }
            }
          }
        }
      ],
      "source": [
        "fig, ax = plt.subplots(figsize=(10,4))\n",
        "\n",
        "N_observations = 1000\n",
        "times = np.linspace(0, 10, N_observations)\n",
        "\n",
        "@interact(exoplanet_radius = (0, 100_000, 1_000), period_of_orbit = (1, 10, 0.1),\n",
        "          orbital_radius = (1e6, 9e6, 100_000), star_radius = (500_000, 1_000_000, 10_000), offset = (0, 10, 0.1))\n",
        "\n",
        "def plot(exoplanet_radius, period_of_orbit, orbital_radius, star_radius, offset):\n",
        "    brightness_model = model(times, period = period_of_orbit, R_p = exoplanet_radius,\n",
        "                             a = orbital_radius, R_star = star_radius, offset = offset)\n",
        "    ax.clear()\n",
        "    ax.plot(times, brightness_model)\n",
        "    ax.set_ylim(0.975, 1.005)\n",
        "    ax.set_xlabel('time [days]')\n",
        "    ax.set_ylabel('brightness')\n",
        "    \n",
        "plt.tight_layout()"
      ]
    },
    {
      "cell_type": "markdown",
      "id": "47436c96",
      "metadata": {
        "id": "47436c96"
      },
      "source": [
        "Double click on this cell to edit it! You can write notes about what you observe about the changing shape of the transit here:\n",
        "\n",
        "1. \n",
        "2. \n",
        "3. "
      ]
    },
    {
      "cell_type": "markdown",
      "id": "83cfb056",
      "metadata": {
        "id": "83cfb056"
      },
      "source": [
        "### We can plot our light curve on top of data and adjust the different aspects of the light curve to figure out the size of the exoplanet, its distance from the star, and more!\n",
        "\n",
        "Below, you will find some data plotted on top of the light curve we saw above. Using the sliders, can you figure out the period of the exoplanet's orbit and the exoplanet's radius?\n",
        "\n",
        "You might notice that the data looks pretty messy – the points don't all fall perfectly on the light curve underneath it. When data is imperfect, astronomers call it \"noisy.\" Data may be noisy for a number of reasons. The common reason is that when astronomers measure brightnesses of stars from a photo from a telescope, sometimes light from brighter stars gets in the way of the star we are actually trying to measure. Then, the star appears brighter than it actually is. To stop this from happening, astronomers can measure a smaller area around the star, but sometimes that means astronomers miss some of the light that is actually coming from the star. A combination of these and other effects causes the data to be noisy."
      ]
    },
    {
      "cell_type": "code",
      "execution_count": null,
      "id": "66d5b7f1",
      "metadata": {
        "id": "66d5b7f1",
        "outputId": "c3927fb1-818b-4836-8352-228d0c686013",
        "colab": {
          "base_uri": "https://localhost:8080/",
          "height": 537,
          "referenced_widgets": [
            "71f32cd65d734ecb8830d88192c3e663",
            "fd43249dc6354b7b92ed7111aa7a3952",
            "cf49b5f715364900957d25eea4666095",
            "f024978e79eb401cbdfe32ffa44bbd1d",
            "c67c7ef49dd241b39bcf773708f97af8",
            "10fda32382f04505959d5a10850a1118",
            "9c1ca2da601e41f59e06780754d4841b",
            "c58cdc6cbc0644b281b043d5becc50cc",
            "66264e970c6d4276bbb637b2ac700c91",
            "4598aa948fbb4ed2af2c3b67b5e840e9",
            "7f4db4b7e81d4afe8b49ede314cfb4a1",
            "9507efbb331b4a1a87c43d788edd6004",
            "ebf50a30a4754a278ab0d3a3a2b286c5",
            "ec8c7556158249d3a0de59585d10f809",
            "cfa6895c8bb64cde86b121fa33f68580",
            "08cf274248d947be9948f9930bb858c2",
            "9f663de066ef42cdb93fe1fff5d3b3b3",
            "2d9e74249a9f431583d082fa79d433bb",
            "9a905321b9464ff5a2222dbdec23063c",
            "716f5409e6ff45bb9dedfb73df8900c8",
            "5a58ddfd4a644d738313a4b19310f527",
            "434c83c68fb447c8b419bc941610b513",
            "ff39e3328c284381b0ab26aa1f0a15e4",
            "de68b5c4f142468a9c5cd238c5aca11c",
            "99eeedc9bcc74f499c865529350ec148"
          ]
        }
      },
      "outputs": [
        {
          "output_type": "display_data",
          "data": {
            "text/plain": [
              "interactive(children=(IntSlider(value=25000, description='exoplanet_radius', max=40000, min=10000, step=1000),…"
            ],
            "application/vnd.jupyter.widget-view+json": {
              "version_major": 2,
              "version_minor": 0,
              "model_id": "71f32cd65d734ecb8830d88192c3e663"
            }
          },
          "metadata": {
            "application/vnd.jupyter.widget-view+json": {
              "colab": {
                "custom_widget_manager": {
                  "url": "https://ssl.gstatic.com/colaboratory-static/widgets/colab-cdn-widget-manager/b3e629b1971e1542/manager.min.js"
                }
              }
            }
          }
        },
        {
          "output_type": "display_data",
          "data": {
            "text/plain": [
              "Canvas(toolbar=Toolbar(toolitems=[('Home', 'Reset original view', 'home', 'home'), ('Back', 'Back to previous …"
            ],
            "image/png": "[encoded data removed]",
            "text/html": [
              "\n",
              "            <div style=\"display: inline-block;\">\n",
              "                <div class=\"jupyter-widgets widget-label\" style=\"text-align: center;\">\n",
              "                    Figure\n",
              "                </div>\n",
              "                <img src='data:image/png;base64,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' width=720.0/>\n",
              "            </div>\n",
              "        "
            ],
            "application/vnd.jupyter.widget-view+json": {
              "version_major": 2,
              "version_minor": 0,
              "model_id": "99eeedc9bcc74f499c865529350ec148"
            }
          },
          "metadata": {
            "application/vnd.jupyter.widget-view+json": {
              "colab": {
                "custom_widget_manager": {
                  "url": "https://ssl.gstatic.com/colaboratory-static/widgets/colab-cdn-widget-manager/b3e629b1971e1542/manager.min.js"
                }
              }
            }
          }
        }
      ],
      "source": [
        "fig, ax = plt.subplots(figsize=(10,4))\n",
        "\n",
        "N_observations = 1000\n",
        "times = np.linspace(0, 10, N_observations)\n",
        "\n",
        "example_times, example_brightness, example_error = np.loadtxt(\"./data/sample_transit_data.txt\", unpack=True)\n",
        "\n",
        "@interact(exoplanet_radius = (10_000, 40_000, 1_000), period_of_orbit = (1, 10, 0.1),\n",
        "          orbital_radius = (1e7, 2e7, 100_000), star_radius = (500_000, 1_000_000, 10_000), offset = (0, 10, 0.1))\n",
        "\n",
        "def plot(exoplanet_radius, period_of_orbit, orbital_radius, star_radius, offset):\n",
        "    brightness_model = model(times, period = period_of_orbit, R_p = exoplanet_radius,\n",
        "                             a = orbital_radius, R_star = star_radius, offset = offset)\n",
        "    ax.clear()\n",
        "    ax.errorbar(example_times, example_brightness, yerr=example_error, ls='None', marker='.', color='black')\n",
        "    ax.plot(times, brightness_model)\n",
        "    ax.set_ylim(0.997, 1.001)\n",
        "    ax.set_xlabel('time [days]')\n",
        "    ax.set_ylabel('brightness')\n",
        "    \n",
        "plt.tight_layout()"
      ]
    },
    {
      "cell_type": "markdown",
      "id": "90b2af0e",
      "metadata": {
        "id": "90b2af0e"
      },
      "source": [
        "## Detecting Exoplanet Transits\n",
        "\n",
        "Now that we know what to look for, we can look at **real** data from the Kepler telescope!\n",
        "\n",
        "*Kepler* was a NASA space telescope designed to detect exoplanets orbiting other stars using the transit method described above. Before *Kepler*, scientists didn't know if Earth-like rocky planets were common or rare in the galaxy, or if most stars hosted planets at all. The overall aim of the mission was therefore to discover hundreds of new rocky planets, and more generally better understand the prevalence of different types of planets in our galaxy.\n",
        "Specific mission goals included determining the percentage of terrestrial planets in the habital zone of different types of stars, characterizing their sizes, shapes, and orbits, and understanding the properties of stars hosting planetary systems.\n",
        "\n",
        "*Kepler* launched in 2009. The primary mission consisted of continuous observation of a single field of about 160,000 stars. This allowed for well-measured, low-noise lightcurves so that small rocky planets could be detected despite the small dips they create. \n",
        "After four years of observation, two of *Kepler*'s reaction wheels (that accurately pointed the spacecraft) failed by 2013. NASA scientists designed a new mission dubbed K2 to continue to do science despite these limitations. K2 continued until *Kepler*'s retirement in 2018, observing additional planets as well as discovering 61 supernovae (stellar explosions).\n",
        "\n",
        "Over its lifetime, *Kepler* observed over 500,000 stars and discovered nearly 3,000 confirmed exoplanets -- many more than the approximately 300 that were known before *Kepler*. This confirmed that planets are in fact common, with more planets than stars in our galaxy, and Earth-size worlds in particular are likely to orbit up to half the stars we see. After its retirement, *Kepler* has been succeeded by another NASA mission called TESS. Launched in 2018, TESS also uses transits to search for planets; it takes a complementary approach to *Kepler*, hunting for nearby exoplanets around brighter stars across the whole sky, and is currently in its extended mission.\n",
        "\n",
        "<br>\n",
        "<img src=\"https://github.com/erinhay/outreach/blob/main/IWD/images/kepler.jpeg?raw=1\" alt=\"Alternative text\" />\n",
        "<br>\n",
        "\n",
        "These experiments are made possible by large teams of scientists and engineers working in concert, including outstanding contributions by many women. This includes Kepler/K2 project scientists [Natalie Batalha](https://www.nasa.gov/mission_pages/kepler/team/batalha.html) and [Jessie Dotson](https://www.nasa.gov/mission_pages/kepler/team/jessie_dotson) and TESS project scientist [Patricia Boyd](https://science.gsfc.nasa.gov/sed/bio/patricia.t.boyd), who have/had lead science roles in these projects, as well as leading operations work by Kepler Mission Director/Operations Manager [Marcie Smith](https://www.nasa.gov/mission_pages/kepler/team/Marcie_Smith.html), and Project Manager [Maura Fujieh](https://www.nasa.gov/mission_pages/kepler/team/maura-fujieh).\n",
        "\n",
        "-----\n",
        "\n",
        "To look at *Kepler* data, astronomers have developed special tools. We're going to use some of those tools now to look at the light curve from a star called Kepler 1658. Let's see if we can find an exoplanet around this star!"
      ]
    },
    {
      "cell_type": "code",
      "execution_count": null,
      "id": "32693781",
      "metadata": {
        "scrolled": false,
        "id": "32693781",
        "outputId": "cbff9745-b0a3-43e3-e41c-063c5a4e703b",
        "colab": {
          "base_uri": "https://localhost:8080/",
          "height": 461,
          "referenced_widgets": [
            "892bd3a47f0d4dbbb25cbcbc6696881f",
            "7f2abf0eccb04a73b3b2295fbb1059f2",
            "bd51dacdec9948fc92b6ad680e7e8d2b",
            "ea5d44effd544b3ca3f36251ae97dcbc"
          ]
        }
      },
      "outputs": [
        {
          "output_type": "display_data",
          "data": {
            "text/plain": [
              "Canvas(toolbar=Toolbar(toolitems=[('Home', 'Reset original view', 'home', 'home'), ('Back', 'Back to previous …"
            ],
            "image/png": "[encoded data removed]",
            "text/html": [
              "\n",
              "            <div style=\"display: inline-block;\">\n",
              "                <div class=\"jupyter-widgets widget-label\" style=\"text-align: center;\">\n",
              "                    Figure\n",
              "                </div>\n",
              "                <img src='data:image/png;base64,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' width=720.0/>\n",
              "            </div>\n",
              "        "
            ],
            "application/vnd.jupyter.widget-view+json": {
              "version_major": 2,
              "version_minor": 0,
              "model_id": "892bd3a47f0d4dbbb25cbcbc6696881f"
            }
          },
          "metadata": {
            "application/vnd.jupyter.widget-view+json": {
              "colab": {
                "custom_widget_manager": {
                  "url": "https://ssl.gstatic.com/colaboratory-static/widgets/colab-cdn-widget-manager/b3e629b1971e1542/manager.min.js"
                }
              }
            }
          }
        }
      ],
      "source": [
        "# First, we need to retrieve light curve data for Kepler-1658b\n",
        "## This requires a couple of steps using special functions:\n",
        "## 1. Download the file\n",
        "Kepler1658_file = lk.search_targetpixelfile(\"Kepler-1658\")[1].download()\n",
        "\n",
        "## 2. Extract the time and brightness data and put it into a table called \"light_curve_data\"\n",
        "light_curve_data = Kepler1658_file.to_lightcurve(method=\"pld\").remove_outliers().flatten()\n",
        "light_curve_data.meta['R_p'] = 1.07*69_911*u.km\n",
        "\n",
        "## 3. Get the time and brightness data from the light_curve_data table\n",
        "Kepler_times = light_curve_data['time'].value        #time data\n",
        "Kepler_brightness = light_curve_data['flux'].value   #brightness data\n",
        "Kepler_error = light_curve_data['flux_err'].value\n",
        "\n",
        "# Now, let's plot the data to see what it looks like!\n",
        "\n",
        "fig, ax = plt.subplots(figsize=(10,4))\n",
        "ax.errorbar(Kepler_times, Kepler_brightness, yerr=Kepler_error, ls='None', marker='.', color='black', ms=1, lw=0.5)\n",
        "ax.set_ylim(0.998, 1.001)\n",
        "ax.set_xlabel('time [days]')\n",
        "ax.set_ylabel('brightness')\n",
        "\n",
        "plt.tight_layout()"
      ]
    },
    {
      "cell_type": "markdown",
      "id": "e4243e47",
      "metadata": {
        "id": "e4243e47"
      },
      "source": [
        "### Wow! Based on this light curve, do you think there's an exoplanet orbiting around this star? \n",
        "\n",
        "Let's zoom into a smaller region of the light curve to get a better look at it."
      ]
    },
    {
      "cell_type": "code",
      "execution_count": null,
      "id": "428071cf",
      "metadata": {
        "id": "428071cf",
        "outputId": "e3a1a5f1-3e6c-48f7-d4f4-2bcf20358ce8",
        "colab": {
          "base_uri": "https://localhost:8080/",
          "height": 377,
          "referenced_widgets": [
            "88a96938f29d4a2db30176d5faef62ae",
            "593f474f5bd9467aa820ab33b5bd5133",
            "2d4f264389234bcba19f0d0b0bedca6d",
            "d316fa2a66514354852e459d9aa0b151"
          ]
        }
      },
      "outputs": [
        {
          "output_type": "display_data",
          "data": {
            "text/plain": [
              "Canvas(toolbar=Toolbar(toolitems=[('Home', 'Reset original view', 'home', 'home'), ('Back', 'Back to previous …"
            ],
            "image/png": "[encoded data removed]",
            "text/html": [
              "\n",
              "            <div style=\"display: inline-block;\">\n",
              "                <div class=\"jupyter-widgets widget-label\" style=\"text-align: center;\">\n",
              "                    Figure\n",
              "                </div>\n",
              "                <img src='data:image/png;base64,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' width=720.0/>\n",
              "            </div>\n",
              "        "
            ],
            "application/vnd.jupyter.widget-view+json": {
              "version_major": 2,
              "version_minor": 0,
              "model_id": "88a96938f29d4a2db30176d5faef62ae"
            }
          },
          "metadata": {
            "application/vnd.jupyter.widget-view+json": {
              "colab": {
                "custom_widget_manager": {
                  "url": "https://ssl.gstatic.com/colaboratory-static/widgets/colab-cdn-widget-manager/b3e629b1971e1542/manager.min.js"
                }
              }
            }
          }
        }
      ],
      "source": [
        "fig, ax = plt.subplots(figsize=(10,4))\n",
        "ax.errorbar(Kepler_times, Kepler_brightness, yerr=Kepler_error, ls='None', marker='.', color='black', ms=1, lw=0.5)\n",
        "ax.set_xlim(133.75, 143)\n",
        "ax.set_ylim(0.998, 1.001)\n",
        "ax.set_xlabel('time [days]')\n",
        "ax.set_ylabel('brightness')\n",
        "\n",
        "plt.tight_layout()"
      ]
    },
    {
      "cell_type": "markdown",
      "id": "7ba44526",
      "metadata": {
        "id": "7ba44526"
      },
      "source": [
        "### It's an exoplanet!\n",
        "\n",
        "Let's use the sliders from before to see if we can determine the period and radius of Kepler 1685's exoplanet. We know that this star is about 3x the size of the sun, so we won't worry about adjusting that value."
      ]
    },
    {
      "cell_type": "code",
      "execution_count": null,
      "id": "5ff5b052",
      "metadata": {
        "id": "5ff5b052",
        "outputId": "f480de04-7fd0-4296-9706-a3069ee94ef0",
        "colab": {
          "base_uri": "https://localhost:8080/",
          "height": 550,
          "referenced_widgets": [
            "a5e294e1b8d6475b9a745e9ca9ac4c62",
            "03346b45c19643d295a5c0d39a2aa57a",
            "3b3b7b17d1b74c029e1a593688352207",
            "751eaa34545842a19437d786057f379c",
            "cc70c93243474f15b88f60061bdcc551",
            "20ca6b21f635426e936f34c32b43ecb6",
            "0fcfc36ea8324ee5aa6a1d9493718781",
            "3382bec917994474aaaf12d78e6973d7",
            "6b976717763443c097934025da66215a",
            "90d151b5823941439f3fa816d8722810",
            "31fcee1647af4f7b9876a8a6a2653352",
            "8494060e35584f5f96148acf42d26774",
            "445aad0c68a2464999d30436f37bf9a8",
            "56c16f7ece4b448eb646c4daccd94af4",
            "0c9059d4166f486caaba57cd833148f5",
            "f2677cafca194423bad7903b6d7cd785",
            "428be0a10916446ea8bc1c61e1692edf",
            "ecc23e7173814a61bb0930c2ad12bdf5",
            "56f85fe09f054eaa8968ecf37c948540",
            "14cc5d2470034e3ba2a659b135eb3110",
            "8b9f239b7d3c40588df1bbd0fc81ff7c",
            "663bbdbb4e4648ed96ae06abfc24fb62"
          ]
        }
      },
      "outputs": [
        {
          "output_type": "display_data",
          "data": {
            "text/plain": [
              "interactive(children=(IntSlider(value=62000, description='exoplanet_radius', max=75000, min=50000, step=1000),…"
            ],
            "application/vnd.jupyter.widget-view+json": {
              "version_major": 2,
              "version_minor": 0,
              "model_id": "a5e294e1b8d6475b9a745e9ca9ac4c62"
            }
          },
          "metadata": {
            "application/vnd.jupyter.widget-view+json": {
              "colab": {
                "custom_widget_manager": {
                  "url": "https://ssl.gstatic.com/colaboratory-static/widgets/colab-cdn-widget-manager/b3e629b1971e1542/manager.min.js"
                }
              }
            }
          }
        },
        {
          "output_type": "display_data",
          "data": {
            "text/plain": [
              "Canvas(toolbar=Toolbar(toolitems=[('Home', 'Reset original view', 'home', 'home'), ('Back', 'Back to previous …"
            ],
            "image/png": "[encoded data removed]",
            "text/html": [
              "\n",
              "            <div style=\"display: inline-block;\">\n",
              "                <div class=\"jupyter-widgets widget-label\" style=\"text-align: center;\">\n",
              "                    Figure\n",
              "                </div>\n",
              "                <img src='data:image/png;base64,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' width=720.0/>\n",
              "            </div>\n",
              "        "
            ],
            "application/vnd.jupyter.widget-view+json": {
              "version_major": 2,
              "version_minor": 0,
              "model_id": "663bbdbb4e4648ed96ae06abfc24fb62"
            }
          },
          "metadata": {
            "application/vnd.jupyter.widget-view+json": {
              "colab": {
                "custom_widget_manager": {
                  "url": "https://ssl.gstatic.com/colaboratory-static/widgets/colab-cdn-widget-manager/b3e629b1971e1542/manager.min.js"
                }
              }
            }
          }
        }
      ],
      "source": [
        "fig, ax = plt.subplots(figsize=(10,4))\n",
        "\n",
        "N_observations = 1000\n",
        "times = np.linspace(133.75, 143, N_observations)\n",
        "\n",
        "@interact(exoplanet_radius = (50_000, 75_000, 1_000), period_of_orbit = (0, 10, 0.1),\n",
        "          orbital_radius = (1e7, 5e8, 100_000), offset = (0, 5, 0.05))\n",
        "\n",
        "def plot(exoplanet_radius, period_of_orbit, orbital_radius, offset):\n",
        "    brightness_model = model(times, period = period_of_orbit, R_p = exoplanet_radius,\n",
        "                             a = orbital_radius, R_star = 3*696_340, offset = offset)\n",
        "    ax.clear()\n",
        "    ax.errorbar(Kepler_times, Kepler_brightness, yerr=Kepler_error, ls='None', marker='.', color='black', ms=1, lw=0.5)\n",
        "    ax.plot(times, brightness_model)\n",
        "    ax.set_xlim(133.75, 143)\n",
        "    ax.set_ylim(0.998, 1.001)\n",
        "    ax.set_xlabel('time [days]')\n",
        "    ax.set_ylabel('brightness')\n",
        "    \n",
        "plt.tight_layout()"
      ]
    },
    {
      "cell_type": "markdown",
      "id": "ff531720",
      "metadata": {
        "id": "ff531720"
      },
      "source": [
        "### Was that difficult to figure out? I bet! It's nearly impossible to get the right answer on your own!\n",
        "\n",
        "Because there are a lot of different things affecting the shape of the light curve, astronomers had to come up with easier ways to find the exoplanet characteristics from the light curve. We had to do some complicated maths and coding to get the answers, but fortunately we can now use the findings by running the following cells to find out the solutions!"
      ]
    },
    {
      "cell_type": "code",
      "execution_count": null,
      "id": "4c63211a",
      "metadata": {
        "id": "4c63211a",
        "outputId": "0c0e6859-4a7e-4ab9-cb2e-adc95e2a1a08",
        "colab": {
          "base_uri": "https://localhost:8080/",
          "height": 55
        }
      },
      "outputs": [
        {
          "output_type": "stream",
          "name": "stdout",
          "text": [
            "The period of the light curve is: \n"
          ]
        },
        {
          "output_type": "execute_result",
          "data": {
            "text/plain": [
              "<Quantity 3.84945044 d>"
            ],
            "text/latex": "$3.8494504 \\; \\mathrm{d}$"
          },
          "metadata": {},
          "execution_count": 10
        }
      ],
      "source": [
        "# Extract the period of the light curve:\n",
        "true_period = light_curve_data.to_periodogram(\"bls\").period_at_max_power\n",
        "\n",
        "# Stack each orbit on top of each other:\n",
        "folded_light_curve_data = light_curve_data.fold(2*true_period)\n",
        "\n",
        "time_data = folded_light_curve_data.time.value\n",
        "brightness_data = folded_light_curve_data.flux.value\n",
        "time_data = time_data - np.min(time_data)\n",
        "\n",
        "print('The period of the light curve is: ')\n",
        "true_period"
      ]
    },
    {
      "cell_type": "code",
      "execution_count": null,
      "id": "c1ab710d",
      "metadata": {
        "id": "c1ab710d",
        "outputId": "f43a54e4-92f9-451a-bc22-ff5f44866ec6",
        "colab": {
          "base_uri": "https://localhost:8080/",
          "height": 55
        }
      },
      "outputs": [
        {
          "output_type": "stream",
          "name": "stdout",
          "text": [
            "The radius of the exoplanet is: \n"
          ]
        },
        {
          "output_type": "execute_result",
          "data": {
            "text/plain": [
              "<Quantity 74804.77 km>"
            ],
            "text/latex": "$74804.77 \\; \\mathrm{km}$"
          },
          "metadata": {},
          "execution_count": 11
        }
      ],
      "source": [
        "true_radius = light_curve_data.meta['R_p']\n",
        "\n",
        "print('The radius of the exoplanet is: ')\n",
        "true_radius"
      ]
    },
    {
      "cell_type": "markdown",
      "id": "0dbd999c",
      "metadata": {
        "id": "0dbd999c"
      },
      "source": [
        "### Let's plot the solution on top of one transit to see if it looks right!"
      ]
    },
    {
      "cell_type": "code",
      "execution_count": null,
      "id": "c664251e",
      "metadata": {
        "scrolled": false,
        "id": "c664251e",
        "outputId": "a29363f5-134b-4398-81d3-c82e75cbded1",
        "colab": {
          "base_uri": "https://localhost:8080/",
          "height": 377,
          "referenced_widgets": [
            "a3e4a62c7df84d7cb6e2b1a0bdf87c3f",
            "0be8c73b966e4855882519e953269954",
            "23809662bf4142ee8026831ef269ef9c",
            "eb5f126ba68d43e6afb06db1ed8d2725"
          ]
        }
      },
      "outputs": [
        {
          "output_type": "display_data",
          "data": {
            "text/plain": [
              "Canvas(toolbar=Toolbar(toolitems=[('Home', 'Reset original view', 'home', 'home'), ('Back', 'Back to previous …"
            ],
            "image/png": "[encoded data removed]",
            "text/html": [
              "\n",
              "            <div style=\"display: inline-block;\">\n",
              "                <div class=\"jupyter-widgets widget-label\" style=\"text-align: center;\">\n",
              "                    Figure\n",
              "                </div>\n",
              "                <img src='data:image/png;base64,iVBORw0KGgoAAAANSUhEUgAAAtAAAAEgCAYAAACdLUQYAAAAOXRFWHRTb2Z0d2FyZQBNYXRwbG90bGliIHZlcnNpb24zLjUuMywgaHR0cHM6Ly9tYXRwbG90bGliLm9yZy/NK7nSAAAACXBIWXMAAAsTAAALEwEAmpwYAABaR0lEQVR4nO3deZwdVZk//s/THUhYkw4JSYCwyUgm0XSUOCzKpGOQcdRWUEKMy6gEGoRxfjqCoqPAIA7zc5lxH02IMi5AEgS0UUcFuiObSyB0ICwKJBAg3Z2Q0AJhCenn+0fVuX3u6VPbvbf63up83q9XXjddVbfqVN1TVU+dOouoKoiIiIiIKJ2meieAiIiIiKhIGEATEREREWXAAJqIiIiIKAMG0EREREREGTCAJiIiIiLKgAE0EREREVEGDKCJiIiIiDJgAE1ERERElAEDaCIiIiKiDBhAExERERFlwACaiIiIiCgDBtBERERERBkwgCYiIiIiyoABNBERERFRBgygiYiIiIgyYABNRERERJRBoQJoETleRNaLiFb4/Yki8i0R2SQi/SLygIhcICLNEcs3i8j54XL94fe+LSITE7bzYRF5WkS6K0knERERETWuMfVOQBoisi+AywEsBLBvhetoAXA7gF0ATlTVjSIyH8DPABwD4L2er/0EwNsAnKKqt4jI4QBuBHC7iJygqtudbRwJ4HsAXgUgNsgmIiIiomIqSgn0FQDGA5gFYGuF6/gCgBkAzlLVjQCgql0A/hPAIhF5j72wiJwGYBGAy1X1lnD5jQA6wvVc6tnGLeG/kytMIxERERE1OFGtqDbEiBKRQ1X18fD/GwEcpqqS4ft7A+gHsFVVD3fmHQHgUQBdqvpma3oXgDYAR5iA25q3EcAkAJNV9QU3nWFJ9QYAq1W1LW06iYiIiKjxFaIE2gTPVTgOwD4A7vKsewOA7QBOFJE9ASD8fBOAbW7wHLo7XN9xNU4nERERETW4QgTQNTAj/HwyYv6TCOqDHxn+fVT4d9zyAHB0TVJHRERERIWxuwTQE8LP5yPmm+ktFS5PRERERLuJQvTCsTvbd999Na6e+qRJkzB58uTI+Vu2bImdn7eBgQGMHz++bttvhDTUe/v1zgNA/Y9BvbffCGmodz6o9/43Qhrqvf165wGg/seg3ttvhDTUOx+MxP5v2bIFW7dG9zmxY8eOF1V1r6o2oqqF+gdgY5DsTN85F4AC+EbE/HvD+TPCv2eGf6+LWP6b4fxzIuYfHs7vrnZ/jznmGK1Gtd+v1llnnVXX7TdCGuq9/XrnAdX6H4N6b78R0lDvfFDv/W+ENNR7+/XOA6r1Pwb13n4jpKHe+aDe+6+qCmCLVhmf7S5VOB4MPw+OmH8wgFcQ9MYBAA+Hf8ctDwAP1SR1RERERFQYu0sA/XsAOwC83p0RdmPXAuBWVX0ZAMLP2wBMDLukc70eQT3o3+eVYCIiIiJqTKMugBaRsSIy1Z6mqjsAXAngcBE53vnK4vDzO8707zjzzfpPAHAYgCvV6gOa/Nrb2+udhLqnod7bbwT1Pgb13n6jpKGeGmH/652Gem+/EdT7GNR7+42ShnpqkP1/ptoVFGIgFVvSQCoici+CEQsXqupPrektAO5EUDXjHVo+lPevVHWRZ13XoHwo78MA/AJB48vj1RnK2/re4ajRQCpz587VNWvWVPN9VPN9Kj7mAQKYD4h5gALMB4CI3KWqc6tZRyFKoEXkJBHpFZFeANPDab3hv7OcxTcgeLIoa34ZBrsnAFgN4DYR6QfwPwiG+H5fxKbfH87/Trj87QB+B+AEX/AsIheFafxTOOkEK52zMu84ERERETWcQnRjp6o3AZiauGCw7Dtj5m0DcF74L826dgH4cvgvzfKXArg0zbJEREREVEyFKIGmynV0dNQ7CVRnzAMEMB8Q8wAFmA9qo3B1oHc31daBJiIiIqIhu00daCIiIiKiRsEAmoiIiIgoAwbQREREREQZFKIXjt3ZwMBAWYX/9vb2RumEnIiIiKjhdXZ2orOz0540vtp1shFhg2MjQiIiIqLaYSNCIiIiIqIRxgCaiIiIiCgDBtBERERERBkwgCYiIiIiyoABNBERERFRBgygiYiIiIgyYABNRERERJQBA2giIiIiogwYQBMRERERZcAAmoiIiIgoAwbQREREREQZMIAmIiIiIspgTL0TQPEGBgbQ0dFR+ru9vR3t7e11TBERERFRcXR2dqKzs9OeNL7adYqqVrsOytHcuXN1zZo19U4GERER0aggInep6txq1sEqHEREREREGTCAJiIiIiLKgAE0EREREVEGDKCJiIiIiDJgAE1ERERElAEDaCIiIiKiDBhAExERERFlwACaiIiIiCgDBtBERERERBkwgCYiIiIiyoABNBERERFRBmPqnQCKNzAwgI6OjtLf7e3taG9vr2OKiIiI8tfd3Y22trZ6J4NGgc7OTnR2dtqTxle7TlHVatdBOZo7d66uWbOm3snY7fFCTkQ0si655BJccskl9U4GjUIicpeqzq1mHazCQZRCd3d3vZNARLTbUFX09vaChXzUqBhAEyXghZxodOCDcHH09PRg5cqV6OnpqXdSiLwYQBPF6O7uxvLly3khJxoFGEAXR2trK04//XS0trbWOylEXgygiTzMjba7uxubNm3ihZyo4PgmqVhEBFOnToWI1DspRF4MoIk8uru7oarYvHkzent7MWXKFF7IGwxLExtHEX4LVgloXFH5hw23qZExgCZymJKqe+65B1dffTWuvvpqTJ8+vTS/CMHC7iDN7zDaf6tGOQZFOM6sEtC4Kg2gi5DvaPRiAE3kMHWeAWDx4sVYvHgxlixZUprPi/bIc4952tfxo/23aoQAuihVI1gloDFVk39G+/ldKR6XkcEAmjIb7SenqfM8Z84cTJs2DdOmTeNNt87cPOe+jvflyTQ35iLn5bj9M/s1EsFtkapG7E5VAoqSt335x0571H4U5cGtHory2xcdA2jKbDSfnKqKvr6+yDrPXV1d6O3tRVdXF4DRfSwahe9G6b6O9/0O5sa8fPnysulpbs5FEBe4mv1KE9xWewyKVDVidwig7QbQReDLP2nO0SI9uNVa1DExbXf4YDEyGEAXRNwJM5JG+8lpLsqmznNbW1vZTXfFihVYuXIlVqxYASA4/kW5UcVp5H3w3SjTvI43N+ZNmzaVTW/kfc0iKnC1z9E0wW21x2N3rhrRiHmpaEGUnX/ctMftR5Ee3GotLh5o5AeLRjxfqsEAuiAaJYBuxJOzkmMQ9R1zUTZ1nu0A2lzQTzvtNKgqBgcHy0qji6yRL2xRN0r7d3Fvst3d3RARTJkyBX19faV5aW/ORRAVuNrnaFJwW6tj0NbWVlby2cj5yZaUzrj5jbyfI3mdrsUxMOdyt9Pvftx+jLYHt7TH0ZyzUfedRn6wSDqfkpZpNAygG9zAwADOOussrFixAmeddRY6Ozvrmp5GPDmzPFwknaSrV6+OvCj39PRg1apV2LZtG1atWoVVq1ZhxYoVWL9+fWGDMCA6AK0n+3eKulGam66vqoYJbvr6+spuwPYNeTQMkOOrkuCeo3HVFmoVaO2uAXSjMefy7NmzR+w6XasA2qT98ccfL6U96X4zmqrkpA0gzTlr3oIa5vgBaMgHi6SH9bwD6M7OTnR0dJT+ARhf7ToZQDe48ePH47zzzkNfXx+OPfZYtLe3l+bVowSt0Z76kxpSuTfzqNeb9skbdVE2F/Nzzz0Xp59+OhYuXIgFCxbg5ptvLlQQ5l6gkhrx1IN7MY36Tbq7u4dV1bBLaBYtWlR2A7ZvyEUeICfuuLjnaFyQUasHYnPMBwcHsXnzZmzevLmshKze+ckn6foZN9/0Eb958+aGeng25/K6detG5Dpd6T3Ilx96enqwYsUK3H///aU2KEn3m9ESQNvHMelcMefslClTyqbb1/FGPC5xD+v29SOvht/t7e1YunQp3ve+92Hp0qUAMFDRiiwMoAsgqi5nvapTNNLJGXUM7CDKnHB2/86+gNHMnzdvnndb5mL+5je/GVOnTkVTUxNmzZqFRYsWxTZmq1ReQYe7XjeIqnfVBt/24wJou6pGV1dX6Ua8fv16tLW1ld2AzW8IwNtYtBEDPZ9apdMXoFRSgmzOw1WrVpX6TrdLyBrxuCZdP+Pm9/T0lPazkR6e7XM57XW6mt8m6S1OVF7yTWttbS0VSPT19ZWm2283RiuT1+65557Ea6+vahpQ2W8/kkz6tm/fPmyeff2ottFztfOzYABdAGlOmJHUSCdn1DGwgyhzzMxJCsAbMPoCa5e77/Pnzy8LQBo9gPYFp24QVe967mlvJva+TJ8+vfRa074R+/ahra1tWGNRowg36jSvQuPOUXcf3WUrCaDNebhw4UIsXrwY733ve0v1zEfigayS3y3p+hk3v7W1tdRHfCO9wbDP5ZEIoJPe4vjyklvaauaLSKlAYtGiRaXld4cA2uQ1AKmuveZ6Z3fj6V7H63XMorZr0rd69eph8+zrR1x+qrZrUrcXrWoxgC4Ity6n74TZ3cQdAxNE3XTTTaUg2pykc+bMKfuOPXBK0gOJuSm5n4C/1NtOaxZ5BR1RwbG9H/Wu5262v2bNmtQlhEuWLMHChQtLx8t+M+AGEm1tbcMaiwLJjXMaRZp+c+1GWa6kALqSvGfOw6amJkybNg1NTU1YtWpVYkOwWqkkWHB7f3DFtYcQkbI+4hspwMtSwFHNdSapy8+o9dv5wQ2wTYHE/PnzY9fRSMe7UvY+mLw4Z86cVNfeJUuWeLvxtH9795rgTstL3DbmzZvnzW/29SPunEy6liTlZ6cXrb1S7lKkXAJoETlARP5eRI4M/95TRC4VkRtE5GN5bHO0evbZZwFgWF3OuDqQIymPEzLtOqOWM4H1rFmzcNJJJ5VKIqOCbXvglLQPJPZxdxuzrVixouoAupZBh73tpB4tgPrXczfbf+KJJ1KXEJr6kiZos98MpKknDEQ3zmk0cf3mujeQuNK/qPnr16/HihUrMuc9+zjb16u8H8iqCQLdB42oBxF7mv3duAeVeslyT6jmOmO/xfHtf1ReMvlh9uzZw+qR28c0Lo2NdLwr5XuQTXvttZez8785dlHned7HLelcbGlpicxvbqGUL61J/f/H5RW3Fy0AL2TZN5+8SqA/C2AlgBPDv78I4HMAjgBwiYhcUMlKReR4EVkvIhUVy4nIRBH5lohsEpF+EXlARC4QkeaI5ZtF5Pxwuf7we98WkYkx23iniNweLt8XPjTMqiS9wFAAbQKC1atXe0+YeqjkVW/a9SaJOwbm+/Pnzx9WR9k9Sbu6uspKUSo5nuY7ra2tWLhwYakhla/rtLRqGXT4SjriLtC+wGGkzZs3L7F0y92XKVOmlNUBTNoH90Jtfj9zobXnjZS4h0LD3W87f9k3EF/DpKQRHHt6enDzzTdjwYIFqev1uw/zbW1tZQ8wUfWsqxW1T1m0Wb0/+BpwpQmgkxoyN4o0AUkW9lucqNJCNy8BQ/l33bp13nrk7jFvtDYatRDXziPttdctuLGPYdR1IG9J52JcfrP3PyrNSdVU4goXli9fXtaLFhq1BBrAfADHqer/isg4AB0ArlDVVgCvB/DBLCsTkX1F5JsArgdwWCUJEpEWALcDaANwoqoeCOBcAJ8H8JOIr/0EwEUAzguXPxHAPAC3h+tzt/FRAD8DcB2AqQCOQvCU8wcRmVtJunfu3Fn6f1tYFywqk470xdrUJ6rliZm2q5s0LY7dG7mZZgeI5pWOPXBKJUypt4jgmmuuKbspVHKDr1UpcNyFOi5Yq3cAbUoq3DrKLjudvt86zXfNcXBLse15IyHugTQusLPzl30DcV+VA+U3GF/eaG1txaJFizBr1qzUdSmj0manMS4QrZRvnyrhq3Pvu7ZFXZvSjAhZC2nWFbeMb1411xm7Qa7vuPjykklHW1iNKk098kZro1ELcfuQNYD25X/fdcDO33ld15LOxbT5LS7GiSpl963fXsa8aZ45c6apb96wJdCqqhvD/58MYF8A/xXOeAzArozruwJBn32zAGytME1fADADwFkmbaraBeA/ASwSkffYC4vIaQAWAbhcVW8Jl9+I4GFgBoBLneWnI9jH36jqV1V1UFWfBXAWgJcBLJcKoyGTQUz9oag+PkfyZl/Nq944SRfHuJtmd/fwLup8JZHuK52FCxeW1YWthFnnlClTht0UKr3B1yKI9R3PuAA6rjQu7/xlB5C+Osq+7btBWtwxS9pfoLzqQdqHuVqJauCS1CvJ9u3by6qymBuI/arcfN+u1+vLG+b7pg5q0jGImx8VQNeiRMxeR7UPm74GXObB2j42UT1OjFSbgUoCaPta5zvm1ebhtrY2bz4yBQpufWYzry2srmDXI0/ajlHvNhppJB3XWu6DL//7rgMAhj1Q11pSuwIg/mE66aHYDqDTPEjZDw/mjabpRasW8gqg9xSRPcP/dwBYo6oPAkAYRHqrTMT4lKr+k6o+XUliRGRvAB8G8Jiq3unMvjr8PM+Zfp4zHwCgqncAeAzAR0TEfgVwBoBxnuWfA9AJYDaGqrSktn379mElmb4+PvN6TRN1EkS9nqtW3CsYu1Qo6rVwXMAIDH/dvWrVqlLJY6Xsdc6fP3/YTaHSG3wtAuioC1Ga0jRz3N3PSqS9+dulwXGv/dNenKPWb7j5xS7FTvswVw07wDEPpG73b0npcBu7mWNgvyq3f9O4kivz/bQ3qTQ3Mfc41WIAG3e7ac6VqN/LHCfTgGv27NmlB2v72Ng9Ttjrijq/s16T4/JTmnX5Ss1Nnved12Z+NdcZU5Icdc12H2p9BRxpt2MkvcbPKo9g0r7WpCn5T0pD0jXYdxzd64Cdv2sVK8QVakSlOU0A7Tun3LyTpj2P+/Awffr0xIKWLPIKoH8J4I8i8n8A/hHANwFARA4F8BUAT2ZZmao+XmV6jgOwD4C7POveAGA7gBNN0B9+vgnANqsk3XZ3uL7jrGkLws9h27CmLfDMi9XS0uItyWwLqyIYeb3WijoJol7PVbp+Iy5wMqVCZsQ530mQ9GTve93tdkiflVudxE6XfSOph6gSgaj84iu17PaU7GeVdINQHT4wRdyNN+tNz3zfLd315ZekANOXnkqZ/TAPpG9+85uH1cFOkw6773K35Nf9TefNm1dWQuh7vW5U09Wbu49GLQawcbeb5s1DXJ5pa2srPYisW7du2IO1Oj1OJAUFQPZrsu8Bz13X8uXLI5dxS83tPG8fL7dAIqrf+7TiXpu7x8V9eKo0mPFdY93/p5VHAG2vN03Q61vG3a+4/BEXQBt2/q40VvClybfduDeZ9vft5ZIertzzKerB1Q7g3YcH80az0QPofwNwLYCdAC5U1R+H089BUAf6OzltN8qM8DMqcH8SwBgAR4Z/HxX+Hbc8ABydchu+5VPZY489vCWZbgAdVwoQJ22pR1Sg676eyyLuBHTTMDg4WCoVMgPK2MfALAfED2Pq9txQ7T646zTpcp/C4566K5V2HW5aAHhvqPYFx1xkTb25NH1kR6UvTbDZ0zN8YAr7mFXbKMa8lneHXfddhN2SG19eqsUDq70f5oF00qRJpTrYafK0SUdLS4t3G21tbcN+U7sUMilfJr09SZrv/lZuIFqptI1hzacvz9j7al9LzLlh90Vs9zgRVaXGV8iQ9UEh6pw269q0aZN3Gbs6mtmeneeB4XnIV02lFuLODd/DUzUBdNSDddprYx5vbn2FAT5mH6LaErnXz1tuuSVzd372eW4ejqupPmJvL64NlK/etW9ddl5JeqsUV9jhps3+274GVtumyDWmpmsLqeorAC7zTP9sHttLYUL4+XzEfDPd3IWyLp/0Hd/yqbzYvC/++aq7S3/3TzgO/3zV3VBV/GFTM7b85C6ICPr7+9E/8QR87Oq1pWXvu+9xvOapu32rDdbV34/+/v7IZbZsfAg/X3Edtk3/ezxqbQsAjjmsJVXpwa9v6kL3Xw/Asy++Mmzevfc+huf7y9cb2B/Xhvts0vDomMNw68rrMfPUf4Y8Idgafsfso1lu+6HzoOExivKgdZz6JxyHrU8Nba9SDzrHHtgfq35yV9lvZEv6bVz9/f048MADM61j6DvD02LnF7Me89k/4ThsWb8LR576Cfznrx7Az1dch0f2fQ2OPPUTWLZ+F+T+dOn2/TaTD/c/Q6oq/ua08wHAuw1VLW1/6y+vSVyfb/3T5i3GL26+Fu+9/Jqy7/XH5Jf+Ccfh9K/937Bjb6cn7fFwucflwYknYPLkyTjy1EOG7Wffy0d605g2HfZvuvS+V/DHUl4oz/v3WdvZa49mXPiPMxLP8WcH98S/rrgHL+8aTNxH8/esd38MT1d5zsX9bkCQ/2Y9GeT7By6/eliesc8fcz094jVz8bGr1+LBiSfgp5vH46fh+vv6+nDkqZ/A2r1eh/de7s9/vvNx+HXBT1Xx+8eD8izf9QIAHmg5Hn/a9Jh3mS0bH8LPV16PWe/+WGl7bp7ve/lInGddBx5oOR5Hnnpw6jxsrie+a5H9W/jyZH9/PyZPnow/PDEG+xx4fKpjEpeGsv0Of4tJh726tG/r1ydfX/v7+yE7tqe+lrjb9h0Hk6YbrloFCLD90Hmle+eWLVu8y//+5tuw/rryNPT19WFD+L2tj/0ZP19xHY6Ydxo2rI7Owz5mvup+wbF5cj9cG+Zv8xu8s/UgnDwruU7wx5f9GreFaerv78f6ni3D0mOYPGDuH+4y5nzrv++VUl4BEHstc2Mcc/zN9cs9FkPXsuAal3S9qEQuAbSPiLwZQT3g1apa2dmzG3px1yB+dee68omP9OKlLY+j75ffxHNN++KgGa/D1q3PYe+9J2HNI73Ye++9oap4srcPMnF65FPXli3P4sX+6GV0z6k45NQL8OjW53Hvdd+CjJ+G/Q4+CluefQm/f3Qb1nzupMT0X7t6LX6782gcPGEvjN1j6IWHqmLD/fegd/VVeGnsBEx+1Wu93zdpePmwY3DIqRfgpbHj8JdrLoOMn4Z9D3pVaR8RLte/51TILsHWzX+NPqZ7TcL9pfnjYpdNq3ydgWeffBj3XvetYfuX9Nvs2LEDe++9d9m0rVufw9Zd41Kvw/2OSYv5DU1+Wf/UAJ7s7QNaDrHWNw5be5/Fywf+Lfr3PACHnHoBesdMgRw4FQ/0PpvqeNjps3+bLTHHeueUmQAQuY2XD/xbPND7bClPJK3P1TxjPg6ZeITne0EecI+7+Xvr1q2l42gvY9JTKXc/XtxrEp4e3GvYfm58ZX/IXlLKX24606Vj6Df90933lOWFUnqs3+zlVxRPPvMCTpo5Bf+QEEDve9Qb8L9rn8RhB+yN5ianHrC1j4890ou99gr+bj5s5rDzJbvy380+Ls8//zy29fbhuRdewr3XfQv48GVlx9o9f4bOjy/i6cG9hp3PW7c+D8TkP7O+F8YdgH322af0Pd91wefZJx/GulVfAyBomnAQ9jv4qGG/87aBv+JBa5nmloMAILje7+k/rnaef3GvF/DHu9YGx2P/qRgYeAbjDpyROg+b64l7LbJ/C8PNk1u3PocNjz+Be6/7Fg499Xw0T6rstx92HbR+i0edfYu7Npp1HXBA+muJu23/cQCef2V/TD/tQgBSune+NHYCZPw07/IvTZ4xLA2b1t+Hx68PvjfpyNfg4FPOx0sKHHxKdB5284s9/7mnHik7502+fPzp5zHwwk7sueXBxAfllXf8GVuv/zZk/DQ888x2PNZ9LabOe3/ksbPvH+b8N+mz741i5ZW4a9nWrc8B2LuUv83xN/u9TYfmqSo2PLYJG5/ZieZmq8ndI732KifF7nAa5tVPLf8B+DSCnja+EP69JPx7EEGPFO+oYt0bg2Rn+s65ABTANyLm3xvOnxH+PTP8e13E8t8M559jTesPp030LP+ecN41Wff3mGOOUZ/BwUE9++yzdXBwsOz/F198saqqrl27VltaWnTt2rWR33/Pe96jEyZMiFxGVfXiiy8uW7+q6mevW6evv/Q3kd+xt3Hykgv10E91au/AC6qq2tXVVUrfhAkT9D3veY9edNFFZfN8afClxd1Hs1yjMGk1+2ck/TbufrjHv6urK3Ed7nqi8otZzzXXXDNsfeb3uPjii/Xiiy+O/H18li1bNuy3sb/vrqurq6v0L4o9r5LfuqurK/Z77jxf3reXqUV+863D3YYvXbYsv0tXV9ewfTLsPLX+yQE97NM36q/u3Zy4zh/euVEP+/SNuuXZF73z7fPX/sySbncf4tavqnr22WdrS0uL3n333cOujarD82fUMbHn3XLLLcO2aZhjd/bZZ1e0b4ODg9rR0aEdHR3evOZbxs0bvrzk5nmzL3fffbe2tLTosmXLEtNmXwfijpPNt81du3YNO45ZRG3bXFvcffNdG82++O6ZWbYddxzM72Ifr89//vPe5X33CPt3NtNNfjb5S3X4fSQqT65duzYyvXMvvEY/cMXvE4/Brl27dOqHvq7zlvyb7tq1a1j6fPk96rx39zvuvuAub/KO+/u5++eejz4IOreoKtbNqw70KQDaVfXzYa8bnwdwK4ADAJyGoI70SHow/Dw4Yv7BAF4B8Gj498Ph33HLA8BDKbfhW74qdp0eX30ju2srn7S9aLj1h7q7u9EkgsEUdcZ6enpw60+vgGzbiAP3GwugvJuaRYsWYebMmejr64NqdLdp5snYTUslDYlGkohgypQppf0zstZBsxsQAcG+2L+vry65anndPl9+sRtSLly4MLJ+mek+MUtjI7euo1tH1PdbJ1UJsudVWm8y6nvu8TJ/23W/3WVq0RDFtw57mjv0rZsGd/mkfB5VH7DbaaxoZmmK87yUxxKWqdVwzPb3zHoHBwfL+nBWDeoD26OL2sfJzZ9p6rvb9cx99TPtQXh8+xZ1fTPbt3vv8R0vexkAsY1u7XTa06MaVcWx65Db50Nc4zB7m27vUZW2OYmqW22uLe6++a6N5u+sbRjc5aO+b47TvHnzSufalClTcP/993u7fLXr1tvTwoE+SvcO072m3eA9TZ/uvu4tbQLFLuvcibL2nh5sveFyCKSska35LePaMrU5jQqB4e253O8Y7u9lzkE35nHb6NSqg4AkuXVjp6q/DP9/HIBDAVyiqttV9eeowQgwGf0ewA4EDRjLiMgRCOom36qqLwNA+HkbgIkicrhnfa9HUK/599a0m8PPYzzLH+MsUxMms/n6eTQtblevXu397vbt21MNmGCfBGaZ5ibBrsHkG2trayuOfvfHcfChR5TdFLq6ukon0KGHHlp2Iti9JPgCaPvTvSg0WgANANOnT4/sa9fXmj/uQrhp06bS/O7u7rJ1uOuJ687Pd2FtamqKDCB8w68mHU+zXpP/3EAwaZ+juHkiq6jvRd0gAXgHJjHrqjZf+dZhT3OPfVIXcGnT47tR2fmyKcwHKU5zDIYLNXnyjtmW21NNlt/cZl9DgKHfadWqVWV9ONu9aLjXDVV/Q8aovJHUeAkoH4QnquGUL4C2p9nBblS3c2YZu9FtXK9E7nQT3CZ1E2m4gTOAYY2PXW4A7fYeVamoggf72tLW1lbWraM5xvZDQFdXV1kBhC9N7r65245Kix3omfVOnz69rLDKXrevv3szbe7cuaU8YLrXtB8+ogpFfPN9VBU7+jbi6cf+nPgw8drZszH51M9iznFvKmtk657Lbl41n770xd0TDPPbRR1/AMPypdl3X+FVreUVQNt1qz+IoP/lbmtabnskImNFpKxGvKruAHAlgMNF5HjnK4vDT7dnkO848836T0AwGuKVqmqPZPN9AC96lt8XQDuCaiK3ZdqZBG4g6fbzaLqr8jEXGfuEjLv5trW1lVrdAoo0eVJEIAf+DeSFZwAMXVxMP7dtbW1YsmRJ2Ylg5sXdYOOeWH0qvVnXgtm/qL4q0wS+q1evLl0M7rnnnlLLelMinFT64G4zy4NH1Lp8Qbthl8KYZeJ60chSGpTXg1DUBdouwTTTtm/fXtP0xJVWuumK6wIuSz5PCrZMVeb7wh4c4pggOy6AdoOouN88LjBzryHuGxS7D2fTi4a7r2YdfX193n13pW3Bb0oJAQzbt6g3HHaBgR1A23nNF0C3tg6N4md6JUrDDm59D1H2JzD8QdKcD4B/9MGoknNfaWNWUb+D+3Bm9lF1qDeMrq6usl5J7AKINAG0u+2otPiulUuWLCkrrHLfPEQNgnLmmWdG9u5kuPkl6W2ye9wevv6/Maia+F0FsOeUI3HUq141rPeqqIc9IPo6BvgLZoZtV/09Ebkxj32dNnyFV7WWVwD9gIh8V0QuBPARAMvNDBE5BcBLOW0XANYAeEqckQUBfA5BFYplplRZROYDuBDASlW91l5YVVcBWAHgM2EDSIjIYQCWhuv5vLP8JgD/CuBkEflXEWkKg+dlAMYCOENVhzdTrxG7VMF0VzVhwoTEi5w5qdwLny9AMt0e9W98KFUVDgDYa+99sKNvI1R12GtOO83mRDCvXNxqC3H7nSSvPrLTiLrQRj25RwWr5mIAAAsWLMDNN9+MlpYWqPpHhEy66fseQtIGEL6bv80cbzv/2QGB+3ukrdKS54NQ3A3SHBf3rU7W9MSV8EWtw05HVMmpUWk+910PzPrX339/8vdNWmPuJu7xjfvN4wJo9xrivkHxvV521+nrpi5JmuuMKSU01zL7Qcv3hsPXraJh9qu7u9ubP0x1jqlTp6YuZYurghRViug+SK5evTr2ASiumkUt+Nbjq8owb968Uin9VVddhfXr12P27NlYsGABbrrpprICCFfUORkVvNriAuL58+dHPjj59jNNQYd9vsb1iez7fmtrK/7m3R/HhOmvTnxANIfCLGKvyxz/bdu2RVbT8qUv6brv3tt8x9+9Ttt5N6rwqpbyCqD/FcCrENR1vgXB4CkQkasAXIegj+jUROQkEekVkV4A08NpveG/s5zFNwB4Bs6Q36q6HcAJAFYDuE1E+gH8D4Ihvt8Xsen3h/O/Ey5/O4DfATghXF8ZVf0fBPW/TwPQi6BO9d4AjlXVNVn2OSs7CPJV6bBF1buyl3UDaHPDWrhwIQ46ckaqV7sAMDiwGQ9c93X09PSUveZ0qxa4r1zsagtZ+G6+1fR7WQtRNw/f4AhRweoZZ5xRupHNmjULixYtKlUriKrLbm/XV00gbTrdecuXL4+9+fvyn12lw/090pbw5f0gFHWDNJ/d3d1lrx3TPuQZvrzp26eoQMd33toqzee+NDTF/xRlTDqjSqB9on7zqODFLolyryG+a58bHPtK/bLUxU0bANo3dbv6nNsmZfv27aUH4aj8PG/ePO/Dsb2tLKVscedPVL+9dnUIE6DYx9nNa1HT8wygo6oymFL6k08+GTfffDPWrVuHWbNm4aSTTioVQPj4qknZJfcmL7nXV990O932g4c92mjctTjLcct6TRcR7Dvl8NJycW/TzOloznF7veb4r1y5MjYvumlJuu6797ak67O7D2nvK9XIJYBW1adU9S2qup+qvl1VXwynv09Vm1T1KxnXd5OqTg3/NauqWH8vc5Z9p6pOVNXVnvVsU9XzVPUQVT1QVWeo6pdVdVfEdneF82eEyx+iqueq6raYtP5MVU8Ilz9QVd+lqvdl2d9q2BdwtzGFEVfvavv27WWvvuzX7KZkp7m5CbtSlrrtM+0ozHz3v5QuqOY1p69qgX0zqLQOk+8iMBInUhz3xHdLm92HBPtC4DbAMSVrdrUC83rQvmG79RCrrWpgr2vTpk3Dbv72619f/gOG6rwBGBZgpLlR5P0gFHWBBoYCuAkTJgxrgJnmIS8qMPTtU9SAAr7z1lZpPveloUmCEu+ne59MPP8GSwF0/Haijq+vyoB7E7aDGvcaYt9AfcGx79jXKqBzmfW69Tvd4dZXr15d9iDs09LSEtvQu62tLVMpW9z543vodQtR7H2Kymv1uta654hp3zFt2jS85jWvKR3n+fPne4+7vZ++alL2fF81hTQBtEmf/QYl7X6lkTVPd3d3Y2LLBAxqcgCddI7PmzevVMBmjlvcG480abbvbXH5yaxjJM9zI68S6BIROVREXhf+f8T6nd7d2TeTLPWuVq9eXdZAxX3NvmjRotLNNQ0FsN+Uw0rbsoM/l3szyFqHKe51eN4nUhZ2afOUKVPQ29s7rDW9r0qHHSiY/9sBQ9RFvpZVH0w1gpkzZ5bdhHw3ETef2XXe3At2mt+nng9CvkaFWR7yogLDLK820+x/Jfncfz0AdvZvwO+uXZ54/pm3UYL43yVNAG3ve1RQE3cN8W0nrkFtXuy8HlU9wt4PX1CWJoDIck7ELet76HWH+o56sGsE7vXQrvZgH2f3b8Mcf181Kfv3811LsxRORL2FrYfu7m5MnDgRgxH7ZTMBdNQ53tLSUtZwF0j3xjAuD2W93tfjPM8tgBaRD4jIIwiqVNwYTv6xiHxN6lUUuBuxgy1b3FOyKWGYPXt2qYGK+5p9/vz5aJJ0rfOB4NXPlAMne9Pmck+YrHWY4k7YRrnYuxeq6dOnD2tNby/jq4sLDK/bFteiuZZVH8y6Dj300LK6ue5Qs778ZwdHaVpg+9Trd/Q1KgTSP+TFlf65+xR340ja/0qPj/u9JhHsceAROPE9SxLPv9LNtYKruns+pH3oj9tPd149qnDZ27Sr3nRbvUGYrs4Af6lmJVVNqmE/9AIoVR8xVR3c4xj1G9T7WuteG80/d5ph50FfA1P7+uleS83b2qeeeipx6G7D9xZ2pNlVogY1+R5RekiOOMd9Vadqcd65v1WcepznuQTQIvIBBI3n/gjgYgDPhrM+CeAgjHw/0LuttrahxmpdXV2xAbQpNVm3bl1Zn6T2ugCgWdJ1YwcEN9epU8v7Ykx788v6BFrvus5puBeqJUuWDGtNnzXgbWsrb9TjBiW1PC6+agSmQdQdd9wxrL5m1O+Ztf6wb30jKepBxn3Ic197+77v8u3TSAcnw4P4IM0tU+NHcwOG14/MIqrUyFfqZzf6ynIc6vHmwt6mOWfOOOOMYX3WuvsKDG/UWcuHpjTXXnM9cauPpD2OjRRAR02z/3brTccFgu611Lyt/clPflL2xjZO0huUkWD2eeCJv5S1OYpr0AdEn+O+h71anHdZAuh6nOd5lUCfD2CBqi5W1csQ9MEMVX0SQa8cp+a0XfIwJ8s111wTW+rnVheIuujYr7aSDGq2G2vchS5Jves6p+E2JjL19OzW9GlLemy+Ei9zMa/lcXEDSfOqecGCBVizZk2qgXns9GZtJFpPdoBhuMc2KoCudFv1Ys7ZV884OnHZoZtr9u3YbS8M94HQ/D+q0Vca9Tie9vXS7h0JwLAgLGqQjjTprlUAbS8TVX2k3vkyD2696bhA0K7qaL67ePFivP/97y97Y5uk3sfR7PMBh74aqsn3iKGH5Oh1ZikIyMtIby+vAHqsqt7hm6Gqz6O8n2jKmWm4sHXr1sgW3fYrQxMcRWXGTIMsqFb0atfIekLU+8KUxG1MBARpdhtQZumnGfCXePkaataCHUiafDNr1iy8973vTd3gI0v94UYRdQzNdF/j2zTfb0SlAPrVyQF0Uj/QcdyAxIgr9atEPQNoI6oakLt/9XyT5vYG5FYfKVIeTisqeIxro2Efp2nTpuGggw4a9sY2Tr2Po9nn5qahUYXj0lRqRBgTQTOArp2xIuIdQzGcvl9O2x11BgYG0NHRUfrX2dmZeR3myfmWW26JLCGMq9rhag5zTZpqHJqxBLpa9b4wxfG9igaCNLtVASrZD/OdqCC9VuyA0bzRMK8ls9TXHImO7keCOR6+xre+5YrA3CfT9PdeTR1owD8ima/Ur5HfLCVpaxveZ63h7l8999cNGouUZ6th76f5f1QA7eZXc5yKdqyC9ErpATg+gA4+i3sGAp2dnWWxFIDx1a4zr5Lg6wDcKiKXA7gDQLOIHAxgDoBLAVyT03ZHnfHjx2Pp0qVVr8fU6fINwuDWuUtivp/25mpuxm7Xarsb82r2nHPOGTavklJnl33hH4njbO+PXSqd1pIlS7BmzZqGrrOehXmda/5faKUAOnnRoQZGld1eTduLuXPn4swzzyxNH+n8nCf3/HD3J+nvkeA2Xi76Mc/CF0BHMfn1nHPOwZw5cwp7nNra2nDVD9ekegN4++23A6j8HG8E7e3taG9vL/29bNmygWrXmVcJ9OcA/AXBCIT3A3gtgMcB/BzAEwgaFtIIimu4kLXRmilRTvPmPQigh+qH7s6SXs3W4kIcVcqdh0rqattGQ8mizbzOTfsqt5HPh6FzPM1bJq2o/rMR1x86MDoCaCNqPxohgK7niK2NJq5btyI0Vk+rSSRVQdjtd95ZWp6G5DWQyouq+nYAJwP4EoJA+ksA3hIOLLIzj+1SvKjXTFkvCKUqHCkbEfKcCyQFjLW4aY7kTbBWraxHE/cciwuSixFAJy9bbTUtX334Rj42o9VoCgwrkWZAH2B0Pfg3NSWf46qK/t7NVT8oj0a5DqSiwQiCn1HVs8LPW4BgcJU8t0t+UQF01gvCUCPCdKVTdl/BRWkwlpe8A8aRvglWuz+7awDd6OdD1jrQ1ZZM9fX1lQUs9sAWjXycRpPRFBhWImpAH5/Rct2SFCXQPT09+NnKq7CzfwNLoB25j0QY4YY6bZciZLkglLqxG0xeNujGjq8HjbwvvCN9ExwtN5I8xI1a1ujnw1A7h+RlBxVVty6yB5fwDWzRqMdptNldz+e0A/oYo+U4CZJLoFtbW9G+8H3Y48Ajit2KMAd5DaSyv4hcJiK3ichfRORR+x+AmXlslyqX5YLQHJ5EaapwaFg6tbu/HhxJo+XiXnTLly8fFvz5hmhvRKYEeiTqQAPlbTR8A1s06nEabXbXa0fcMNCjuTpRmjrQIoIDpx4MEWEJtCOvXjiuAPBmAHcCeASAXVYpAN6R03ZpBJi+INO93g1O0t399eBI2l1vgo1m06ZNZcFf1BDtjSh7TzvV74fJt76BLRr1ONHoENV3vnvOjjZNku4t098deyx+eusLrAPtyKsKxxsBzFLVdlX9kKp+xPr3YQBdOW2XRkDWm6u57jCwo92FqqKvr6+s20i3lKuRz4ehEujkZWvV17s5HrXo0pEoi6gHtdFehahJBIrkk/zvjj22tDwNySuAflhV+6JmqurCnLZLI6DZBNAp6kDbN1feCGl3YW6806dPj6y20cjngzvaaNxr7Dx62rGPTSMfJxo9atFDVdGISKr7eLWDJY1WeQXQy0XkHIl45yEid+a0XRoB2Vvo55wgogZjbrxLliwZNjyyO2x1IxLnHI8PoGtThcPGoJlGWi16qCqaJknfziFYfnQeh0rlVQf6IwBmALg0bDS4w5k/K6ft0gjI0o1dHjdXokZnbrwAho3uVoSBQeyBVJLqgapVTYtotGn0c7UakrIO9NBoo/mmp2jyKoGeC+BBAOsBvICg4aD9jwrMNCJMNxJhsYf/JKpUW1tboeo92+wqHEn1QAdrVAeaqBEV5ZytRNqRCAdZAu2VVwn0w6o6P2qmiKzNabujzsDAADo6Okp/u+O514OpkrErxaMrRy+i3ZVpxR/XE0ejMikbVE2sB8pqWkTFFAykkrycqSdd5PO8s7MTnZ2d9qTx1a4zrwD6bb6JIrIngF0Ajs9pu6PO+PHjsXTp0nono0zaKhzd3d0cypt2a24dSlOae84552DOnDn1TVwMc86qJtcDVfAtE1ERBQFxioIwDA0wU1Ru4eOyZcsGql1nXlU4Ph0x/R8BPAvgfTltl0bAUD/Q8csFATTrQNPuzX4FXJRW/SICydDAqMglU0S7q6aUJdDmMsB7ebm8Aui/901U1Z8BaAXwrzltl0ZAml44VBWbN/dicLCxX1UT5c0OoIvUqt++ucbVAx0cBIRNW4gKJ2hEmL4ONM/ycnkF0HF2ABhXh+1SjaSpwmFeVe/s38DSKSJLURolNVk319gAmiXQRIXUJILBFEXQZpGmekSMDaxmh0NELhaRXSKyC0Cr+b/7D8DjANbVars08koBdEwH7K2trVh4+unY48Aj+NqHyFKUAFqQsoERe9ohKqSgmlbyckMDqfA8t9WyEWF3+CkAzgbwXc8yOwFsAHBdDbdLIyxNFY7gVfU0yEvC0imiAhJBqmF+FcqSKaICCobyTsY60H41C6BVdTWA1QAgIoeq6r/Xat3UWNL2wnHivL/HD3+zg0+tRAXUJJKqdErZDzRRITWlrAM9NBJh3ikqllzKDVT1jLj5InJcHtulkdGcsheOE08M2pLy5kpUPE2ClPUj2dMOURGlH0hlaHkaUq8Xb9+p03apBsw5lDSQyiCfWokKK20XV4PK1vlEhZR6KG/2wuGTSwAtIgeJyI9F5AkR2elpSNjYnaBSLPMUmtRHLJ9aiYorSxdXPMWJiieoppWhGzue6GXyGonwSgCHArgewDYAdn8NAqDD8x0qiLRVOIZOurxTRES1JilvrsoqHESF1JSyBHqoEWG+6SmavALovwVwtKru8M0UkZactksjIG0VDg0fm3hzJSqeJkkzyC8bERIVVdoS6FIAzQi6TF51oP8cFTyHLslpuzQC0lfhYAk0UVGlb2DEKhxERSSp2zmwPZNPXiXQXxaRSwD8t6oOeObfDOD1OW17VBkYGEBHx1CNl/b2drS3t9cxRXY3dvHLDZ10POuIiib9zZV1I4mKyJy1qhp7Dg89SBf3PO/s7ERnZ6c9aXy166xJAC0ij3omTwTwORHZimD4bttBtdju7mD8+PFYunRpvZNRpjl8b5FUOjXIelNEhdUkyW+ZAFMHegQSREQ1ZReGNcecw6OhDrRb+Lhs2TJf4W4mtSqBHg/g5ymXFQDvqNF2qQ7Mk+quhJursuUuUWE1iWBwMHm5QdaBJioke1Th5pjSZb5N9qtVAP24qn4k7cIickuNtkt1kLYOtJnLk46oeFIP5c0SaKJCMo0Ck140cShvv5o0IlTV12Vc/s212C7VR7N57ZNQOsWGB0TFlWkgFd5YiQpHrBLoOOwQwC+vgVRuzGO91BhK3dhxIBWiUSvNQCrd3d3hUN4jlCgiqpmht8nxy/Fe7pdXLxzHiMjnEd1kUwH0A1ivqrfllAbKSepu7Ab51EpUVEEfsfHLdHd3Qw/5R5ZAExWQOWuTHpSVJdBeeQXQUxD09ew73GpNVxH5HYDTVPXpnNJCNZZ2JELWmyIqrqYMQ3mzBJqoeIZ64eDb5ErkNZDKAgC/APAmABNUtQlAC4ATAawA8HcADgAwP1z+yzmlg3JgbpZJIxGW6kDnlcuIKDdJdaBVFb29vdg1OMgSaKICGqoDHb8c2zP55VUC/e8A3qKqL5kJ4YAqt4vIXQB+oaoLAPxORN4J4L6c0kE5kNRPrez6hqiwEvqB7unpwcqVKzF30vGYeOirRzBhRFQLpXtz0tvk8JMPyuXyKhucagfPNlV9EcB06+9nAVTdoTWNnOaUXd+kacFPRI0pqQ50a2srTj/9dIw/+G/4kExUQHY/0HGUJdBeeQXQTSLyT74ZIvIhWHWjRWQqgD1ySgflIG0VDmUJNFFhJdWBFhFMnTo1aNTCU5yocLK+TWYJdLm8qnBcBuBKEfk0gLsBPIOgDvTrARwN4EMAICJnA7gQwK05pYNywIYHRKNfUAc6/hxva2vDuvuV5zhRATWlrQM9WL48BXIJoFX1ShHpBXARgEXhdnYC+BOAt6rqb8NF1wP4OIB1eaRjNBgYGEBHR0fpb3c893pIO3oRGx4QFZekGEilra0NX1t/O0umiArInLeJXdKOgrfJnZ2d6OzstCeNr3adeZVAQ1X/D8D/iUgTgEkAtqrqoLMM+4BOMH78eCxdurTeyShTqsLB1z5Eo1aTJD8kA0EDIz4kExVPaUyHhOWGGhHmmpxcuYWPy5Ytq7rtXe4djKnqoKr228GziHwn7+1SftJW4RjqBzrvFBFRrUlCLxyGKqtwEBVR9kaEPM9tNSuBFpGDAbykqlujGhBa3lar7dLIGwqg45fjQCpExZWmDjTAgVSIiirtvZztmfxqWYVjLYANAI4FcGXCsuzgrMDMzTJ1vSkOpEJUOGnqQAOmgRFvrESFY0qgUw6Kxvi5XC0D6LMB/DX8/wOILmUWBKMUUkGZp9C0IxGyDjRR8XAob6LRrVQHOmUJNG/l5WpWNqiq16vqzeGfX1LVxyL+bUQFQ3eLyCwRuUFE+kSkX0TuEJF3ZVzHMSJybbiO7SKyUUS+JiItEcvvLyKXi8hDIrJNRJ4WkV+KyPEx21goIqvD5beLyDoR+biINGfd50ZleuHgax+i0StpIBVDlec4URG5daC7u7vL5pu/WQfaL6+X618TkV4ROdI3U1WvzLIyEZkL4A8AXgRwFICpAK4FcIOIfDTlOt4F4E4AewGYraotAE4DcAqA20RkgrP8xHCbZwA4B8AB4ba3IRiCfFgJu4h8CcBKAN0ADgEwGcDl4b8fZdjlhpa2CgdHLyIqriYBNEVtO4WymhZRAbm9cEQH0OXLUyCvy94uAK2q+mi1Kwq7wfs+gJcAnKmqz4Y9e/wXgN8C+C8ROSRhHXsBWAbgZQAfVNU+AFDVNQA+AWAmgEucr10KYAaAz6tqlwa2AzgTwNMArgjXa7YxF8AFAO5U1YtVdYeqvqKqVwNYCmCxiJxS1cFoEOmrcJQvT0TFIZDSAApxBpXVtIiKSKwSaFVFb29vqeDL/ptjOvjlFUDfb4JUn4xVL04E8FoAnar6nDPvagDjEJQSx3kjgtLgNaq6zZn3q/DzwyIy1pp+Svj5G3thVX0RQBeAaQDembR86Jfh59kJ6SyE5tRVOMI60HkniIhqTjLUgeY5TlQ89kAqPT09WLlyJXp6egCg7O9SHWie6WXyCqC/JyIXikhUI8WLM6xrQfh5l2feXc4yUaaEn1vcGWFA/AyCUWlek+Y7AHrDzzdlXP6NMgqKasSpNxWFjQiJiot1oIlGN3so79bWVpx++ulobW0FUP63KZUWVtUqk9dIhGcC+FsAF4jIIwDckuOjMqxrRvj5pGeemXZ0wjr6w88p7gwR2RPA/uGfR2AoKO8HcFD4HbcqymRr+cRtWMvvh6Au9daE9Da0Ut+RCUXQHEiFqLiamoCdu9gLB9FoZQ+KJiKYOnVqqcDL/ns0DOWdh7yeJ+Yi6MpuHYDnEbzFt/9lMSH8fN4zz0zz9qJhuQNBKfNcETnQmfcWDB2Hfa3pptrF2+2Fw4C7LWZ5X/d9/2D9f1/P/EJpTt35uukHmicdUdE0iaTqsJ8l0ETFNNQhQPDZ1tZWNt/8zcIwv7xKoB9W1flRM0VkbU7b9VLV50XkXwD8L4CrReQsAI8BOA7ANxFUu5iM8iD9IgSB7yUisgFB3eYDEHTBt0e4TGl5Vb1dRK4AcKaIfBXAfwDYgaCnjw+F/98b/geBSFu2bMHcuXMj53d0dKCjoyPLKqsmEvx7JaGF0SBPOqLCskue4pjSKyIqFrFKoIHoALqIHQIsXboUS5cujVtkUrXbyCuAfhsAiMhRCEYmPAhBdYs/qurDACL7UfZ4JvzcxzPPTNuetBJV/ZGIPAHgfAC3IygJfwDAvwD4JwALAWy2lt8sIm8A8DkA/42glLsfwCoAN4Sfm1GuA8CfAHwEwEMIgubfIyix7gbQnCattsmTJ2PNmjVZvpI7EcHYMU14+ZX4AFpZB5qosATJb5kAUwKde3KIqMbiBlLp7u62AujijUSYVLgoIlVXpc0rgH5GRH4IYDGCoNHYJSJXIehXOa0Hw8+DPfPMtIfSrEhVuxD0oFFGRD6DoOu9dc7yfQA+5ln+rPC/a53lFUGXdUud5cciKL2+W1VfSZPWRjd2TDNe3Lkrdhn2HUlUXE2S3Nc7YEqgRyBBRFRT5rT1vWmyA+hSYRh74SiTVx3obyAodf0Mgh4yXg/gJAD/Fk7/eoZ1mdENj/HMO8ZZJrMwuG0F8FtV/WvS8qFjEQTc16dc/g0IjvW12VPYmMbt0YSXEkqg2XckUXE1ZajCwYdkouIxAyC5b5rcPqFZHdMvrwD6VAAnqOpXwkFI7lHVW1T1Swj6dT41w7puBXAvgHYRcRvgLUYwOuEPzAQRaRaRYaXVInKZiFzoWf+HENRNvtRZ/g3hcOHiTJ+EoLrHFar6lDPv1yLi61LvXAB9AL4XsY+Fk6YEuoj1pogoIMKBVIhGM7cOtOH2Cc1eOPzyCqAfV9UnfDNU9XH4u6TzUtVBBAOljAOwTET2E5EmEfkEgh40Pqmqm6yv3ADgiXC+7RAAF4rImwBARMaIyGIAXw3Xcaez/D4I6mpfFva8ARGZCeBGBAH9+Z7kHg3gSyJyWLj8/iJyGYB2AAtV9Zm0+93ofCXQ7jCgRaw3RUSBYCjvZKwDTVRMUXWg3T6hzXzey8vlFUDfLSJzfDNEpBVD9ZpTCYfcPhZBSfEjCAYmOR3AKar6HWfxxxD0O+028LsRwB8BrBSRpwFsAPBeAG9X1f/2bHYDgB8jKG3uDxsg/gjACgDzPaMiAsByADsB3CUifQDuQdAv9GtV9dYs+9zoxo5pTgyglU+tRIUlKetAK6twEBXSUDd25ee52ye0hu0c+KapXE0aEYrIPzmT7gawSkR+C+B+AH9FMFjJLADvQtAVXCaqel/43aTl/hnAP3umX4sMdZBV9TEAH8yYxi8A+EKW7xTV2DFNqatw8JwjKp64OtBuC32e40TFYxoF+nrbsbu0G9TsA3jsDmrVC8eVEdNfFTH9Kwi6hqOCGrdHM16wAmi70YFbr4qlU0TFEwTQ5dPMW6byAJrnOFERDQ3lPTyCLg+g+ZbJp1YB9APwj8DnIwB+UaPtUp2MHdOE7TteLv1tGh2cc845mDNnDgC23CUqMpHhN1a3mhbAEmiioopqROjiQ7JfrQLob4RVHlIRkW/UaLtUJ+P2KK8D7TY6ADiQClGRNcnwVoTmTZP5v4TL8OZKVDylwq2Epg4KPiT71CSAVtVM3bNlXZ4az9gxTXjplaEqHG6jA4BVOIiKrMkpgVZVrF+/Hr/+9a8hIvjoRz+KOXPmhK9365hQIqpIU1N0HWib8iHZK6+RCGmUG7tHM17cWd4LR1tbW+kVb1tbW6kPWd5ciYpHnDrQPT09uPnmm3HyySdj0qRJpbdNfL1LVExxdaBtg4N8SPZhAN3gBgYGysZzb29vR3t7ex1TFBg7pgkvOb1wtLW14ZJLLin935ySvLkSFY9bB7q1tRWLFi3ClClTICLl9Sd5ihMVUPo60EWvitnZ2YnOzk570vhq18kAusGNHz8eS5curXcyhhm7RxNedPqBVlVs3ry59H8OpEJUXE0iZQMsmGpadut8gK93iYpqqB/o8ul2LzvA6Ggo7BY+Llu2bKDadTKApoqMG9OMl18ZLOu2rqenB1dffTUA4KMf/ShUJwLgzZWoiNw60EDwZskNoFkHmqiYmsRfAu0G0BwsyY8BNFVk7B7BIJYvvTKIcXs0Awhe8S5evLj0/wf+FIywzhOPqHjcEmgAw4JnIGjAz3OcqHh8Q3n7xnQIzvE6JLDBMYCmiowbEwTNq/+8BfvsOZSN9MCjAQC3P/w0/tz3LACeeERFJCJ48ZVduO0vW2OX2zWoha8fSbQ7MqftfU8NlArC/nL/vbhqxSoc+4+L8DczXwsAeOqZF/iQ7MEAmipywL57AgDO/tFdzpwggP7N8j8AAJqbBOP2bB7JpBFRDew/bgye2bETHwjP5aRliahY9h+3BwDgazf9pTRNVbHvKZfgkjueh9w5dO4ffsDeI56+RserHlXkHbMPwmEH7IOduwaHzVu7di1e97rXAQAO2GfP0klKRMXxibe8Gm+ZOSVpjAU0ieC1B1fdoJ2IRtihB+yN33zi7zHwws6y6d///oM444wTyqZNb2EA7WIATRVpbhLMmT7BO+8Nhy8Y2cQQUc2N26MZcw+fWO9kEFGOXj1lv2HTnn/zXLyB536ipnongIiIiIgag6+xMA3HAJqIiIiIKAMG0EREREREGTCAJiIiIiLKgAE0EREREVEG7IWjwQ0MDKCjo6P0tzueOxERERFF6+zsRGdnpz2p6r43Rd2xWqmhzJ07V9esWVPvZBARERGNCiJyl6rOrWYdrMJBRERERJQBA2giIiIiogwYQBMRERERZcAAmoiIiIgoAwbQREREREQZMIAmIiIiIsqAATQRERERUQYMoImIiIiIMmAATURERESUAQNoIiIiIqIMGEATEREREWUwpt4JoHgDAwPo6Ogo/d3e3o729vY6poiIiIioODo7O9HZ2WlPGl/tOkVVq10H5Wju3Lm6Zs2aeieDiIiIaFQQkbtUdW4162AVDiIiIiKiDBhAExERERFlwACaiIiIiCgDBtBERERERBkwgCYiIiIiyoABNBERERFRBgygiYiIiIgyYABNRERERJQBA2giIiIiogwYQBMRERERZcAAmoiIiIgoAwbQREREREQZjKl3AijewMAAOjo6Sn+3t7ejvb29jikiIiIiKo7Ozk50dnbak8ZXu05R1WrXQTmaO3eurlmzpt7JICIiIhoVROQuVZ1bzTpYhYOIiIiIKAMG0EREREREGTCAJiIiIiLKgAH0KLd06dJ6J4HqjHmAAOYDYh6gAPNBbRQmgBaRWSJyg4j0iUi/iNwhIu/KuI5jROTacB3bRWSjiHxNRFoilt9fRC4XkYdEZJuIPC0ivxSR42O28W4RWS0iT4XbuVdELhaR/bLucy3wRCHmAQKYD4h5gALMB7VRiABaROYC+AOAFwEcBWAqgGsB3CAiH025jncBuBPAXgBmq2oLgNMAnALgNhGZ4Cw/MdzmGQDOAXBAuO1tAH4nIm/zbOPzAH4K4F4rnecD+BSAW0VkbJb9JiIiIqLG0/ABtIg0Afg+gJcAnKmqz6rqoKr+F4DfAvgvETkkYR17AVgG4GUAH1TVPgBQ1TUAPgFgJoBLnK9dCmAGgM+rapcGtgM4E8DTAK4I12u2sSeATwPoB/BxVd0RfufXAL4HoBXAqdUcCyIiIiKqv4YPoAGcCOC1ADpV9Tln3tUAxiEoJY7zRgCTAaxR1W3OvF+Fnx92SohPCT9/Yy+sqi8C6AIwDcA7rVktAPYBsFFVX3G28Zfw87CEdI46Tsflu2Ua6r39RlDvY1Dv7TdKGuqpEfa/3mmo9/YbQb2PQb233yhpqKcG2f+qB1IpQgC9IPy8yzPvLmeZKFPCzy3ujDAgfgbBwXxNmu8A6A0/32RN6w//HRmWRtv+Nvy8NyGdo04jnCj1TkO9t98I6n0M6r39RklDPTXC/tc7DfXefiOo9zGo9/YbJQ311CD7P6HaFRQhgJ4Rfj7pmWemHZ2wjv7wc4o7Iwx29w//PCLNdxCUZpctr8GQjmchqGP9bRGZKCJ7iMipCKp9XKOqv0xIJxERERE1uCIE0BPCz+c988w0by8aljsQlDLPFZEDnXlvwdBx2NeaboLdt9sLhwF3m2d5qOrPAbwNwPEI6kk/B+B/EdSvfl9CGomIiIioACQoOG1cIvIbBEHuW8MGefa8cQBeAPCyqsb2cCEiH0QQzHYhKCl+DMBxAH6EIBCeDOB0VV0VLj8NQS8c+wD4EIK60AcA+HKYngMB/FJV325t4yIAFwO4HMB/A3gWQbD9AwDrACxW1Wcy7v+ziH/Q2QJga8z8SQnz8zYewEAdt98Iaaj39uudB4D6H4N6b78R0lDvfFDv/W+ENNR7+/XOA0D9j0G9t98Iaah3PhiJ/Z+EodoCPk2qulfM/ERjqvnyCHkm/NzHM89M2560ElX9kYg8gaBbudsBCIAHAPwLgH8CsBDAZmv5zSLyBgCfQxAMtyCo1rEKwA3hZ2l5EZkP4N8B/FpVP2dt+jci8v+Fy38FQXWO1FS1Lv1HExEREZFfEQLoB8PPgz3zzLSH0qxIVbsQlECXEZHPANiFoJTYXr4PwMc8y58V/netNfmt4ectnk2bbb7TM4+IiIiICqQIdaBvDj+P8cw7xlkms7DrulYAv1XVv6b82rEIAu7rrWmmPrSvTsxg+Fl1tylEREREVF9FCKBvRdD9W7uI7OvMW4xgdMIfmAki0iwiw0qrReQyEbnQs/4PAdgbwcAp9vJvCIcLF2f6JATVPa5Q1aesWX8IP0/0bONEZxkiIiIiKqiGD6BVdRDBQCnjACwTkf1EpElEPoGgMd8nVXWT9ZUbADwRzrcdAuBCEXkTAIjIGBFZDOCr4TrudJbfB0FvGpeZfp1FZCaAGxEE9Oc7y1+NYKjwdhG5QETGSeA4AF9HEOj7AngiIiIiKpAi1IGGqq4RkWMBfBHAI+HkRwCcoqo/cxZ/DEH3cZud6TcCOAjAyrDaxg4AdwN4u6r+zrPZDQB+jKC0+TwReQ5AXzjtW6q600njThFZgGBo8PcDuAhBNY/nAKwG8J+qutsNpEJEREQ02jR8N3ZERERERI2k4atwEBERERE1EgbQREREREQZMIAuCBE5XkTWi0hknRsRebuIfFdEekTkSRHZKiLrROSzIpI4IIuIHCsir8Rtg+onzzwgIieIyHUi8riIPC0iT4nIb8OGttRA8soHIvI6EblWRDaKSL+IPCwiy0XkiPz2hiqRJg94vvNJEVER6Y5ZZi8R+aKIPBrmgUdF5D9EpKoR2ygfeeSDcJ3Lwt/+aREZEJE7RaRDRBgz2lSV/xr4H4L+pb8JoBdBg0SNWfY5BI0r54Z/NyMYZXEXgD8CGBPz3b0QDFqjcdvgv9GXBwCch2A0z4VmPoATADwN4Jp67z//5Z8PALwZwE4AvwNwcDhtBoD7EYwG++p67z//ZcsDzvdmAnghvL53RyyzZ/j7PwmgNZzWGv79OwB71nv/+S/ffBBeBxTATQCOsLb1lXD6VfXe90b6x6eJxncFggFYZiHd2PWfVNU1AKCqu1T1hwB+CuANAObFfO9yBL2MPF5dcikHueWBcLj6bwA4T1VXqeor4ffuAPAFDPV6Q/WX57XgMwh6ZTpPVZ8Mv/Mggq43xwP415rsAVUrax6AiIwB8L8Ark1Y9F8QjFlwvqr2AED4eUE4fdiovFQ3eeWDJgCvAFikqhsAQFWfU9XzAfwJwGIRmV9NwkeTQnRjt5v7lKo+DgDOmC4+b0H58OKGCYq9IyGKyDwEfW3PgX8ocqqvPPPARQhKn69xv6CqX8uUSspbnvngkPDzYWf6X8LPw1KmkfKVJQ8YnwWwB4LBwj4Qs9y5AF4CcJ0z/bpw+rkIxk2g+ssrH2xA8AD1tGfebQgevo8H0JUptaMUS6AbnDlJUi57p6q+6Jn1BgQDuQwbCTEc3fEHCE7IRytOKOUmrzwgIvsAeCuANRoMWEQNLOdrgemjfoYz/W+d+VRHWfIAENRrB/ApBNV3dsYsdySAIwCsV9WXnG2+iKAqz5GsD98Y8soHqvqIqn49Yvae4acvuN4tMYAepcJREA8VkW8AmAvgI+bVrOO/ADysqt8d2RRS3lLkgVYEb6GeFJF3iUiXiPSGDQg7wzcTVHAprwWfRVD69D8i8urwO68H8J8A1gP4/0c21VQtCUbQ/SGAy1V1XcLi5sHJd4+wpx9di7TRyMmYD+KcgOBNhDt43W6LAfQoJCInIGj48xiAdwB4n6oOe0UvIm9F0HDsjBFNIOUuZR6YFn62I2gk8lkEr/JPBLA3gFtE5IMjkmDKRdprgao+DGA+gC0AHkJQSv0nALcCeGPEK11qbJciGHH3P1MsOyH8fD5ivpneUmWaaORlyQdeYb3n1wG4TFV7a5WwomMAPQqp6h2qOh7AJAQlRz8SkRvD6hoAABGZgKAhwidU9Yn6pJTykiYPIOh5BQAmAzg7fO3/iqo+AuC9CIKobzrfoQJJmQ8gIu8AcA8AAfAqBHljNoKSyT+JyGtHNOFUFRE5HsA/A/iQqu6qd3qoPmqRD0SkBcAyAL8A8B81TF7hMYAexVT1aVX9HoKW9G9H0NOG8S0Ad6vqlfVIG42MhDxgSpVehtMoRFW3IOjubDyAN45AUilHcflARCYC+BGC1vfvVdVHVXVQVdcDOB1BA8JVYSt+anBhn81XArgo7EkljWfCz30i5pvp2ytPGY2kCvOBu469AdwI4CkAC9lWphwD6N3DjeHnKda0dwE4IazzWvoHYDoAWNN+MMJppXz48sDG8HObqvo64jev6qbklCYaeb58cCyCV/h/UtXn7IXDutJ/RlD39dUjkD6q3jEADgbwaefa/qdwvn3dPyucZgKsgyPWaaY/lE+SKQeV5IOSsJH5LxE0Onybqr4wYikvCJYojBIiMgfAG1R1mWf2jvDzADNBVaNGI9sI4DBVnVrrNFK+suYBAPchKHmaJCLNnld8JnDur2U6KV8V5ANTnSNqNDNT6uTtBpMai6rehqHftEREDkfQUPQOVW1zvvNoeO2fJSJj7Z44RGQcggE4HjV9A1PjqyQfWMvsB+BXCAZdeZeq7ginHwBgkqryQQosgR5N5gD4UsSQq28JP/84csmhOpiDDHlAVXci6MJwDICT7YXD1/pvQNBl0a15JJZyMwfZrgV/QhAkH+N+R0SmICh5fgHsym60+w6AsQDe7Ux/dzj9f0Y8RTTiRGQ8gN8A+CuAdhM8h9oBfK8uCWtADKBHlwkArg779ISIjBGRdwH4OoBnAZxfx7TRyJiAbHng3xF0U/bNsNsyEzT9EMA4BI0Lo1rmU+OagJT5QFU3IujOcgqAH4jI5PA70wH8GEE++JxbvYNGna8jeFj+ioi0AoCIzAbwZQSDaHyjjmmjERA2GLwJQRen9wC4UEQuMf9QXvWLajUmOP/l8w/ASQjqovYC2IXgNav5+yxruf0AfBhBHcdHELx2fxZB/cXvAjgyZhvTY7ZxQr2Pwe7+L+88gCDY+iqCOtHbEXRldj2Av6v3vvPfiOaD9yFoTLo9/LcVwK8RlELVff/5L30ecL6zKJy/JVz+ZfMdz7J7IehpYUOYbzaEf+9V733nv/zzQXjd0IR/3fXe/0b5J+FBIyIiIiKiFFiFg4iIiIgoAwbQREREREQZMIAmIiIiIsqAATQRERERUQYMoImIiIiIMmAATURERESUAQNoIiIiIqIMGEATEVFFRORwEVEReVxE7hGR82KW/Xa4nIrI4SOYTLP95jCN94jIyyJy5UingYhGDwbQREQNKAxOL/EFmyJyt4h8tQ7JinKRqs5R1W9HLaCq5wG4aATT5G5/V5jGOQCeqlc6iGh0YABNRNSYDgdwcfjpehzBUMtERFQHY+qdACIiykZVT6l3GoiIdmcsgSYiajBhXeIrwj+vCOvt3hHO+4OIbBORjdbyV1j1i08SkU4R2SAifxSR14rINBFZKSKPht+f6dlmh4jcLyIPicgjIvIfIrJHFfuwr4gsF5GnRWStiCwDsI9nuflheu8WkZ4wfW+z5l8gIltEZDA8DseG078oIk+ISK+InGktuy7c3joR+Z6IHFnpPhARRWEJNBFRg1HVb4vIegBdAM5U1W5r3rFhA7g2a9qZIvJhAD8AcCaA0wDsAnALgJ8AuB7AB8Np3QCWAniT+b6IfArAFwAsUNXbRGQagN8BmArgjAp34woAbwTwOlV9XESOAbDKs9wiAOsAvFNVVUROAHCTiPy9qq5R1S+LyGYAPwLwYVW9J9znfwvrh1+lqr8QkQ8A+CSAWar6tIhMAnArgDsBPFrhPhARebEEmohodLlKVV9S1VcA/AzAawHcZU27AcAJIrInAIjIeAR1rVep6m0AoKqbAXwVwIdF5IisCRCRGQBOB/AtVX08XOddAG72LP4fAC5TVQ2XuwNBQL3EWuZ6AM8heAgw29gPwPEAfh1OOg7AMwC2hevZCuBCAPdnTT8RURIG0EREo8vD1v+3eaY9DUAATAn/Ph7A3gBud9ZzX7jcvArScGz43bs963Q9D+AyEbkrrHZxD4DXAChVvVDV5wFcB+B9ItIcTj4NwM/ChwIgKDE/GsCtIvJ+EdlfVX+mqn+sIP1ERLEYQBMRjS47rP9rzDQTiE4KPz9l9ZN8D4DvAugDsF8FaZgafj7jTB+w/xCRJgCdAN4K4F2qOjvsZm4NgLHOd38Urvct4d//BOCHZqaqrgTQDmBnuGx/WAd7fAXpJyKKxTrQRES7t63h58Wq+sPYJdPbHH62ONMnOH8fhaAE/JOq+kTCOm8B8CSAD4rIAwAmqupaewFVvRHAjWHd6I8COB9BIP6BrDtARBSHJdBERI1pZ/gpACAiJ4rIITls5w4E1Sha3Rki8n0RmVXBOv+AoKT79c50d12mlFmd6VOdv6GqgwgaRJ4C4FwAP3bS+nHTQ4eqblTVTwP4BYDZFaSfiCgWA2giosa0EUFgeUhY7/fHsOoF14qq/hVBI8IzrS7iREQuAPA6AA9WsM6HAFwN4FwROTRc5zEA3uks+iCCHjI+IiIt4XILEdRl9vkRgvraH0cQTNvmAPikiIwN1zMRwEwEJddERDXFAJqIqAGp6pMIupb7IoJeKf4PQQO5PyAIRA8K6yvPEZEvA7g0/OovReQfROTfUkxbFG7rqwiC0itE5M8A1gKYAeAfVHVXhbvQAeA3ANaKSA+ACwB8ydr2Oaq6M9yXrQAeEJFuACcAuAvA3HD/9rSOyX0A7gHQrarucNw/QFAt8e6wDvdtAH6KoCcOIqKakrDnICIiokzCusYbAHxEVa8coW1+H8DNquqWQGdZx0YEQfiHa5UuItq9sASaiIgqtQtBTx2fCUuLz8tzY+HIiG0I+oXO+t1mq4eRPeD0CEJElAVLoImIqKGJyO8R9NbxAQDHq+q5dU4SEe3m2I0dERE1uikAHkLQPd7COqeFiIgl0EREREREWbAONBERERFRBgygiYiIiIgyYABNRERERJQBA2giIiIiogwYQBMRERERZcAAmoiIiIgoAwbQREREREQZMIAmIiIiIsqAATQRERERUQYMoImIiIiIMmAATURERESUAQNoIiIiIqIMGEATEREREWXAAJqIiIiIKAMG0EREREREGTCAJiIiIiLK4P8B2M0K7ZP7okEAAAAASUVORK5CYII=' width=720.0/>\n",
              "            </div>\n",
              "        "
            ],
            "application/vnd.jupyter.widget-view+json": {
              "version_major": 2,
              "version_minor": 0,
              "model_id": "a3e4a62c7df84d7cb6e2b1a0bdf87c3f"
            }
          },
          "metadata": {
            "application/vnd.jupyter.widget-view+json": {
              "colab": {
                "custom_widget_manager": {
                  "url": "https://ssl.gstatic.com/colaboratory-static/widgets/colab-cdn-widget-manager/b3e629b1971e1542/manager.min.js"
                }
              }
            }
          }
        }
      ],
      "source": [
        "fig, ax = plt.subplots(figsize=(10,4))\n",
        "\n",
        "N_observations = 1000\n",
        "times = np.linspace(133.75, 143, N_observations)\n",
        "\n",
        "brightness_model = model(times, period = true_period.value, R_p = true_radius.value,\n",
        "                         a = 2.55e8, R_star = 3*696_340, offset = 8)\n",
        "\n",
        "ax.errorbar(Kepler_times, Kepler_brightness, yerr=Kepler_error, ls='None', marker='.', color='black', ms=1, lw=0.5)\n",
        "ax.plot(times, brightness_model)\n",
        "ax.set_xlim(133.75, 143)\n",
        "ax.set_ylim(0.998, 1.001)\n",
        "ax.set_xlabel('time [days]')\n",
        "ax.set_ylabel('brightness')\n",
        "    \n",
        "plt.tight_layout()"
      ]
    },
    {
      "cell_type": "markdown",
      "id": "68951e5c",
      "metadata": {
        "id": "68951e5c"
      },
      "source": [
        "### Looks great! Of course, the fit won't be perfect because of the noise we talked about before causing variations in the brightness of the star. You should be so proud of yourself for discovering an exoplanet!\n",
        "\n",
        "The exoplanet Kepler 1658-b was first discovered in 2019 by a team of astronomers led by Ashley Chontos, a researcher at Princeton University in the USA. Maybe you'll be the first one to discover an exoplanet one day too!\n",
        "\n",
        "\n",
        "\n",
        "## Types of Exoplanets\n",
        "\n",
        "Not all planets look alike! Depending on factors like the radius of the exoplanet and how fast it is moving around its host star (aka its period), planets can have very different properties.\n",
        "\n",
        "Think about our own solar system:\n",
        "\n",
        "<br>\n",
        "<img src=\"https://github.com/erinhay/outreach/blob/main/IWD/images/solar_system.png?raw=1\" alt=\"Alternative text\"/>\n",
        "<br>\n",
        "\n",
        "Mercury, Venus, Earth, and Mars are relatively small rocky planets. Jupiter, Saturn, Neptune, and Uranus are much larger, cool gaseous planets. \n",
        "\n",
        "Just like there are different types of planets in our solar system, there are lots of different types of exoplanets. These types can be divided up by their radius and their period, as you can see in the graph below. For example, an exoplanet with a very large radius, more than 8-10x the radius of the Earth, and a very short period, less than 10 days, is called a \"Hot Jupiter.\" This name comes from the fact that the planets are as big as Jupiter, but are much closer to the host star, which makes them much hotter than Jupiter.\n",
        "\n",
        "Using the graph below, what are the other types of exoplanets? What do you think their names, sizes, and periods say about the characteristics of the exoplanets?\n",
        "\n",
        "<br>\n",
        "<img src=\"https://github.com/erinhay/outreach/blob/main/IWD/images/types_of_exoplanets.jpeg?raw=1\" alt=\"Alternative text\"/>\n",
        "<br>\n",
        "\n",
        "Can you find which class of planets Jupiter belongs to? It is about 11x the size of Earth and has a period of about 4,000 days!\n",
        "\n",
        "Because of their different radii and periods, the different types of exoplanets have different looking light curves. Run the cell below to see the differences in the shape of the light curve dip depending on the type of exoplanet!"
      ]
    },
    {
      "cell_type": "code",
      "execution_count": null,
      "id": "de1e8d88",
      "metadata": {
        "id": "de1e8d88",
        "outputId": "d266b954-0aec-438b-e696-d7c265cb08cb",
        "colab": {
          "base_uri": "https://localhost:8080/",
          "height": 669,
          "referenced_widgets": [
            "e292259ff7dc4706bb8a1afddda412c4",
            "696879364df44f988baf25044fdc57aa",
            "e7bcaf603bd84b31b2381caede67f642",
            "2522c26bba2d4aa59ffbcbe76bf810eb"
          ]
        }
      },
      "outputs": [
        {
          "output_type": "display_data",
          "data": {
            "text/plain": [
              "Canvas(toolbar=Toolbar(toolitems=[('Home', 'Reset original view', 'home', 'home'), ('Back', 'Back to previous …"
            ],
            "image/png": "[encoded data removed]",
            "text/html": [
              "\n",
              "            <div style=\"display: inline-block;\">\n",
              "                <div class=\"jupyter-widgets widget-label\" style=\"text-align: center;\">\n",
              "                    Figure\n",
              "                </div>\n",
              "                <img src='data:image/png;base64,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' width=720.0/>\n",
              "            </div>\n",
              "        "
            ],
            "application/vnd.jupyter.widget-view+json": {
              "version_major": 2,
              "version_minor": 0,
              "model_id": "e292259ff7dc4706bb8a1afddda412c4"
            }
          },
          "metadata": {
            "application/vnd.jupyter.widget-view+json": {
              "colab": {
                "custom_widget_manager": {
                  "url": "https://ssl.gstatic.com/colaboratory-static/widgets/colab-cdn-widget-manager/b3e629b1971e1542/manager.min.js"
                }
              }
            }
          }
        }
      ],
      "source": [
        "fig, ax = plt.subplots(2,2, figsize = (10,8), sharex=True, sharey=True)\n",
        "\n",
        "titles = [['Hot Jupiter', 'Cold Gas Giant'], ['Ice Giant', 'Rocky Planet']]\n",
        "colors = [['palevioletred', 'mediumpurple'], ['cornflowerblue', 'yellowgreen']]\n",
        "exoplanet_radii = [[80_000, 65_000], [30_000, 8_000]]\n",
        "periods_of_orbit = [[5, 1000], [50, 10]]\n",
        "offset = [[0, -100], [0, 0]]\n",
        "\n",
        "N_observations = 150\n",
        "times = np.linspace(0, 400, N_observations)\n",
        "\n",
        "for i, title_pair in enumerate(titles):\n",
        "    for j, title in enumerate(title_pair):\n",
        "        \n",
        "        brightness = model(times, period = periods_of_orbit[i][j], R_p = exoplanet_radii[i][j], offset=offset[i][j])\n",
        "        \n",
        "        ax[i,j].errorbar(times, brightness, ls='None', marker='.', color=colors[i][j])\n",
        "        ax[i,j].set_xlabel('time', fontsize=14)\n",
        "        ax[i,j].set_ylabel('brightness', fontsize=14)\n",
        "        ax[i,j].set_title(title, fontsize=18)\n",
        "        \n",
        "plt.tight_layout()"
      ]
    },
    {
      "cell_type": "markdown",
      "id": "fa34f8dd",
      "metadata": {
        "id": "fa34f8dd"
      },
      "source": [
        "What do you notice about the above light curves? Is there anything that two or more of the light curves have in common? Is there anythink unique about one of the light curves? Which types of exoplanets do you think would be the easiest to detect? Which do you think would be the hardest to detect?\n",
        "\n",
        "# Thank you for exploring the world of exoplanets with us today!\n",
        "\n",
        "If you have any last questions, feel free to ask any helper in a purple shirt!\n",
        "\n",
        "## Sources\n",
        "* https://www.nytimes.com/2018/10/30/science/nasa-kepler-exoplanet.html\n",
        "* https://www.nasa.gov/mission_pages/kepler/team/index.html\n",
        "* https://www.nasa.gov/mission_pages/kepler/overview/index.html\n",
        "* https://www.nasa.gov/kepler/topscience\n",
        "* https://science.gsfc.nasa.gov/sed/bio/patricia.t.boyd\n",
        "* https://www.nasa.gov/mission_pages/kepler/team/batalha.html\n",
        "* https://www.nytimes.com/2018/03/26/science/tess-nasa-exoplanets.html\n",
        "* https://www.nasa.gov/content/about-tess\n",
        "\n",
        "## NYT Interactive graphic of Kepler planets:\n",
        "https://archive.nytimes.com/www.nytimes.com/interactive/science/space/keplers-tally-of-planets.html"
      ]
    },
    {
      "cell_type": "code",
      "execution_count": null,
      "id": "13accb1d",
      "metadata": {
        "id": "13accb1d"
      },
      "outputs": [],
      "source": []
    }
  ],
  "metadata": {
    "kernelspec": {
      "display_name": "Python 3 (ipykernel)",
      "language": "python",
      "name": "python3"
    },
    "language_info": {
      "codemirror_mode": {
        "name": "ipython",
        "version": 3
      },
      "file_extension": ".py",
      "mimetype": "text/x-python",
      "name": "python",
      "nbconvert_exporter": "python",
      "pygments_lexer": "ipython3",
      "version": "3.10.6"
    },
    "colab": {
      "provenance": []
    },
    "gpuClass": "standard",
    "widgets": {
      "application/vnd.jupyter.widget-state+json": {
        "9c8cc08c8c354b05aa8e018043f2f980": {
          "model_module": "jupyter-matplotlib",
          "model_name": "MPLCanvasModel",
          "model_module_version": "^0.11",
          "state": {
            "_cursor": "default",
            "_data_url": "data:image/png;base64,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",
            "_dom_classes": [],
            "_figure_label": "Figure 1",
            "_image_mode": "full",
            "_message": "",
            "_model_module": "jupyter-matplotlib",
            "_model_module_version": "^0.11",
            "_model_name": "MPLCanvasModel",
            "_rubberband_height": 0,
            "_rubberband_width": 0,
            "_rubberband_x": 0,
            "_rubberband_y": 0,
            "_size": [
              720,
              288
            ],
            "_view_count": null,
            "_view_module": "jupyter-matplotlib",
            "_view_module_version": "^0.11",
            "_view_name": "MPLCanvasView",
            "capture_scroll": false,
            "footer_visible": true,
            "header_visible": true,
            "layout": "IPY_MODEL_7cf5c777cf664958a68c358353daa6e0",
            "pan_zoom_throttle": 33,
            "resizable": true,
            "toolbar": "IPY_MODEL_2652ae0fea2941a5b4a0917896f6612a",
            "toolbar_position": "left",
            "toolbar_visible": "fade-in-fade-out"
          }
        },
        "7cf5c777cf664958a68c358353daa6e0": {
          "model_module": "@jupyter-widgets/base",
          "model_name": "LayoutModel",
          "model_module_version": "1.2.0",
          "state": {
            "_model_module": "@jupyter-widgets/base",
            "_model_module_version": "1.2.0",
            "_model_name": "LayoutModel",
            "_view_count": null,
            "_view_module": "@jupyter-widgets/base",
            "_view_module_version": "1.2.0",
            "_view_name": "LayoutView",
            "align_content": null,
            "align_items": null,
            "align_self": null,
            "border": null,
            "bottom": null,
            "display": null,
            "flex": null,
            "flex_flow": null,
            "grid_area": null,
            "grid_auto_columns": null,
            "grid_auto_flow": null,
            "grid_auto_rows": null,
            "grid_column": null,
            "grid_gap": null,
            "grid_row": null,
            "grid_template_areas": null,
            "grid_template_columns": null,
            "grid_template_rows": null,
            "height": null,
            "justify_content": null,
            "justify_items": null,
            "left": null,
            "margin": null,
            "max_height": null,
            "max_width": null,
            "min_height": null,
            "min_width": null,
            "object_fit": null,
            "object_position": null,
            "order": null,
            "overflow": null,
            "overflow_x": null,
            "overflow_y": null,
            "padding": null,
            "right": null,
            "top": null,
            "visibility": null,
            "width": null
          }
        },
        "2652ae0fea2941a5b4a0917896f6612a": {
          "model_module": "jupyter-matplotlib",
          "model_name": "ToolbarModel",
          "model_module_version": "^0.11",
          "state": {
            "_current_action": "",
            "_dom_classes": [],
            "_model_module": "jupyter-matplotlib",
            "_model_module_version": "^0.11",
            "_model_name": "ToolbarModel",
            "_view_count": null,
            "_view_module": "jupyter-matplotlib",
            "_view_module_version": "^0.11",
            "_view_name": "ToolbarView",
            "button_style": "",
            "collapsed": true,
            "layout": "IPY_MODEL_894d662d59ad4c7aa47a53ccb10a3edb",
            "orientation": "vertical",
            "toolitems": [
              [
                "Home",
                "Reset original view",
                "home",
                "home"
              ],
              [
                "Back",
                "Back to previous view",
                "arrow-left",
                "back"
              ],
              [
                "Forward",
                "Forward to next view",
                "arrow-right",
                "forward"
              ],
              [
                "Pan",
                "Left button pans, Right button zooms\nx/y fixes axis, CTRL fixes aspect",
                "arrows",
                "pan"
              ],
              [
                "Zoom",
                "Zoom to rectangle\nx/y fixes axis",
                "square-o",
                "zoom"
              ],
              [
                "Download",
                "Download plot",
                "floppy-o",
                "save_figure"
              ]
            ]
          }
        },
        "894d662d59ad4c7aa47a53ccb10a3edb": {
          "model_module": "@jupyter-widgets/base",
          "model_name": "LayoutModel",
          "model_module_version": "1.2.0",
          "state": {
            "_model_module": "@jupyter-widgets/base",
            "_model_module_version": "1.2.0",
            "_model_name": "LayoutModel",
            "_view_count": null,
            "_view_module": "@jupyter-widgets/base",
            "_view_module_version": "1.2.0",
            "_view_name": "LayoutView",
            "align_content": null,
            "align_items": null,
            "align_self": null,
            "border": null,
            "bottom": null,
            "display": null,
            "flex": null,
            "flex_flow": null,
            "grid_area": null,
            "grid_auto_columns": null,
            "grid_auto_flow": null,
            "grid_auto_rows": null,
            "grid_column": null,
            "grid_gap": null,
            "grid_row": null,
            "grid_template_areas": null,
            "grid_template_columns": null,
            "grid_template_rows": null,
            "height": null,
            "justify_content": null,
            "justify_items": null,
            "left": null,
            "margin": null,
            "max_height": null,
            "max_width": null,
            "min_height": null,
            "min_width": null,
            "object_fit": null,
            "object_position": null,
            "order": null,
            "overflow": null,
            "overflow_x": null,
            "overflow_y": null,
            "padding": null,
            "right": null,
            "top": null,
            "visibility": null,
            "width": null
          }
        },
        "6ae8f3ba704944739610405463fa2323": {
          "model_module": "jupyter-matplotlib",
          "model_name": "MPLCanvasModel",
          "model_module_version": "^0.11",
          "state": {
            "_cursor": "default",
            "_data_url": "data:image/png;base64,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",
            "_dom_classes": [],
            "_figure_label": "Figure 2",
            "_image_mode": "full",
            "_message": "",
            "_model_module": "jupyter-matplotlib",
            "_model_module_version": "^0.11",
            "_model_name": "MPLCanvasModel",
            "_rubberband_height": 0,
            "_rubberband_width": 0,
            "_rubberband_x": 0,
            "_rubberband_y": 0,
            "_size": [
              720,
              288
            ],
            "_view_count": null,
            "_view_module": "jupyter-matplotlib",
            "_view_module_version": "^0.11",
            "_view_name": "MPLCanvasView",
            "capture_scroll": false,
            "footer_visible": true,
            "header_visible": true,
            "layout": "IPY_MODEL_75492c499c0f4f83b6df3414394acf29",
            "pan_zoom_throttle": 33,
            "resizable": true,
            "toolbar": "IPY_MODEL_f9cfc7f98d10437f82a437a07e51fce2",
            "toolbar_position": "left",
            "toolbar_visible": "fade-in-fade-out"
          }
        },
        "75492c499c0f4f83b6df3414394acf29": {
          "model_module": "@jupyter-widgets/base",
          "model_name": "LayoutModel",
          "model_module_version": "1.2.0",
          "state": {
            "_model_module": "@jupyter-widgets/base",
            "_model_module_version": "1.2.0",
            "_model_name": "LayoutModel",
            "_view_count": null,
            "_view_module": "@jupyter-widgets/base",
            "_view_module_version": "1.2.0",
            "_view_name": "LayoutView",
            "align_content": null,
            "align_items": null,
            "align_self": null,
            "border": null,
            "bottom": null,
            "display": null,
            "flex": null,
            "flex_flow": null,
            "grid_area": null,
            "grid_auto_columns": null,
            "grid_auto_flow": null,
            "grid_auto_rows": null,
            "grid_column": null,
            "grid_gap": null,
            "grid_row": null,
            "grid_template_areas": null,
            "grid_template_columns": null,
            "grid_template_rows": null,
            "height": null,
            "justify_content": null,
            "justify_items": null,
            "left": null,
            "margin": null,
            "max_height": null,
            "max_width": null,
            "min_height": null,
            "min_width": null,
            "object_fit": null,
            "object_position": null,
            "order": null,
            "overflow": null,
            "overflow_x": null,
            "overflow_y": null,
            "padding": null,
            "right": null,
            "top": null,
            "visibility": null,
            "width": null
          }
        },
        "f9cfc7f98d10437f82a437a07e51fce2": {
          "model_module": "jupyter-matplotlib",
          "model_name": "ToolbarModel",
          "model_module_version": "^0.11",
          "state": {
            "_current_action": "",
            "_dom_classes": [],
            "_model_module": "jupyter-matplotlib",
            "_model_module_version": "^0.11",
            "_model_name": "ToolbarModel",
            "_view_count": null,
            "_view_module": "jupyter-matplotlib",
            "_view_module_version": "^0.11",
            "_view_name": "ToolbarView",
            "button_style": "",
            "collapsed": true,
            "layout": "IPY_MODEL_35d6f46baa1743d68ef473ee129d5e0a",
            "orientation": "vertical",
            "toolitems": [
              [
                "Home",
                "Reset original view",
                "home",
                "home"
              ],
              [
                "Back",
                "Back to previous view",
                "arrow-left",
                "back"
              ],
              [
                "Forward",
                "Forward to next view",
                "arrow-right",
                "forward"
              ],
              [
                "Pan",
                "Left button pans, Right button zooms\nx/y fixes axis, CTRL fixes aspect",
                "arrows",
                "pan"
              ],
              [
                "Zoom",
                "Zoom to rectangle\nx/y fixes axis",
                "square-o",
                "zoom"
              ],
              [
                "Download",
                "Download plot",
                "floppy-o",
                "save_figure"
              ]
            ]
          }
        },
        "35d6f46baa1743d68ef473ee129d5e0a": {
          "model_module": "@jupyter-widgets/base",
          "model_name": "LayoutModel",
          "model_module_version": "1.2.0",
          "state": {
            "_model_module": "@jupyter-widgets/base",
            "_model_module_version": "1.2.0",
            "_model_name": "LayoutModel",
            "_view_count": null,
            "_view_module": "@jupyter-widgets/base",
            "_view_module_version": "1.2.0",
            "_view_name": "LayoutView",
            "align_content": null,
            "align_items": null,
            "align_self": null,
            "border": null,
            "bottom": null,
            "display": null,
            "flex": null,
            "flex_flow": null,
            "grid_area": null,
            "grid_auto_columns": null,
            "grid_auto_flow": null,
            "grid_auto_rows": null,
            "grid_column": null,
            "grid_gap": null,
            "grid_row": null,
            "grid_template_areas": null,
            "grid_template_columns": null,
            "grid_template_rows": null,
            "height": null,
            "justify_content": null,
            "justify_items": null,
            "left": null,
            "margin": null,
            "max_height": null,
            "max_width": null,
            "min_height": null,
            "min_width": null,
            "object_fit": null,
            "object_position": null,
            "order": null,
            "overflow": null,
            "overflow_x": null,
            "overflow_y": null,
            "padding": null,
            "right": null,
            "top": null,
            "visibility": null,
            "width": null
          }
        },
        "2dec39473fdd408abb5a9425ecc1c0cb": {
          "model_module": "jupyter-matplotlib",
          "model_name": "MPLCanvasModel",
          "model_module_version": "^0.11",
          "state": {
            "_cursor": "default",
            "_data_url": "data:image/png;base64,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",
            "_dom_classes": [],
            "_figure_label": "Figure 3",
            "_image_mode": "full",
            "_message": "",
            "_model_module": "jupyter-matplotlib",
            "_model_module_version": "^0.11",
            "_model_name": "MPLCanvasModel",
            "_rubberband_height": 0,
            "_rubberband_width": 0,
            "_rubberband_x": 0,
            "_rubberband_y": 0,
            "_size": [
              720,
              288
            ],
            "_view_count": null,
            "_view_module": "jupyter-matplotlib",
            "_view_module_version": "^0.11",
            "_view_name": "MPLCanvasView",
            "capture_scroll": false,
            "footer_visible": true,
            "header_visible": true,
            "layout": "IPY_MODEL_d544a1733e3d47e89bee24b3c81f77fc",
            "pan_zoom_throttle": 33,
            "resizable": true,
            "toolbar": "IPY_MODEL_772967be59574c1e9d3f60f3c999d700",
            "toolbar_position": "left",
            "toolbar_visible": "fade-in-fade-out"
          }
        },
        "d544a1733e3d47e89bee24b3c81f77fc": {
          "model_module": "@jupyter-widgets/base",
          "model_name": "LayoutModel",
          "model_module_version": "1.2.0",
          "state": {
            "_model_module": "@jupyter-widgets/base",
            "_model_module_version": "1.2.0",
            "_model_name": "LayoutModel",
            "_view_count": null,
            "_view_module": "@jupyter-widgets/base",
            "_view_module_version": "1.2.0",
            "_view_name": "LayoutView",
            "align_content": null,
            "align_items": null,
            "align_self": null,
            "border": null,
            "bottom": null,
            "display": null,
            "flex": null,
            "flex_flow": null,
            "grid_area": null,
            "grid_auto_columns": null,
            "grid_auto_flow": null,
            "grid_auto_rows": null,
            "grid_column": null,
            "grid_gap": null,
            "grid_row": null,
            "grid_template_areas": null,
            "grid_template_columns": null,
            "grid_template_rows": null,
            "height": null,
            "justify_content": null,
            "justify_items": null,
            "left": null,
            "margin": null,
            "max_height": null,
            "max_width": null,
            "min_height": null,
            "min_width": null,
            "object_fit": null,
            "object_position": null,
            "order": null,
            "overflow": null,
            "overflow_x": null,
            "overflow_y": null,
            "padding": null,
            "right": null,
            "top": null,
            "visibility": null,
            "width": null
          }
        },
        "772967be59574c1e9d3f60f3c999d700": {
          "model_module": "jupyter-matplotlib",
          "model_name": "ToolbarModel",
          "model_module_version": "^0.11",
          "state": {
            "_current_action": "",
            "_dom_classes": [],
            "_model_module": "jupyter-matplotlib",
            "_model_module_version": "^0.11",
            "_model_name": "ToolbarModel",
            "_view_count": null,
            "_view_module": "jupyter-matplotlib",
            "_view_module_version": "^0.11",
            "_view_name": "ToolbarView",
            "button_style": "",
            "collapsed": true,
            "layout": "IPY_MODEL_d51b81bbfc024b4abe6c86eec3288637",
            "orientation": "vertical",
            "toolitems": [
              [
                "Home",
                "Reset original view",
                "home",
                "home"
              ],
              [
                "Back",
                "Back to previous view",
                "arrow-left",
                "back"
              ],
              [
                "Forward",
                "Forward to next view",
                "arrow-right",
                "forward"
              ],
              [
                "Pan",
                "Left button pans, Right button zooms\nx/y fixes axis, CTRL fixes aspect",
                "arrows",
                "pan"
              ],
              [
                "Zoom",
                "Zoom to rectangle\nx/y fixes axis",
                "square-o",
                "zoom"
              ],
              [
                "Download",
                "Download plot",
                "floppy-o",
                "save_figure"
              ]
            ]
          }
        },
        "d51b81bbfc024b4abe6c86eec3288637": {
          "model_module": "@jupyter-widgets/base",
          "model_name": "LayoutModel",
          "model_module_version": "1.2.0",
          "state": {
            "_model_module": "@jupyter-widgets/base",
            "_model_module_version": "1.2.0",
            "_model_name": "LayoutModel",
            "_view_count": null,
            "_view_module": "@jupyter-widgets/base",
            "_view_module_version": "1.2.0",
            "_view_name": "LayoutView",
            "align_content": null,
            "align_items": null,
            "align_self": null,
            "border": null,
            "bottom": null,
            "display": null,
            "flex": null,
            "flex_flow": null,
            "grid_area": null,
            "grid_auto_columns": null,
            "grid_auto_flow": null,
            "grid_auto_rows": null,
            "grid_column": null,
            "grid_gap": null,
            "grid_row": null,
            "grid_template_areas": null,
            "grid_template_columns": null,
            "grid_template_rows": null,
            "height": null,
            "justify_content": null,
            "justify_items": null,
            "left": null,
            "margin": null,
            "max_height": null,
            "max_width": null,
            "min_height": null,
            "min_width": null,
            "object_fit": null,
            "object_position": null,
            "order": null,
            "overflow": null,
            "overflow_x": null,
            "overflow_y": null,
            "padding": null,
            "right": null,
            "top": null,
            "visibility": null,
            "width": null
          }
        },
        "6ac4dbc26b5f445b9d6c89c9ed42809a": {
          "model_module": "@jupyter-widgets/controls",
          "model_name": "VBoxModel",
          "model_module_version": "1.5.0",
          "state": {
            "_dom_classes": [
              "widget-interact"
            ],
            "_model_module": "@jupyter-widgets/controls",
            "_model_module_version": "1.5.0",
            "_model_name": "VBoxModel",
            "_view_count": null,
            "_view_module": "@jupyter-widgets/controls",
            "_view_module_version": "1.5.0",
            "_view_name": "VBoxView",
            "box_style": "",
            "children": [
              "IPY_MODEL_761570dba11f4ddcab5497dd5d5adf95",
              "IPY_MODEL_5bdc08c7c53c4c7c8e169711073f87ed",
              "IPY_MODEL_65ccecb8388a4b4180182d79884106b8",
              "IPY_MODEL_121a7c5358864de6b606730338db59e5",
              "IPY_MODEL_ea621579a9034fd29c0e4c87605c1463",
              "IPY_MODEL_01e33291158f4278846cf867364a8bf9"
            ],
            "layout": "IPY_MODEL_b25047a892d245268caa98af01c350cb"
          }
        },
        "761570dba11f4ddcab5497dd5d5adf95": {
          "model_module": "@jupyter-widgets/controls",
          "model_name": "IntSliderModel",
          "model_module_version": "1.5.0",
          "state": {
            "_dom_classes": [],
            "_model_module": "@jupyter-widgets/controls",
            "_model_module_version": "1.5.0",
            "_model_name": "IntSliderModel",
            "_view_count": null,
            "_view_module": "@jupyter-widgets/controls",
            "_view_module_version": "1.5.0",
            "_view_name": "IntSliderView",
            "continuous_update": true,
            "description": "exoplanet_radius",
            "description_tooltip": null,
            "disabled": false,
            "layout": "IPY_MODEL_5dc22a1736754dddb7a7b3a378daf26b",
            "max": 100000,
            "min": 0,
            "orientation": "horizontal",
            "readout": true,
            "readout_format": "d",
            "step": 1000,
            "style": "IPY_MODEL_7352dba4c998461c9e65fa06c08eca77",
            "value": 50000
          }
        },
        "5bdc08c7c53c4c7c8e169711073f87ed": {
          "model_module": "@jupyter-widgets/controls",
          "model_name": "FloatSliderModel",
          "model_module_version": "1.5.0",
          "state": {
            "_dom_classes": [],
            "_model_module": "@jupyter-widgets/controls",
            "_model_module_version": "1.5.0",
            "_model_name": "FloatSliderModel",
            "_view_count": null,
            "_view_module": "@jupyter-widgets/controls",
            "_view_module_version": "1.5.0",
            "_view_name": "FloatSliderView",
            "continuous_update": true,
            "description": "period_of_orbit",
            "description_tooltip": null,
            "disabled": false,
            "layout": "IPY_MODEL_a0fa99e6272748f8b1e824f09af67a03",
            "max": 10,
            "min": 1,
            "orientation": "horizontal",
            "readout": true,
            "readout_format": ".2f",
            "step": 0.1,
            "style": "IPY_MODEL_6859c7ef27ba4fafb9310398447c3422",
            "value": 5
          }
        },
        "65ccecb8388a4b4180182d79884106b8": {
          "model_module": "@jupyter-widgets/controls",
          "model_name": "FloatSliderModel",
          "model_module_version": "1.5.0",
          "state": {
            "_dom_classes": [],
            "_model_module": "@jupyter-widgets/controls",
            "_model_module_version": "1.5.0",
            "_model_name": "FloatSliderModel",
            "_view_count": null,
            "_view_module": "@jupyter-widgets/controls",
            "_view_module_version": "1.5.0",
            "_view_name": "FloatSliderView",
            "continuous_update": true,
            "description": "orbital_radius",
            "description_tooltip": null,
            "disabled": false,
            "layout": "IPY_MODEL_89831bff37b7425cb56a976962e502d4",
            "max": 9000000,
            "min": 1000000,
            "orientation": "horizontal",
            "readout": true,
            "readout_format": ".2f",
            "step": 100000,
            "style": "IPY_MODEL_5daf21a968f147dd9309a7ea76397e9e",
            "value": 5000000
          }
        },
        "121a7c5358864de6b606730338db59e5": {
          "model_module": "@jupyter-widgets/controls",
          "model_name": "IntSliderModel",
          "model_module_version": "1.5.0",
          "state": {
            "_dom_classes": [],
            "_model_module": "@jupyter-widgets/controls",
            "_model_module_version": "1.5.0",
            "_model_name": "IntSliderModel",
            "_view_count": null,
            "_view_module": "@jupyter-widgets/controls",
            "_view_module_version": "1.5.0",
            "_view_name": "IntSliderView",
            "continuous_update": true,
            "description": "star_radius",
            "description_tooltip": null,
            "disabled": false,
            "layout": "IPY_MODEL_8548d9ce92944a0fbda42902990dd0f9",
            "max": 1000000,
            "min": 500000,
            "orientation": "horizontal",
            "readout": true,
            "readout_format": "d",
            "step": 10000,
            "style": "IPY_MODEL_94a4ff1ae6ab42b783ef6e53aef588e9",
            "value": 750000
          }
        },
        "ea621579a9034fd29c0e4c87605c1463": {
          "model_module": "@jupyter-widgets/controls",
          "model_name": "FloatSliderModel",
          "model_module_version": "1.5.0",
          "state": {
            "_dom_classes": [],
            "_model_module": "@jupyter-widgets/controls",
            "_model_module_version": "1.5.0",
            "_model_name": "FloatSliderModel",
            "_view_count": null,
            "_view_module": "@jupyter-widgets/controls",
            "_view_module_version": "1.5.0",
            "_view_name": "FloatSliderView",
            "continuous_update": true,
            "description": "offset",
            "description_tooltip": null,
            "disabled": false,
            "layout": "IPY_MODEL_0ec6b128cf5747baa1bc08c0616dded0",
            "max": 10,
            "min": 0,
            "orientation": "horizontal",
            "readout": true,
            "readout_format": ".2f",
            "step": 0.1,
            "style": "IPY_MODEL_b8971c588faf4b02bdd655a967697e5a",
            "value": 5
          }
        },
        "01e33291158f4278846cf867364a8bf9": {
          "model_module": "@jupyter-widgets/output",
          "model_name": "OutputModel",
          "model_module_version": "1.0.0",
          "state": {
            "_dom_classes": [],
            "_model_module": "@jupyter-widgets/output",
            "_model_module_version": "1.0.0",
            "_model_name": "OutputModel",
            "_view_count": null,
            "_view_module": "@jupyter-widgets/output",
            "_view_module_version": "1.0.0",
            "_view_name": "OutputView",
            "layout": "IPY_MODEL_50fcb5eca81a450aaaa7a174ae76cd96",
            "msg_id": "",
            "outputs": []
          }
        },
        "b25047a892d245268caa98af01c350cb": {
          "model_module": "@jupyter-widgets/base",
          "model_name": "LayoutModel",
          "model_module_version": "1.2.0",
          "state": {
            "_model_module": "@jupyter-widgets/base",
            "_model_module_version": "1.2.0",
            "_model_name": "LayoutModel",
            "_view_count": null,
            "_view_module": "@jupyter-widgets/base",
            "_view_module_version": "1.2.0",
            "_view_name": "LayoutView",
            "align_content": null,
            "align_items": null,
            "align_self": null,
            "border": null,
            "bottom": null,
            "display": null,
            "flex": null,
            "flex_flow": null,
            "grid_area": null,
            "grid_auto_columns": null,
            "grid_auto_flow": null,
            "grid_auto_rows": null,
            "grid_column": null,
            "grid_gap": null,
            "grid_row": null,
            "grid_template_areas": null,
            "grid_template_columns": null,
            "grid_template_rows": null,
            "height": null,
            "justify_content": null,
            "justify_items": null,
            "left": null,
            "margin": null,
            "max_height": null,
            "max_width": null,
            "min_height": null,
            "min_width": null,
            "object_fit": null,
            "object_position": null,
            "order": null,
            "overflow": null,
            "overflow_x": null,
            "overflow_y": null,
            "padding": null,
            "right": null,
            "top": null,
            "visibility": null,
            "width": null
          }
        },
        "5dc22a1736754dddb7a7b3a378daf26b": {
          "model_module": "@jupyter-widgets/base",
          "model_name": "LayoutModel",
          "model_module_version": "1.2.0",
          "state": {
            "_model_module": "@jupyter-widgets/base",
            "_model_module_version": "1.2.0",
            "_model_name": "LayoutModel",
            "_view_count": null,
            "_view_module": "@jupyter-widgets/base",
            "_view_module_version": "1.2.0",
            "_view_name": "LayoutView",
            "align_content": null,
            "align_items": null,
            "align_self": null,
            "border": null,
            "bottom": null,
            "display": null,
            "flex": null,
            "flex_flow": null,
            "grid_area": null,
            "grid_auto_columns": null,
            "grid_auto_flow": null,
            "grid_auto_rows": null,
            "grid_column": null,
            "grid_gap": null,
            "grid_row": null,
            "grid_template_areas": null,
            "grid_template_columns": null,
            "grid_template_rows": null,
            "height": null,
            "justify_content": null,
            "justify_items": null,
            "left": null,
            "margin": null,
            "max_height": null,
            "max_width": null,
            "min_height": null,
            "min_width": null,
            "object_fit": null,
            "object_position": null,
            "order": null,
            "overflow": null,
            "overflow_x": null,
            "overflow_y": null,
            "padding": null,
            "right": null,
            "top": null,
            "visibility": null,
            "width": null
          }
        },
        "7352dba4c998461c9e65fa06c08eca77": {
          "model_module": "@jupyter-widgets/controls",
          "model_name": "SliderStyleModel",
          "model_module_version": "1.5.0",
          "state": {
            "_model_module": "@jupyter-widgets/controls",
            "_model_module_version": "1.5.0",
            "_model_name": "SliderStyleModel",
            "_view_count": null,
            "_view_module": "@jupyter-widgets/base",
            "_view_module_version": "1.2.0",
            "_view_name": "StyleView",
            "description_width": "",
            "handle_color": null
          }
        },
        "a0fa99e6272748f8b1e824f09af67a03": {
          "model_module": "@jupyter-widgets/base",
          "model_name": "LayoutModel",
          "model_module_version": "1.2.0",
          "state": {
            "_model_module": "@jupyter-widgets/base",
            "_model_module_version": "1.2.0",
            "_model_name": "LayoutModel",
            "_view_count": null,
            "_view_module": "@jupyter-widgets/base",
            "_view_module_version": "1.2.0",
            "_view_name": "LayoutView",
            "align_content": null,
            "align_items": null,
            "align_self": null,
            "border": null,
            "bottom": null,
            "display": null,
            "flex": null,
            "flex_flow": null,
            "grid_area": null,
            "grid_auto_columns": null,
            "grid_auto_flow": null,
            "grid_auto_rows": null,
            "grid_column": null,
            "grid_gap": null,
            "grid_row": null,
            "grid_template_areas": null,
            "grid_template_columns": null,
            "grid_template_rows": null,
            "height": null,
            "justify_content": null,
            "justify_items": null,
            "left": null,
            "margin": null,
            "max_height": null,
            "max_width": null,
            "min_height": null,
            "min_width": null,
            "object_fit": null,
            "object_position": null,
            "order": null,
            "overflow": null,
            "overflow_x": null,
            "overflow_y": null,
            "padding": null,
            "right": null,
            "top": null,
            "visibility": null,
            "width": null
          }
        },
        "6859c7ef27ba4fafb9310398447c3422": {
          "model_module": "@jupyter-widgets/controls",
          "model_name": "SliderStyleModel",
          "model_module_version": "1.5.0",
          "state": {
            "_model_module": "@jupyter-widgets/controls",
            "_model_module_version": "1.5.0",
            "_model_name": "SliderStyleModel",
            "_view_count": null,
            "_view_module": "@jupyter-widgets/base",
            "_view_module_version": "1.2.0",
            "_view_name": "StyleView",
            "description_width": "",
            "handle_color": null
          }
        },
        "89831bff37b7425cb56a976962e502d4": {
          "model_module": "@jupyter-widgets/base",
          "model_name": "LayoutModel",
          "model_module_version": "1.2.0",
          "state": {
            "_model_module": "@jupyter-widgets/base",
            "_model_module_version": "1.2.0",
            "_model_name": "LayoutModel",
            "_view_count": null,
            "_view_module": "@jupyter-widgets/base",
            "_view_module_version": "1.2.0",
            "_view_name": "LayoutView",
            "align_content": null,
            "align_items": null,
            "align_self": null,
            "border": null,
            "bottom": null,
            "display": null,
            "flex": null,
            "flex_flow": null,
            "grid_area": null,
            "grid_auto_columns": null,
            "grid_auto_flow": null,
            "grid_auto_rows": null,
            "grid_column": null,
            "grid_gap": null,
            "grid_row": null,
            "grid_template_areas": null,
            "grid_template_columns": null,
            "grid_template_rows": null,
            "height": null,
            "justify_content": null,
            "justify_items": null,
            "left": null,
            "margin": null,
            "max_height": null,
            "max_width": null,
            "min_height": null,
            "min_width": null,
            "object_fit": null,
            "object_position": null,
            "order": null,
            "overflow": null,
            "overflow_x": null,
            "overflow_y": null,
            "padding": null,
            "right": null,
            "top": null,
            "visibility": null,
            "width": null
          }
        },
        "5daf21a968f147dd9309a7ea76397e9e": {
          "model_module": "@jupyter-widgets/controls",
          "model_name": "SliderStyleModel",
          "model_module_version": "1.5.0",
          "state": {
            "_model_module": "@jupyter-widgets/controls",
            "_model_module_version": "1.5.0",
            "_model_name": "SliderStyleModel",
            "_view_count": null,
            "_view_module": "@jupyter-widgets/base",
            "_view_module_version": "1.2.0",
            "_view_name": "StyleView",
            "description_width": "",
            "handle_color": null
          }
        },
        "8548d9ce92944a0fbda42902990dd0f9": {
          "model_module": "@jupyter-widgets/base",
          "model_name": "LayoutModel",
          "model_module_version": "1.2.0",
          "state": {
            "_model_module": "@jupyter-widgets/base",
            "_model_module_version": "1.2.0",
            "_model_name": "LayoutModel",
            "_view_count": null,
            "_view_module": "@jupyter-widgets/base",
            "_view_module_version": "1.2.0",
            "_view_name": "LayoutView",
            "align_content": null,
            "align_items": null,
            "align_self": null,
            "border": null,
            "bottom": null,
            "display": null,
            "flex": null,
            "flex_flow": null,
            "grid_area": null,
            "grid_auto_columns": null,
            "grid_auto_flow": null,
            "grid_auto_rows": null,
            "grid_column": null,
            "grid_gap": null,
            "grid_row": null,
            "grid_template_areas": null,
            "grid_template_columns": null,
            "grid_template_rows": null,
            "height": null,
            "justify_content": null,
            "justify_items": null,
            "left": null,
            "margin": null,
            "max_height": null,
            "max_width": null,
            "min_height": null,
            "min_width": null,
            "object_fit": null,
            "object_position": null,
            "order": null,
            "overflow": null,
            "overflow_x": null,
            "overflow_y": null,
            "padding": null,
            "right": null,
            "top": null,
            "visibility": null,
            "width": null
          }
        },
        "94a4ff1ae6ab42b783ef6e53aef588e9": {
          "model_module": "@jupyter-widgets/controls",
          "model_name": "SliderStyleModel",
          "model_module_version": "1.5.0",
          "state": {
            "_model_module": "@jupyter-widgets/controls",
            "_model_module_version": "1.5.0",
            "_model_name": "SliderStyleModel",
            "_view_count": null,
            "_view_module": "@jupyter-widgets/base",
            "_view_module_version": "1.2.0",
            "_view_name": "StyleView",
            "description_width": "",
            "handle_color": null
          }
        },
        "0ec6b128cf5747baa1bc08c0616dded0": {
          "model_module": "@jupyter-widgets/base",
          "model_name": "LayoutModel",
          "model_module_version": "1.2.0",
          "state": {
            "_model_module": "@jupyter-widgets/base",
            "_model_module_version": "1.2.0",
            "_model_name": "LayoutModel",
            "_view_count": null,
            "_view_module": "@jupyter-widgets/base",
            "_view_module_version": "1.2.0",
            "_view_name": "LayoutView",
            "align_content": null,
            "align_items": null,
            "align_self": null,
            "border": null,
            "bottom": null,
            "display": null,
            "flex": null,
            "flex_flow": null,
            "grid_area": null,
            "grid_auto_columns": null,
            "grid_auto_flow": null,
            "grid_auto_rows": null,
            "grid_column": null,
            "grid_gap": null,
            "grid_row": null,
            "grid_template_areas": null,
            "grid_template_columns": null,
            "grid_template_rows": null,
            "height": null,
            "justify_content": null,
            "justify_items": null,
            "left": null,
            "margin": null,
            "max_height": null,
            "max_width": null,
            "min_height": null,
            "min_width": null,
            "object_fit": null,
            "object_position": null,
            "order": null,
            "overflow": null,
            "overflow_x": null,
            "overflow_y": null,
            "padding": null,
            "right": null,
            "top": null,
            "visibility": null,
            "width": null
          }
        },
        "b8971c588faf4b02bdd655a967697e5a": {
          "model_module": "@jupyter-widgets/controls",
          "model_name": "SliderStyleModel",
          "model_module_version": "1.5.0",
          "state": {
            "_model_module": "@jupyter-widgets/controls",
            "_model_module_version": "1.5.0",
            "_model_name": "SliderStyleModel",
            "_view_count": null,
            "_view_module": "@jupyter-widgets/base",
            "_view_module_version": "1.2.0",
            "_view_name": "StyleView",
            "description_width": "",
            "handle_color": null
          }
        },
        "50fcb5eca81a450aaaa7a174ae76cd96": {
          "model_module": "@jupyter-widgets/base",
          "model_name": "LayoutModel",
          "model_module_version": "1.2.0",
          "state": {
            "_model_module": "@jupyter-widgets/base",
            "_model_module_version": "1.2.0",
            "_model_name": "LayoutModel",
            "_view_count": null,
            "_view_module": "@jupyter-widgets/base",
            "_view_module_version": "1.2.0",
            "_view_name": "LayoutView",
            "align_content": null,
            "align_items": null,
            "align_self": null,
            "border": null,
            "bottom": null,
            "display": null,
            "flex": null,
            "flex_flow": null,
            "grid_area": null,
            "grid_auto_columns": null,
            "grid_auto_flow": null,
            "grid_auto_rows": null,
            "grid_column": null,
            "grid_gap": null,
            "grid_row": null,
            "grid_template_areas": null,
            "grid_template_columns": null,
            "grid_template_rows": null,
            "height": null,
            "justify_content": null,
            "justify_items": null,
            "left": null,
            "margin": null,
            "max_height": null,
            "max_width": null,
            "min_height": null,
            "min_width": null,
            "object_fit": null,
            "object_position": null,
            "order": null,
            "overflow": null,
            "overflow_x": null,
            "overflow_y": null,
            "padding": null,
            "right": null,
            "top": null,
            "visibility": null,
            "width": null
          }
        },
        "cf87a7d173e34fc0b8859207151d1ce5": {
          "model_module": "jupyter-matplotlib",
          "model_name": "MPLCanvasModel",
          "model_module_version": "^0.11",
          "state": {
            "_cursor": "default",
            "_data_url": "data:image/png;base64,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",
            "_dom_classes": [],
            "_figure_label": "Figure 4",
            "_image_mode": "full",
            "_message": "",
            "_model_module": "jupyter-matplotlib",
            "_model_module_version": "^0.11",
            "_model_name": "MPLCanvasModel",
            "_rubberband_height": 0,
            "_rubberband_width": 0,
            "_rubberband_x": 0,
            "_rubberband_y": 0,
            "_size": [
              720,
              288
            ],
            "_view_count": null,
            "_view_module": "jupyter-matplotlib",
            "_view_module_version": "^0.11",
            "_view_name": "MPLCanvasView",
            "capture_scroll": false,
            "footer_visible": true,
            "header_visible": true,
            "layout": "IPY_MODEL_216e63f3a5c9443b83ae55f5cb445f9a",
            "pan_zoom_throttle": 33,
            "resizable": true,
            "toolbar": "IPY_MODEL_2b63069400eb4c6f937279e197138534",
            "toolbar_position": "left",
            "toolbar_visible": "fade-in-fade-out"
          }
        },
        "216e63f3a5c9443b83ae55f5cb445f9a": {
          "model_module": "@jupyter-widgets/base",
          "model_name": "LayoutModel",
          "model_module_version": "1.2.0",
          "state": {
            "_model_module": "@jupyter-widgets/base",
            "_model_module_version": "1.2.0",
            "_model_name": "LayoutModel",
            "_view_count": null,
            "_view_module": "@jupyter-widgets/base",
            "_view_module_version": "1.2.0",
            "_view_name": "LayoutView",
            "align_content": null,
            "align_items": null,
            "align_self": null,
            "border": null,
            "bottom": null,
            "display": null,
            "flex": null,
            "flex_flow": null,
            "grid_area": null,
            "grid_auto_columns": null,
            "grid_auto_flow": null,
            "grid_auto_rows": null,
            "grid_column": null,
            "grid_gap": null,
            "grid_row": null,
            "grid_template_areas": null,
            "grid_template_columns": null,
            "grid_template_rows": null,
            "height": null,
            "justify_content": null,
            "justify_items": null,
            "left": null,
            "margin": null,
            "max_height": null,
            "max_width": null,
            "min_height": null,
            "min_width": null,
            "object_fit": null,
            "object_position": null,
            "order": null,
            "overflow": null,
            "overflow_x": null,
            "overflow_y": null,
            "padding": null,
            "right": null,
            "top": null,
            "visibility": null,
            "width": null
          }
        },
        "2b63069400eb4c6f937279e197138534": {
          "model_module": "jupyter-matplotlib",
          "model_name": "ToolbarModel",
          "model_module_version": "^0.11",
          "state": {
            "_current_action": "",
            "_dom_classes": [],
            "_model_module": "jupyter-matplotlib",
            "_model_module_version": "^0.11",
            "_model_name": "ToolbarModel",
            "_view_count": null,
            "_view_module": "jupyter-matplotlib",
            "_view_module_version": "^0.11",
            "_view_name": "ToolbarView",
            "button_style": "",
            "collapsed": true,
            "layout": "IPY_MODEL_ce7151f94b224e10acd9fedc166fa9b8",
            "orientation": "vertical",
            "toolitems": [
              [
                "Home",
                "Reset original view",
                "home",
                "home"
              ],
              [
                "Back",
                "Back to previous view",
                "arrow-left",
                "back"
              ],
              [
                "Forward",
                "Forward to next view",
                "arrow-right",
                "forward"
              ],
              [
                "Pan",
                "Left button pans, Right button zooms\nx/y fixes axis, CTRL fixes aspect",
                "arrows",
                "pan"
              ],
              [
                "Zoom",
                "Zoom to rectangle\nx/y fixes axis",
                "square-o",
                "zoom"
              ],
              [
                "Download",
                "Download plot",
                "floppy-o",
                "save_figure"
              ]
            ]
          }
        },
        "ce7151f94b224e10acd9fedc166fa9b8": {
          "model_module": "@jupyter-widgets/base",
          "model_name": "LayoutModel",
          "model_module_version": "1.2.0",
          "state": {
            "_model_module": "@jupyter-widgets/base",
            "_model_module_version": "1.2.0",
            "_model_name": "LayoutModel",
            "_view_count": null,
            "_view_module": "@jupyter-widgets/base",
            "_view_module_version": "1.2.0",
            "_view_name": "LayoutView",
            "align_content": null,
            "align_items": null,
            "align_self": null,
            "border": null,
            "bottom": null,
            "display": null,
            "flex": null,
            "flex_flow": null,
            "grid_area": null,
            "grid_auto_columns": null,
            "grid_auto_flow": null,
            "grid_auto_rows": null,
            "grid_column": null,
            "grid_gap": null,
            "grid_row": null,
            "grid_template_areas": null,
            "grid_template_columns": null,
            "grid_template_rows": null,
            "height": null,
            "justify_content": null,
            "justify_items": null,
            "left": null,
            "margin": null,
            "max_height": null,
            "max_width": null,
            "min_height": null,
            "min_width": null,
            "object_fit": null,
            "object_position": null,
            "order": null,
            "overflow": null,
            "overflow_x": null,
            "overflow_y": null,
            "padding": null,
            "right": null,
            "top": null,
            "visibility": null,
            "width": null
          }
        },
        "71f32cd65d734ecb8830d88192c3e663": {
          "model_module": "@jupyter-widgets/controls",
          "model_name": "VBoxModel",
          "model_module_version": "1.5.0",
          "state": {
            "_dom_classes": [
              "widget-interact"
            ],
            "_model_module": "@jupyter-widgets/controls",
            "_model_module_version": "1.5.0",
            "_model_name": "VBoxModel",
            "_view_count": null,
            "_view_module": "@jupyter-widgets/controls",
            "_view_module_version": "1.5.0",
            "_view_name": "VBoxView",
            "box_style": "",
            "children": [
              "IPY_MODEL_fd43249dc6354b7b92ed7111aa7a3952",
              "IPY_MODEL_cf49b5f715364900957d25eea4666095",
              "IPY_MODEL_f024978e79eb401cbdfe32ffa44bbd1d",
              "IPY_MODEL_c67c7ef49dd241b39bcf773708f97af8",
              "IPY_MODEL_10fda32382f04505959d5a10850a1118",
              "IPY_MODEL_9c1ca2da601e41f59e06780754d4841b"
            ],
            "layout": "IPY_MODEL_c58cdc6cbc0644b281b043d5becc50cc"
          }
        },
        "fd43249dc6354b7b92ed7111aa7a3952": {
          "model_module": "@jupyter-widgets/controls",
          "model_name": "IntSliderModel",
          "model_module_version": "1.5.0",
          "state": {
            "_dom_classes": [],
            "_model_module": "@jupyter-widgets/controls",
            "_model_module_version": "1.5.0",
            "_model_name": "IntSliderModel",
            "_view_count": null,
            "_view_module": "@jupyter-widgets/controls",
            "_view_module_version": "1.5.0",
            "_view_name": "IntSliderView",
            "continuous_update": true,
            "description": "exoplanet_radius",
            "description_tooltip": null,
            "disabled": false,
            "layout": "IPY_MODEL_66264e970c6d4276bbb637b2ac700c91",
            "max": 40000,
            "min": 10000,
            "orientation": "horizontal",
            "readout": true,
            "readout_format": "d",
            "step": 1000,
            "style": "IPY_MODEL_4598aa948fbb4ed2af2c3b67b5e840e9",
            "value": 25000
          }
        },
        "cf49b5f715364900957d25eea4666095": {
          "model_module": "@jupyter-widgets/controls",
          "model_name": "FloatSliderModel",
          "model_module_version": "1.5.0",
          "state": {
            "_dom_classes": [],
            "_model_module": "@jupyter-widgets/controls",
            "_model_module_version": "1.5.0",
            "_model_name": "FloatSliderModel",
            "_view_count": null,
            "_view_module": "@jupyter-widgets/controls",
            "_view_module_version": "1.5.0",
            "_view_name": "FloatSliderView",
            "continuous_update": true,
            "description": "period_of_orbit",
            "description_tooltip": null,
            "disabled": false,
            "layout": "IPY_MODEL_7f4db4b7e81d4afe8b49ede314cfb4a1",
            "max": 10,
            "min": 1,
            "orientation": "horizontal",
            "readout": true,
            "readout_format": ".2f",
            "step": 0.1,
            "style": "IPY_MODEL_9507efbb331b4a1a87c43d788edd6004",
            "value": 5
          }
        },
        "f024978e79eb401cbdfe32ffa44bbd1d": {
          "model_module": "@jupyter-widgets/controls",
          "model_name": "FloatSliderModel",
          "model_module_version": "1.5.0",
          "state": {
            "_dom_classes": [],
            "_model_module": "@jupyter-widgets/controls",
            "_model_module_version": "1.5.0",
            "_model_name": "FloatSliderModel",
            "_view_count": null,
            "_view_module": "@jupyter-widgets/controls",
            "_view_module_version": "1.5.0",
            "_view_name": "FloatSliderView",
            "continuous_update": true,
            "description": "orbital_radius",
            "description_tooltip": null,
            "disabled": false,
            "layout": "IPY_MODEL_ebf50a30a4754a278ab0d3a3a2b286c5",
            "max": 20000000,
            "min": 10000000,
            "orientation": "horizontal",
            "readout": true,
            "readout_format": ".2f",
            "step": 100000,
            "style": "IPY_MODEL_ec8c7556158249d3a0de59585d10f809",
            "value": 15000000
          }
        },
        "c67c7ef49dd241b39bcf773708f97af8": {
          "model_module": "@jupyter-widgets/controls",
          "model_name": "IntSliderModel",
          "model_module_version": "1.5.0",
          "state": {
            "_dom_classes": [],
            "_model_module": "@jupyter-widgets/controls",
            "_model_module_version": "1.5.0",
            "_model_name": "IntSliderModel",
            "_view_count": null,
            "_view_module": "@jupyter-widgets/controls",
            "_view_module_version": "1.5.0",
            "_view_name": "IntSliderView",
            "continuous_update": true,
            "description": "star_radius",
            "description_tooltip": null,
            "disabled": false,
            "layout": "IPY_MODEL_cfa6895c8bb64cde86b121fa33f68580",
            "max": 1000000,
            "min": 500000,
            "orientation": "horizontal",
            "readout": true,
            "readout_format": "d",
            "step": 10000,
            "style": "IPY_MODEL_08cf274248d947be9948f9930bb858c2",
            "value": 750000
          }
        },
        "10fda32382f04505959d5a10850a1118": {
          "model_module": "@jupyter-widgets/controls",
          "model_name": "FloatSliderModel",
          "model_module_version": "1.5.0",
          "state": {
            "_dom_classes": [],
            "_model_module": "@jupyter-widgets/controls",
            "_model_module_version": "1.5.0",
            "_model_name": "FloatSliderModel",
            "_view_count": null,
            "_view_module": "@jupyter-widgets/controls",
            "_view_module_version": "1.5.0",
            "_view_name": "FloatSliderView",
            "continuous_update": true,
            "description": "offset",
            "description_tooltip": null,
            "disabled": false,
            "layout": "IPY_MODEL_9f663de066ef42cdb93fe1fff5d3b3b3",
            "max": 10,
            "min": 0,
            "orientation": "horizontal",
            "readout": true,
            "readout_format": ".2f",
            "step": 0.1,
            "style": "IPY_MODEL_2d9e74249a9f431583d082fa79d433bb",
            "value": 5
          }
        },
        "9c1ca2da601e41f59e06780754d4841b": {
          "model_module": "@jupyter-widgets/output",
          "model_name": "OutputModel",
          "model_module_version": "1.0.0",
          "state": {
            "_dom_classes": [],
            "_model_module": "@jupyter-widgets/output",
            "_model_module_version": "1.0.0",
            "_model_name": "OutputModel",
            "_view_count": null,
            "_view_module": "@jupyter-widgets/output",
            "_view_module_version": "1.0.0",
            "_view_name": "OutputView",
            "layout": "IPY_MODEL_9a905321b9464ff5a2222dbdec23063c",
            "msg_id": "",
            "outputs": []
          }
        },
        "c58cdc6cbc0644b281b043d5becc50cc": {
          "model_module": "@jupyter-widgets/base",
          "model_name": "LayoutModel",
          "model_module_version": "1.2.0",
          "state": {
            "_model_module": "@jupyter-widgets/base",
            "_model_module_version": "1.2.0",
            "_model_name": "LayoutModel",
            "_view_count": null,
            "_view_module": "@jupyter-widgets/base",
            "_view_module_version": "1.2.0",
            "_view_name": "LayoutView",
            "align_content": null,
            "align_items": null,
            "align_self": null,
            "border": null,
            "bottom": null,
            "display": null,
            "flex": null,
            "flex_flow": null,
            "grid_area": null,
            "grid_auto_columns": null,
            "grid_auto_flow": null,
            "grid_auto_rows": null,
            "grid_column": null,
            "grid_gap": null,
            "grid_row": null,
            "grid_template_areas": null,
            "grid_template_columns": null,
            "grid_template_rows": null,
            "height": null,
            "justify_content": null,
            "justify_items": null,
            "left": null,
            "margin": null,
            "max_height": null,
            "max_width": null,
            "min_height": null,
            "min_width": null,
            "object_fit": null,
            "object_position": null,
            "order": null,
            "overflow": null,
            "overflow_x": null,
            "overflow_y": null,
            "padding": null,
            "right": null,
            "top": null,
            "visibility": null,
            "width": null
          }
        },
        "66264e970c6d4276bbb637b2ac700c91": {
          "model_module": "@jupyter-widgets/base",
          "model_name": "LayoutModel",
          "model_module_version": "1.2.0",
          "state": {
            "_model_module": "@jupyter-widgets/base",
            "_model_module_version": "1.2.0",
            "_model_name": "LayoutModel",
            "_view_count": null,
            "_view_module": "@jupyter-widgets/base",
            "_view_module_version": "1.2.0",
            "_view_name": "LayoutView",
            "align_content": null,
            "align_items": null,
            "align_self": null,
            "border": null,
            "bottom": null,
            "display": null,
            "flex": null,
            "flex_flow": null,
            "grid_area": null,
            "grid_auto_columns": null,
            "grid_auto_flow": null,
            "grid_auto_rows": null,
            "grid_column": null,
            "grid_gap": null,
            "grid_row": null,
            "grid_template_areas": null,
            "grid_template_columns": null,
            "grid_template_rows": null,
            "height": null,
            "justify_content": null,
            "justify_items": null,
            "left": null,
            "margin": null,
            "max_height": null,
            "max_width": null,
            "min_height": null,
            "min_width": null,
            "object_fit": null,
            "object_position": null,
            "order": null,
            "overflow": null,
            "overflow_x": null,
            "overflow_y": null,
            "padding": null,
            "right": null,
            "top": null,
            "visibility": null,
            "width": null
          }
        },
        "4598aa948fbb4ed2af2c3b67b5e840e9": {
          "model_module": "@jupyter-widgets/controls",
          "model_name": "SliderStyleModel",
          "model_module_version": "1.5.0",
          "state": {
            "_model_module": "@jupyter-widgets/controls",
            "_model_module_version": "1.5.0",
            "_model_name": "SliderStyleModel",
            "_view_count": null,
            "_view_module": "@jupyter-widgets/base",
            "_view_module_version": "1.2.0",
            "_view_name": "StyleView",
            "description_width": "",
            "handle_color": null
          }
        },
        "7f4db4b7e81d4afe8b49ede314cfb4a1": {
          "model_module": "@jupyter-widgets/base",
          "model_name": "LayoutModel",
          "model_module_version": "1.2.0",
          "state": {
            "_model_module": "@jupyter-widgets/base",
            "_model_module_version": "1.2.0",
            "_model_name": "LayoutModel",
            "_view_count": null,
            "_view_module": "@jupyter-widgets/base",
            "_view_module_version": "1.2.0",
            "_view_name": "LayoutView",
            "align_content": null,
            "align_items": null,
            "align_self": null,
            "border": null,
            "bottom": null,
            "display": null,
            "flex": null,
            "flex_flow": null,
            "grid_area": null,
            "grid_auto_columns": null,
            "grid_auto_flow": null,
            "grid_auto_rows": null,
            "grid_column": null,
            "grid_gap": null,
            "grid_row": null,
            "grid_template_areas": null,
            "grid_template_columns": null,
            "grid_template_rows": null,
            "height": null,
            "justify_content": null,
            "justify_items": null,
            "left": null,
            "margin": null,
            "max_height": null,
            "max_width": null,
            "min_height": null,
            "min_width": null,
            "object_fit": null,
            "object_position": null,
            "order": null,
            "overflow": null,
            "overflow_x": null,
            "overflow_y": null,
            "padding": null,
            "right": null,
            "top": null,
            "visibility": null,
            "width": null
          }
        },
        "9507efbb331b4a1a87c43d788edd6004": {
          "model_module": "@jupyter-widgets/controls",
          "model_name": "SliderStyleModel",
          "model_module_version": "1.5.0",
          "state": {
            "_model_module": "@jupyter-widgets/controls",
            "_model_module_version": "1.5.0",
            "_model_name": "SliderStyleModel",
            "_view_count": null,
            "_view_module": "@jupyter-widgets/base",
            "_view_module_version": "1.2.0",
            "_view_name": "StyleView",
            "description_width": "",
            "handle_color": null
          }
        },
        "ebf50a30a4754a278ab0d3a3a2b286c5": {
          "model_module": "@jupyter-widgets/base",
          "model_name": "LayoutModel",
          "model_module_version": "1.2.0",
          "state": {
            "_model_module": "@jupyter-widgets/base",
            "_model_module_version": "1.2.0",
            "_model_name": "LayoutModel",
            "_view_count": null,
            "_view_module": "@jupyter-widgets/base",
            "_view_module_version": "1.2.0",
            "_view_name": "LayoutView",
            "align_content": null,
            "align_items": null,
            "align_self": null,
            "border": null,
            "bottom": null,
            "display": null,
            "flex": null,
            "flex_flow": null,
            "grid_area": null,
            "grid_auto_columns": null,
            "grid_auto_flow": null,
            "grid_auto_rows": null,
            "grid_column": null,
            "grid_gap": null,
            "grid_row": null,
            "grid_template_areas": null,
            "grid_template_columns": null,
            "grid_template_rows": null,
            "height": null,
            "justify_content": null,
            "justify_items": null,
            "left": null,
            "margin": null,
            "max_height": null,
            "max_width": null,
            "min_height": null,
            "min_width": null,
            "object_fit": null,
            "object_position": null,
            "order": null,
            "overflow": null,
            "overflow_x": null,
            "overflow_y": null,
            "padding": null,
            "right": null,
            "top": null,
            "visibility": null,
            "width": null
          }
        },
        "ec8c7556158249d3a0de59585d10f809": {
          "model_module": "@jupyter-widgets/controls",
          "model_name": "SliderStyleModel",
          "model_module_version": "1.5.0",
          "state": {
            "_model_module": "@jupyter-widgets/controls",
            "_model_module_version": "1.5.0",
            "_model_name": "SliderStyleModel",
            "_view_count": null,
            "_view_module": "@jupyter-widgets/base",
            "_view_module_version": "1.2.0",
            "_view_name": "StyleView",
            "description_width": "",
            "handle_color": null
          }
        },
        "cfa6895c8bb64cde86b121fa33f68580": {
          "model_module": "@jupyter-widgets/base",
          "model_name": "LayoutModel",
          "model_module_version": "1.2.0",
          "state": {
            "_model_module": "@jupyter-widgets/base",
            "_model_module_version": "1.2.0",
            "_model_name": "LayoutModel",
            "_view_count": null,
            "_view_module": "@jupyter-widgets/base",
            "_view_module_version": "1.2.0",
            "_view_name": "LayoutView",
            "align_content": null,
            "align_items": null,
            "align_self": null,
            "border": null,
            "bottom": null,
            "display": null,
            "flex": null,
            "flex_flow": null,
            "grid_area": null,
            "grid_auto_columns": null,
            "grid_auto_flow": null,
            "grid_auto_rows": null,
            "grid_column": null,
            "grid_gap": null,
            "grid_row": null,
            "grid_template_areas": null,
            "grid_template_columns": null,
            "grid_template_rows": null,
            "height": null,
            "justify_content": null,
            "justify_items": null,
            "left": null,
            "margin": null,
            "max_height": null,
            "max_width": null,
            "min_height": null,
            "min_width": null,
            "object_fit": null,
            "object_position": null,
            "order": null,
            "overflow": null,
            "overflow_x": null,
            "overflow_y": null,
            "padding": null,
            "right": null,
            "top": null,
            "visibility": null,
            "width": null
          }
        },
        "08cf274248d947be9948f9930bb858c2": {
          "model_module": "@jupyter-widgets/controls",
          "model_name": "SliderStyleModel",
          "model_module_version": "1.5.0",
          "state": {
            "_model_module": "@jupyter-widgets/controls",
            "_model_module_version": "1.5.0",
            "_model_name": "SliderStyleModel",
            "_view_count": null,
            "_view_module": "@jupyter-widgets/base",
            "_view_module_version": "1.2.0",
            "_view_name": "StyleView",
            "description_width": "",
            "handle_color": null
          }
        },
        "9f663de066ef42cdb93fe1fff5d3b3b3": {
          "model_module": "@jupyter-widgets/base",
          "model_name": "LayoutModel",
          "model_module_version": "1.2.0",
          "state": {
            "_model_module": "@jupyter-widgets/base",
            "_model_module_version": "1.2.0",
            "_model_name": "LayoutModel",
            "_view_count": null,
            "_view_module": "@jupyter-widgets/base",
            "_view_module_version": "1.2.0",
            "_view_name": "LayoutView",
            "align_content": null,
            "align_items": null,
            "align_self": null,
            "border": null,
            "bottom": null,
            "display": null,
            "flex": null,
            "flex_flow": null,
            "grid_area": null,
            "grid_auto_columns": null,
            "grid_auto_flow": null,
            "grid_auto_rows": null,
            "grid_column": null,
            "grid_gap": null,
            "grid_row": null,
            "grid_template_areas": null,
            "grid_template_columns": null,
            "grid_template_rows": null,
            "height": null,
            "justify_content": null,
            "justify_items": null,
            "left": null,
            "margin": null,
            "max_height": null,
            "max_width": null,
            "min_height": null,
            "min_width": null,
            "object_fit": null,
            "object_position": null,
            "order": null,
            "overflow": null,
            "overflow_x": null,
            "overflow_y": null,
            "padding": null,
            "right": null,
            "top": null,
            "visibility": null,
            "width": null
          }
        },
        "2d9e74249a9f431583d082fa79d433bb": {
          "model_module": "@jupyter-widgets/controls",
          "model_name": "SliderStyleModel",
          "model_module_version": "1.5.0",
          "state": {
            "_model_module": "@jupyter-widgets/controls",
            "_model_module_version": "1.5.0",
            "_model_name": "SliderStyleModel",
            "_view_count": null,
            "_view_module": "@jupyter-widgets/base",
            "_view_module_version": "1.2.0",
            "_view_name": "StyleView",
            "description_width": "",
            "handle_color": null
          }
        },
        "9a905321b9464ff5a2222dbdec23063c": {
          "model_module": "@jupyter-widgets/base",
          "model_name": "LayoutModel",
          "model_module_version": "1.2.0",
          "state": {
            "_model_module": "@jupyter-widgets/base",
            "_model_module_version": "1.2.0",
            "_model_name": "LayoutModel",
            "_view_count": null,
            "_view_module": "@jupyter-widgets/base",
            "_view_module_version": "1.2.0",
            "_view_name": "LayoutView",
            "align_content": null,
            "align_items": null,
            "align_self": null,
            "border": null,
            "bottom": null,
            "display": null,
            "flex": null,
            "flex_flow": null,
            "grid_area": null,
            "grid_auto_columns": null,
            "grid_auto_flow": null,
            "grid_auto_rows": null,
            "grid_column": null,
            "grid_gap": null,
            "grid_row": null,
            "grid_template_areas": null,
            "grid_template_columns": null,
            "grid_template_rows": null,
            "height": null,
            "justify_content": null,
            "justify_items": null,
            "left": null,
            "margin": null,
            "max_height": null,
            "max_width": null,
            "min_height": null,
            "min_width": null,
            "object_fit": null,
            "object_position": null,
            "order": null,
            "overflow": null,
            "overflow_x": null,
            "overflow_y": null,
            "padding": null,
            "right": null,
            "top": null,
            "visibility": null,
            "width": null
          }
        },
        "716f5409e6ff45bb9dedfb73df8900c8": {
          "model_module": "@jupyter-widgets/base",
          "model_name": "LayoutModel",
          "model_module_version": "1.2.0",
          "state": {
            "_model_module": "@jupyter-widgets/base",
            "_model_module_version": "1.2.0",
            "_model_name": "LayoutModel",
            "_view_count": null,
            "_view_module": "@jupyter-widgets/base",
            "_view_module_version": "1.2.0",
            "_view_name": "LayoutView",
            "align_content": null,
            "align_items": null,
            "align_self": null,
            "border": null,
            "bottom": null,
            "display": null,
            "flex": null,
            "flex_flow": null,
            "grid_area": null,
            "grid_auto_columns": null,
            "grid_auto_flow": null,
            "grid_auto_rows": null,
            "grid_column": null,
            "grid_gap": null,
            "grid_row": null,
            "grid_template_areas": null,
            "grid_template_columns": null,
            "grid_template_rows": null,
            "height": null,
            "justify_content": null,
            "justify_items": null,
            "left": null,
            "margin": null,
            "max_height": null,
            "max_width": null,
            "min_height": null,
            "min_width": null,
            "object_fit": null,
            "object_position": null,
            "order": null,
            "overflow": null,
            "overflow_x": null,
            "overflow_y": null,
            "padding": null,
            "right": null,
            "top": null,
            "visibility": null,
            "width": null
          }
        },
        "5a58ddfd4a644d738313a4b19310f527": {
          "model_module": "@jupyter-widgets/base",
          "model_name": "LayoutModel",
          "model_module_version": "1.2.0",
          "state": {
            "_model_module": "@jupyter-widgets/base",
            "_model_module_version": "1.2.0",
            "_model_name": "LayoutModel",
            "_view_count": null,
            "_view_module": "@jupyter-widgets/base",
            "_view_module_version": "1.2.0",
            "_view_name": "LayoutView",
            "align_content": null,
            "align_items": null,
            "align_self": null,
            "border": null,
            "bottom": null,
            "display": null,
            "flex": null,
            "flex_flow": null,
            "grid_area": null,
            "grid_auto_columns": null,
            "grid_auto_flow": null,
            "grid_auto_rows": null,
            "grid_column": null,
            "grid_gap": null,
            "grid_row": null,
            "grid_template_areas": null,
            "grid_template_columns": null,
            "grid_template_rows": null,
            "height": null,
            "justify_content": null,
            "justify_items": null,
            "left": null,
            "margin": null,
            "max_height": null,
            "max_width": null,
            "min_height": null,
            "min_width": null,
            "object_fit": null,
            "object_position": null,
            "order": null,
            "overflow": null,
            "overflow_x": null,
            "overflow_y": null,
            "padding": null,
            "right": null,
            "top": null,
            "visibility": null,
            "width": null
          }
        },
        "434c83c68fb447c8b419bc941610b513": {
          "model_module": "@jupyter-widgets/base",
          "model_name": "LayoutModel",
          "model_module_version": "1.2.0",
          "state": {
            "_model_module": "@jupyter-widgets/base",
            "_model_module_version": "1.2.0",
            "_model_name": "LayoutModel",
            "_view_count": null,
            "_view_module": "@jupyter-widgets/base",
            "_view_module_version": "1.2.0",
            "_view_name": "LayoutView",
            "align_content": null,
            "align_items": null,
            "align_self": null,
            "border": null,
            "bottom": null,
            "display": null,
            "flex": null,
            "flex_flow": null,
            "grid_area": null,
            "grid_auto_columns": null,
            "grid_auto_flow": null,
            "grid_auto_rows": null,
            "grid_column": null,
            "grid_gap": null,
            "grid_row": null,
            "grid_template_areas": null,
            "grid_template_columns": null,
            "grid_template_rows": null,
            "height": null,
            "justify_content": null,
            "justify_items": null,
            "left": null,
            "margin": null,
            "max_height": null,
            "max_width": null,
            "min_height": null,
            "min_width": null,
            "object_fit": null,
            "object_position": null,
            "order": null,
            "overflow": null,
            "overflow_x": null,
            "overflow_y": null,
            "padding": null,
            "right": null,
            "top": null,
            "visibility": null,
            "width": null
          }
        },
        "ff39e3328c284381b0ab26aa1f0a15e4": {
          "model_module": "jupyter-matplotlib",
          "model_name": "ToolbarModel",
          "model_module_version": "^0.11",
          "state": {
            "_current_action": "",
            "_dom_classes": [],
            "_model_module": "jupyter-matplotlib",
            "_model_module_version": "^0.11",
            "_model_name": "ToolbarModel",
            "_view_count": null,
            "_view_module": "jupyter-matplotlib",
            "_view_module_version": "^0.11",
            "_view_name": "ToolbarView",
            "button_style": "",
            "collapsed": true,
            "layout": "IPY_MODEL_5a58ddfd4a644d738313a4b19310f527",
            "orientation": "vertical",
            "toolitems": [
              [
                "Home",
                "Reset original view",
                "home",
                "home"
              ],
              [
                "Back",
                "Back to previous view",
                "arrow-left",
                "back"
              ],
              [
                "Forward",
                "Forward to next view",
                "arrow-right",
                "forward"
              ],
              [
                "Pan",
                "Left button pans, Right button zooms\nx/y fixes axis, CTRL fixes aspect",
                "arrows",
                "pan"
              ],
              [
                "Zoom",
                "Zoom to rectangle\nx/y fixes axis",
                "square-o",
                "zoom"
              ],
              [
                "Download",
                "Download plot",
                "floppy-o",
                "save_figure"
              ]
            ]
          }
        },
        "de68b5c4f142468a9c5cd238c5aca11c": {
          "model_module": "jupyter-matplotlib",
          "model_name": "ToolbarModel",
          "model_module_version": "^0.11",
          "state": {
            "_current_action": "",
            "_dom_classes": [],
            "_model_module": "jupyter-matplotlib",
            "_model_module_version": "^0.11",
            "_model_name": "ToolbarModel",
            "_view_count": null,
            "_view_module": "jupyter-matplotlib",
            "_view_module_version": "^0.11",
            "_view_name": "ToolbarView",
            "button_style": "",
            "collapsed": true,
            "layout": "IPY_MODEL_434c83c68fb447c8b419bc941610b513",
            "orientation": "vertical",
            "toolitems": [
              [
                "Home",
                "Reset original view",
                "home",
                "home"
              ],
              [
                "Back",
                "Back to previous view",
                "arrow-left",
                "back"
              ],
              [
                "Forward",
                "Forward to next view",
                "arrow-right",
                "forward"
              ],
              [
                "Pan",
                "Left button pans, Right button zooms\nx/y fixes axis, CTRL fixes aspect",
                "arrows",
                "pan"
              ],
              [
                "Zoom",
                "Zoom to rectangle\nx/y fixes axis",
                "square-o",
                "zoom"
              ],
              [
                "Download",
                "Download plot",
                "floppy-o",
                "save_figure"
              ]
            ]
          }
        },
        "99eeedc9bcc74f499c865529350ec148": {
          "model_module": "jupyter-matplotlib",
          "model_name": "MPLCanvasModel",
          "model_module_version": "^0.11",
          "state": {
            "_cursor": "pointer",
            "_data_url": "data:image/png;base64,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",
            "_dom_classes": [],
            "_figure_label": "Figure 5",
            "_image_mode": "full",
            "_message": "",
            "_model_module": "jupyter-matplotlib",
            "_model_module_version": "^0.11",
            "_model_name": "MPLCanvasModel",
            "_rubberband_height": 0,
            "_rubberband_width": 0,
            "_rubberband_x": 0,
            "_rubberband_y": 0,
            "_size": [
              720,
              288
            ],
            "_view_count": null,
            "_view_module": "jupyter-matplotlib",
            "_view_module_version": "^0.11",
            "_view_name": "MPLCanvasView",
            "capture_scroll": false,
            "footer_visible": true,
            "header_visible": true,
            "layout": "IPY_MODEL_716f5409e6ff45bb9dedfb73df8900c8",
            "pan_zoom_throttle": 33,
            "resizable": true,
            "toolbar": "IPY_MODEL_de68b5c4f142468a9c5cd238c5aca11c",
            "toolbar_position": "left",
            "toolbar_visible": "fade-in-fade-out"
          }
        },
        "892bd3a47f0d4dbbb25cbcbc6696881f": {
          "model_module": "jupyter-matplotlib",
          "model_name": "MPLCanvasModel",
          "model_module_version": "^0.11",
          "state": {
            "_cursor": "default",
            "_data_url": "data:image/png;base64,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",
            "_dom_classes": [],
            "_figure_label": "Figure 6",
            "_image_mode": "full",
            "_message": "",
            "_model_module": "jupyter-matplotlib",
            "_model_module_version": "^0.11",
            "_model_name": "MPLCanvasModel",
            "_rubberband_height": 0,
            "_rubberband_width": 0,
            "_rubberband_x": 0,
            "_rubberband_y": 0,
            "_size": [
              900,
              372
            ],
            "_view_count": null,
            "_view_module": "jupyter-matplotlib",
            "_view_module_version": "^0.11",
            "_view_name": "MPLCanvasView",
            "capture_scroll": false,
            "footer_visible": true,
            "header_visible": true,
            "layout": "IPY_MODEL_7f2abf0eccb04a73b3b2295fbb1059f2",
            "pan_zoom_throttle": 33,
            "resizable": true,
            "toolbar": "IPY_MODEL_bd51dacdec9948fc92b6ad680e7e8d2b",
            "toolbar_position": "left",
            "toolbar_visible": "fade-in-fade-out"
          }
        },
        "7f2abf0eccb04a73b3b2295fbb1059f2": {
          "model_module": "@jupyter-widgets/base",
          "model_name": "LayoutModel",
          "model_module_version": "1.2.0",
          "state": {
            "_model_module": "@jupyter-widgets/base",
            "_model_module_version": "1.2.0",
            "_model_name": "LayoutModel",
            "_view_count": null,
            "_view_module": "@jupyter-widgets/base",
            "_view_module_version": "1.2.0",
            "_view_name": "LayoutView",
            "align_content": null,
            "align_items": null,
            "align_self": null,
            "border": null,
            "bottom": null,
            "display": null,
            "flex": null,
            "flex_flow": null,
            "grid_area": null,
            "grid_auto_columns": null,
            "grid_auto_flow": null,
            "grid_auto_rows": null,
            "grid_column": null,
            "grid_gap": null,
            "grid_row": null,
            "grid_template_areas": null,
            "grid_template_columns": null,
            "grid_template_rows": null,
            "height": null,
            "justify_content": null,
            "justify_items": null,
            "left": null,
            "margin": null,
            "max_height": null,
            "max_width": null,
            "min_height": null,
            "min_width": null,
            "object_fit": null,
            "object_position": null,
            "order": null,
            "overflow": null,
            "overflow_x": null,
            "overflow_y": null,
            "padding": null,
            "right": null,
            "top": null,
            "visibility": null,
            "width": null
          }
        },
        "bd51dacdec9948fc92b6ad680e7e8d2b": {
          "model_module": "jupyter-matplotlib",
          "model_name": "ToolbarModel",
          "model_module_version": "^0.11",
          "state": {
            "_current_action": "",
            "_dom_classes": [],
            "_model_module": "jupyter-matplotlib",
            "_model_module_version": "^0.11",
            "_model_name": "ToolbarModel",
            "_view_count": null,
            "_view_module": "jupyter-matplotlib",
            "_view_module_version": "^0.11",
            "_view_name": "ToolbarView",
            "button_style": "",
            "collapsed": true,
            "layout": "IPY_MODEL_ea5d44effd544b3ca3f36251ae97dcbc",
            "orientation": "vertical",
            "toolitems": [
              [
                "Home",
                "Reset original view",
                "home",
                "home"
              ],
              [
                "Back",
                "Back to previous view",
                "arrow-left",
                "back"
              ],
              [
                "Forward",
                "Forward to next view",
                "arrow-right",
                "forward"
              ],
              [
                "Pan",
                "Left button pans, Right button zooms\nx/y fixes axis, CTRL fixes aspect",
                "arrows",
                "pan"
              ],
              [
                "Zoom",
                "Zoom to rectangle\nx/y fixes axis",
                "square-o",
                "zoom"
              ],
              [
                "Download",
                "Download plot",
                "floppy-o",
                "save_figure"
              ]
            ]
          }
        },
        "ea5d44effd544b3ca3f36251ae97dcbc": {
          "model_module": "@jupyter-widgets/base",
          "model_name": "LayoutModel",
          "model_module_version": "1.2.0",
          "state": {
            "_model_module": "@jupyter-widgets/base",
            "_model_module_version": "1.2.0",
            "_model_name": "LayoutModel",
            "_view_count": null,
            "_view_module": "@jupyter-widgets/base",
            "_view_module_version": "1.2.0",
            "_view_name": "LayoutView",
            "align_content": null,
            "align_items": null,
            "align_self": null,
            "border": null,
            "bottom": null,
            "display": null,
            "flex": null,
            "flex_flow": null,
            "grid_area": null,
            "grid_auto_columns": null,
            "grid_auto_flow": null,
            "grid_auto_rows": null,
            "grid_column": null,
            "grid_gap": null,
            "grid_row": null,
            "grid_template_areas": null,
            "grid_template_columns": null,
            "grid_template_rows": null,
            "height": null,
            "justify_content": null,
            "justify_items": null,
            "left": null,
            "margin": null,
            "max_height": null,
            "max_width": null,
            "min_height": null,
            "min_width": null,
            "object_fit": null,
            "object_position": null,
            "order": null,
            "overflow": null,
            "overflow_x": null,
            "overflow_y": null,
            "padding": null,
            "right": null,
            "top": null,
            "visibility": null,
            "width": null
          }
        },
        "88a96938f29d4a2db30176d5faef62ae": {
          "model_module": "jupyter-matplotlib",
          "model_name": "MPLCanvasModel",
          "model_module_version": "^0.11",
          "state": {
            "_cursor": "default",
            "_data_url": "data:image/png;base64,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",
            "_dom_classes": [],
            "_figure_label": "Figure 7",
            "_image_mode": "full",
            "_message": "",
            "_model_module": "jupyter-matplotlib",
            "_model_module_version": "^0.11",
            "_model_name": "MPLCanvasModel",
            "_rubberband_height": 0,
            "_rubberband_width": 0,
            "_rubberband_x": 0,
            "_rubberband_y": 0,
            "_size": [
              720,
              288
            ],
            "_view_count": null,
            "_view_module": "jupyter-matplotlib",
            "_view_module_version": "^0.11",
            "_view_name": "MPLCanvasView",
            "capture_scroll": false,
            "footer_visible": true,
            "header_visible": true,
            "layout": "IPY_MODEL_593f474f5bd9467aa820ab33b5bd5133",
            "pan_zoom_throttle": 33,
            "resizable": true,
            "toolbar": "IPY_MODEL_2d4f264389234bcba19f0d0b0bedca6d",
            "toolbar_position": "left",
            "toolbar_visible": "fade-in-fade-out"
          }
        },
        "593f474f5bd9467aa820ab33b5bd5133": {
          "model_module": "@jupyter-widgets/base",
          "model_name": "LayoutModel",
          "model_module_version": "1.2.0",
          "state": {
            "_model_module": "@jupyter-widgets/base",
            "_model_module_version": "1.2.0",
            "_model_name": "LayoutModel",
            "_view_count": null,
            "_view_module": "@jupyter-widgets/base",
            "_view_module_version": "1.2.0",
            "_view_name": "LayoutView",
            "align_content": null,
            "align_items": null,
            "align_self": null,
            "border": null,
            "bottom": null,
            "display": null,
            "flex": null,
            "flex_flow": null,
            "grid_area": null,
            "grid_auto_columns": null,
            "grid_auto_flow": null,
            "grid_auto_rows": null,
            "grid_column": null,
            "grid_gap": null,
            "grid_row": null,
            "grid_template_areas": null,
            "grid_template_columns": null,
            "grid_template_rows": null,
            "height": null,
            "justify_content": null,
            "justify_items": null,
            "left": null,
            "margin": null,
            "max_height": null,
            "max_width": null,
            "min_height": null,
            "min_width": null,
            "object_fit": null,
            "object_position": null,
            "order": null,
            "overflow": null,
            "overflow_x": null,
            "overflow_y": null,
            "padding": null,
            "right": null,
            "top": null,
            "visibility": null,
            "width": null
          }
        },
        "2d4f264389234bcba19f0d0b0bedca6d": {
          "model_module": "jupyter-matplotlib",
          "model_name": "ToolbarModel",
          "model_module_version": "^0.11",
          "state": {
            "_current_action": "",
            "_dom_classes": [],
            "_model_module": "jupyter-matplotlib",
            "_model_module_version": "^0.11",
            "_model_name": "ToolbarModel",
            "_view_count": null,
            "_view_module": "jupyter-matplotlib",
            "_view_module_version": "^0.11",
            "_view_name": "ToolbarView",
            "button_style": "",
            "collapsed": true,
            "layout": "IPY_MODEL_d316fa2a66514354852e459d9aa0b151",
            "orientation": "vertical",
            "toolitems": [
              [
                "Home",
                "Reset original view",
                "home",
                "home"
              ],
              [
                "Back",
                "Back to previous view",
                "arrow-left",
                "back"
              ],
              [
                "Forward",
                "Forward to next view",
                "arrow-right",
                "forward"
              ],
              [
                "Pan",
                "Left button pans, Right button zooms\nx/y fixes axis, CTRL fixes aspect",
                "arrows",
                "pan"
              ],
              [
                "Zoom",
                "Zoom to rectangle\nx/y fixes axis",
                "square-o",
                "zoom"
              ],
              [
                "Download",
                "Download plot",
                "floppy-o",
                "save_figure"
              ]
            ]
          }
        },
        "d316fa2a66514354852e459d9aa0b151": {
          "model_module": "@jupyter-widgets/base",
          "model_name": "LayoutModel",
          "model_module_version": "1.2.0",
          "state": {
            "_model_module": "@jupyter-widgets/base",
            "_model_module_version": "1.2.0",
            "_model_name": "LayoutModel",
            "_view_count": null,
            "_view_module": "@jupyter-widgets/base",
            "_view_module_version": "1.2.0",
            "_view_name": "LayoutView",
            "align_content": null,
            "align_items": null,
            "align_self": null,
            "border": null,
            "bottom": null,
            "display": null,
            "flex": null,
            "flex_flow": null,
            "grid_area": null,
            "grid_auto_columns": null,
            "grid_auto_flow": null,
            "grid_auto_rows": null,
            "grid_column": null,
            "grid_gap": null,
            "grid_row": null,
            "grid_template_areas": null,
            "grid_template_columns": null,
            "grid_template_rows": null,
            "height": null,
            "justify_content": null,
            "justify_items": null,
            "left": null,
            "margin": null,
            "max_height": null,
            "max_width": null,
            "min_height": null,
            "min_width": null,
            "object_fit": null,
            "object_position": null,
            "order": null,
            "overflow": null,
            "overflow_x": null,
            "overflow_y": null,
            "padding": null,
            "right": null,
            "top": null,
            "visibility": null,
            "width": null
          }
        },
        "a5e294e1b8d6475b9a745e9ca9ac4c62": {
          "model_module": "@jupyter-widgets/controls",
          "model_name": "VBoxModel",
          "model_module_version": "1.5.0",
          "state": {
            "_dom_classes": [
              "widget-interact"
            ],
            "_model_module": "@jupyter-widgets/controls",
            "_model_module_version": "1.5.0",
            "_model_name": "VBoxModel",
            "_view_count": null,
            "_view_module": "@jupyter-widgets/controls",
            "_view_module_version": "1.5.0",
            "_view_name": "VBoxView",
            "box_style": "",
            "children": [
              "IPY_MODEL_03346b45c19643d295a5c0d39a2aa57a",
              "IPY_MODEL_3b3b7b17d1b74c029e1a593688352207",
              "IPY_MODEL_751eaa34545842a19437d786057f379c",
              "IPY_MODEL_cc70c93243474f15b88f60061bdcc551",
              "IPY_MODEL_20ca6b21f635426e936f34c32b43ecb6"
            ],
            "layout": "IPY_MODEL_0fcfc36ea8324ee5aa6a1d9493718781"
          }
        },
        "03346b45c19643d295a5c0d39a2aa57a": {
          "model_module": "@jupyter-widgets/controls",
          "model_name": "IntSliderModel",
          "model_module_version": "1.5.0",
          "state": {
            "_dom_classes": [],
            "_model_module": "@jupyter-widgets/controls",
            "_model_module_version": "1.5.0",
            "_model_name": "IntSliderModel",
            "_view_count": null,
            "_view_module": "@jupyter-widgets/controls",
            "_view_module_version": "1.5.0",
            "_view_name": "IntSliderView",
            "continuous_update": true,
            "description": "exoplanet_radius",
            "description_tooltip": null,
            "disabled": false,
            "layout": "IPY_MODEL_3382bec917994474aaaf12d78e6973d7",
            "max": 75000,
            "min": 50000,
            "orientation": "horizontal",
            "readout": true,
            "readout_format": "d",
            "step": 1000,
            "style": "IPY_MODEL_6b976717763443c097934025da66215a",
            "value": 62000
          }
        },
        "3b3b7b17d1b74c029e1a593688352207": {
          "model_module": "@jupyter-widgets/controls",
          "model_name": "FloatSliderModel",
          "model_module_version": "1.5.0",
          "state": {
            "_dom_classes": [],
            "_model_module": "@jupyter-widgets/controls",
            "_model_module_version": "1.5.0",
            "_model_name": "FloatSliderModel",
            "_view_count": null,
            "_view_module": "@jupyter-widgets/controls",
            "_view_module_version": "1.5.0",
            "_view_name": "FloatSliderView",
            "continuous_update": true,
            "description": "period_of_orbit",
            "description_tooltip": null,
            "disabled": false,
            "layout": "IPY_MODEL_90d151b5823941439f3fa816d8722810",
            "max": 10,
            "min": 0,
            "orientation": "horizontal",
            "readout": true,
            "readout_format": ".2f",
            "step": 0.1,
            "style": "IPY_MODEL_31fcee1647af4f7b9876a8a6a2653352",
            "value": 6.9
          }
        },
        "751eaa34545842a19437d786057f379c": {
          "model_module": "@jupyter-widgets/controls",
          "model_name": "FloatSliderModel",
          "model_module_version": "1.5.0",
          "state": {
            "_dom_classes": [],
            "_model_module": "@jupyter-widgets/controls",
            "_model_module_version": "1.5.0",
            "_model_name": "FloatSliderModel",
            "_view_count": null,
            "_view_module": "@jupyter-widgets/controls",
            "_view_module_version": "1.5.0",
            "_view_name": "FloatSliderView",
            "continuous_update": true,
            "description": "orbital_radius",
            "description_tooltip": null,
            "disabled": false,
            "layout": "IPY_MODEL_8494060e35584f5f96148acf42d26774",
            "max": 500000000,
            "min": 10000000,
            "orientation": "horizontal",
            "readout": true,
            "readout_format": ".2f",
            "step": 100000,
            "style": "IPY_MODEL_445aad0c68a2464999d30436f37bf9a8",
            "value": 254999999.99999997
          }
        },
        "cc70c93243474f15b88f60061bdcc551": {
          "model_module": "@jupyter-widgets/controls",
          "model_name": "FloatSliderModel",
          "model_module_version": "1.5.0",
          "state": {
            "_dom_classes": [],
            "_model_module": "@jupyter-widgets/controls",
            "_model_module_version": "1.5.0",
            "_model_name": "FloatSliderModel",
            "_view_count": null,
            "_view_module": "@jupyter-widgets/controls",
            "_view_module_version": "1.5.0",
            "_view_name": "FloatSliderView",
            "continuous_update": true,
            "description": "offset",
            "description_tooltip": null,
            "disabled": false,
            "layout": "IPY_MODEL_56c16f7ece4b448eb646c4daccd94af4",
            "max": 5,
            "min": 0,
            "orientation": "horizontal",
            "readout": true,
            "readout_format": ".2f",
            "step": 0.05,
            "style": "IPY_MODEL_0c9059d4166f486caaba57cd833148f5",
            "value": 2
          }
        },
        "20ca6b21f635426e936f34c32b43ecb6": {
          "model_module": "@jupyter-widgets/output",
          "model_name": "OutputModel",
          "model_module_version": "1.0.0",
          "state": {
            "_dom_classes": [],
            "_model_module": "@jupyter-widgets/output",
            "_model_module_version": "1.0.0",
            "_model_name": "OutputModel",
            "_view_count": null,
            "_view_module": "@jupyter-widgets/output",
            "_view_module_version": "1.0.0",
            "_view_name": "OutputView",
            "layout": "IPY_MODEL_f2677cafca194423bad7903b6d7cd785",
            "msg_id": "",
            "outputs": []
          }
        },
        "0fcfc36ea8324ee5aa6a1d9493718781": {
          "model_module": "@jupyter-widgets/base",
          "model_name": "LayoutModel",
          "model_module_version": "1.2.0",
          "state": {
            "_model_module": "@jupyter-widgets/base",
            "_model_module_version": "1.2.0",
            "_model_name": "LayoutModel",
            "_view_count": null,
            "_view_module": "@jupyter-widgets/base",
            "_view_module_version": "1.2.0",
            "_view_name": "LayoutView",
            "align_content": null,
            "align_items": null,
            "align_self": null,
            "border": null,
            "bottom": null,
            "display": null,
            "flex": null,
            "flex_flow": null,
            "grid_area": null,
            "grid_auto_columns": null,
            "grid_auto_flow": null,
            "grid_auto_rows": null,
            "grid_column": null,
            "grid_gap": null,
            "grid_row": null,
            "grid_template_areas": null,
            "grid_template_columns": null,
            "grid_template_rows": null,
            "height": null,
            "justify_content": null,
            "justify_items": null,
            "left": null,
            "margin": null,
            "max_height": null,
            "max_width": null,
            "min_height": null,
            "min_width": null,
            "object_fit": null,
            "object_position": null,
            "order": null,
            "overflow": null,
            "overflow_x": null,
            "overflow_y": null,
            "padding": null,
            "right": null,
            "top": null,
            "visibility": null,
            "width": null
          }
        },
        "3382bec917994474aaaf12d78e6973d7": {
          "model_module": "@jupyter-widgets/base",
          "model_name": "LayoutModel",
          "model_module_version": "1.2.0",
          "state": {
            "_model_module": "@jupyter-widgets/base",
            "_model_module_version": "1.2.0",
            "_model_name": "LayoutModel",
            "_view_count": null,
            "_view_module": "@jupyter-widgets/base",
            "_view_module_version": "1.2.0",
            "_view_name": "LayoutView",
            "align_content": null,
            "align_items": null,
            "align_self": null,
            "border": null,
            "bottom": null,
            "display": null,
            "flex": null,
            "flex_flow": null,
            "grid_area": null,
            "grid_auto_columns": null,
            "grid_auto_flow": null,
            "grid_auto_rows": null,
            "grid_column": null,
            "grid_gap": null,
            "grid_row": null,
            "grid_template_areas": null,
            "grid_template_columns": null,
            "grid_template_rows": null,
            "height": null,
            "justify_content": null,
            "justify_items": null,
            "left": null,
            "margin": null,
            "max_height": null,
            "max_width": null,
            "min_height": null,
            "min_width": null,
            "object_fit": null,
            "object_position": null,
            "order": null,
            "overflow": null,
            "overflow_x": null,
            "overflow_y": null,
            "padding": null,
            "right": null,
            "top": null,
            "visibility": null,
            "width": null
          }
        },
        "6b976717763443c097934025da66215a": {
          "model_module": "@jupyter-widgets/controls",
          "model_name": "SliderStyleModel",
          "model_module_version": "1.5.0",
          "state": {
            "_model_module": "@jupyter-widgets/controls",
            "_model_module_version": "1.5.0",
            "_model_name": "SliderStyleModel",
            "_view_count": null,
            "_view_module": "@jupyter-widgets/base",
            "_view_module_version": "1.2.0",
            "_view_name": "StyleView",
            "description_width": "",
            "handle_color": null
          }
        },
        "90d151b5823941439f3fa816d8722810": {
          "model_module": "@jupyter-widgets/base",
          "model_name": "LayoutModel",
          "model_module_version": "1.2.0",
          "state": {
            "_model_module": "@jupyter-widgets/base",
            "_model_module_version": "1.2.0",
            "_model_name": "LayoutModel",
            "_view_count": null,
            "_view_module": "@jupyter-widgets/base",
            "_view_module_version": "1.2.0",
            "_view_name": "LayoutView",
            "align_content": null,
            "align_items": null,
            "align_self": null,
            "border": null,
            "bottom": null,
            "display": null,
            "flex": null,
            "flex_flow": null,
            "grid_area": null,
            "grid_auto_columns": null,
            "grid_auto_flow": null,
            "grid_auto_rows": null,
            "grid_column": null,
            "grid_gap": null,
            "grid_row": null,
            "grid_template_areas": null,
            "grid_template_columns": null,
            "grid_template_rows": null,
            "height": null,
            "justify_content": null,
            "justify_items": null,
            "left": null,
            "margin": null,
            "max_height": null,
            "max_width": null,
            "min_height": null,
            "min_width": null,
            "object_fit": null,
            "object_position": null,
            "order": null,
            "overflow": null,
            "overflow_x": null,
            "overflow_y": null,
            "padding": null,
            "right": null,
            "top": null,
            "visibility": null,
            "width": null
          }
        },
        "31fcee1647af4f7b9876a8a6a2653352": {
          "model_module": "@jupyter-widgets/controls",
          "model_name": "SliderStyleModel",
          "model_module_version": "1.5.0",
          "state": {
            "_model_module": "@jupyter-widgets/controls",
            "_model_module_version": "1.5.0",
            "_model_name": "SliderStyleModel",
            "_view_count": null,
            "_view_module": "@jupyter-widgets/base",
            "_view_module_version": "1.2.0",
            "_view_name": "StyleView",
            "description_width": "",
            "handle_color": null
          }
        },
        "8494060e35584f5f96148acf42d26774": {
          "model_module": "@jupyter-widgets/base",
          "model_name": "LayoutModel",
          "model_module_version": "1.2.0",
          "state": {
            "_model_module": "@jupyter-widgets/base",
            "_model_module_version": "1.2.0",
            "_model_name": "LayoutModel",
            "_view_count": null,
            "_view_module": "@jupyter-widgets/base",
            "_view_module_version": "1.2.0",
            "_view_name": "LayoutView",
            "align_content": null,
            "align_items": null,
            "align_self": null,
            "border": null,
            "bottom": null,
            "display": null,
            "flex": null,
            "flex_flow": null,
            "grid_area": null,
            "grid_auto_columns": null,
            "grid_auto_flow": null,
            "grid_auto_rows": null,
            "grid_column": null,
            "grid_gap": null,
            "grid_row": null,
            "grid_template_areas": null,
            "grid_template_columns": null,
            "grid_template_rows": null,
            "height": null,
            "justify_content": null,
            "justify_items": null,
            "left": null,
            "margin": null,
            "max_height": null,
            "max_width": null,
            "min_height": null,
            "min_width": null,
            "object_fit": null,
            "object_position": null,
            "order": null,
            "overflow": null,
            "overflow_x": null,
            "overflow_y": null,
            "padding": null,
            "right": null,
            "top": null,
            "visibility": null,
            "width": null
          }
        },
        "445aad0c68a2464999d30436f37bf9a8": {
          "model_module": "@jupyter-widgets/controls",
          "model_name": "SliderStyleModel",
          "model_module_version": "1.5.0",
          "state": {
            "_model_module": "@jupyter-widgets/controls",
            "_model_module_version": "1.5.0",
            "_model_name": "SliderStyleModel",
            "_view_count": null,
            "_view_module": "@jupyter-widgets/base",
            "_view_module_version": "1.2.0",
            "_view_name": "StyleView",
            "description_width": "",
            "handle_color": null
          }
        },
        "56c16f7ece4b448eb646c4daccd94af4": {
          "model_module": "@jupyter-widgets/base",
          "model_name": "LayoutModel",
          "model_module_version": "1.2.0",
          "state": {
            "_model_module": "@jupyter-widgets/base",
            "_model_module_version": "1.2.0",
            "_model_name": "LayoutModel",
            "_view_count": null,
            "_view_module": "@jupyter-widgets/base",
            "_view_module_version": "1.2.0",
            "_view_name": "LayoutView",
            "align_content": null,
            "align_items": null,
            "align_self": null,
            "border": null,
            "bottom": null,
            "display": null,
            "flex": null,
            "flex_flow": null,
            "grid_area": null,
            "grid_auto_columns": null,
            "grid_auto_flow": null,
            "grid_auto_rows": null,
            "grid_column": null,
            "grid_gap": null,
            "grid_row": null,
            "grid_template_areas": null,
            "grid_template_columns": null,
            "grid_template_rows": null,
            "height": null,
            "justify_content": null,
            "justify_items": null,
            "left": null,
            "margin": null,
            "max_height": null,
            "max_width": null,
            "min_height": null,
            "min_width": null,
            "object_fit": null,
            "object_position": null,
            "order": null,
            "overflow": null,
            "overflow_x": null,
            "overflow_y": null,
            "padding": null,
            "right": null,
            "top": null,
            "visibility": null,
            "width": null
          }
        },
        "0c9059d4166f486caaba57cd833148f5": {
          "model_module": "@jupyter-widgets/controls",
          "model_name": "SliderStyleModel",
          "model_module_version": "1.5.0",
          "state": {
            "_model_module": "@jupyter-widgets/controls",
            "_model_module_version": "1.5.0",
            "_model_name": "SliderStyleModel",
            "_view_count": null,
            "_view_module": "@jupyter-widgets/base",
            "_view_module_version": "1.2.0",
            "_view_name": "StyleView",
            "description_width": "",
            "handle_color": null
          }
        },
        "f2677cafca194423bad7903b6d7cd785": {
          "model_module": "@jupyter-widgets/base",
          "model_name": "LayoutModel",
          "model_module_version": "1.2.0",
          "state": {
            "_model_module": "@jupyter-widgets/base",
            "_model_module_version": "1.2.0",
            "_model_name": "LayoutModel",
            "_view_count": null,
            "_view_module": "@jupyter-widgets/base",
            "_view_module_version": "1.2.0",
            "_view_name": "LayoutView",
            "align_content": null,
            "align_items": null,
            "align_self": null,
            "border": null,
            "bottom": null,
            "display": null,
            "flex": null,
            "flex_flow": null,
            "grid_area": null,
            "grid_auto_columns": null,
            "grid_auto_flow": null,
            "grid_auto_rows": null,
            "grid_column": null,
            "grid_gap": null,
            "grid_row": null,
            "grid_template_areas": null,
            "grid_template_columns": null,
            "grid_template_rows": null,
            "height": null,
            "justify_content": null,
            "justify_items": null,
            "left": null,
            "margin": null,
            "max_height": null,
            "max_width": null,
            "min_height": null,
            "min_width": null,
            "object_fit": null,
            "object_position": null,
            "order": null,
            "overflow": null,
            "overflow_x": null,
            "overflow_y": null,
            "padding": null,
            "right": null,
            "top": null,
            "visibility": null,
            "width": null
          }
        },
        "428be0a10916446ea8bc1c61e1692edf": {
          "model_module": "@jupyter-widgets/base",
          "model_name": "LayoutModel",
          "model_module_version": "1.2.0",
          "state": {
            "_model_module": "@jupyter-widgets/base",
            "_model_module_version": "1.2.0",
            "_model_name": "LayoutModel",
            "_view_count": null,
            "_view_module": "@jupyter-widgets/base",
            "_view_module_version": "1.2.0",
            "_view_name": "LayoutView",
            "align_content": null,
            "align_items": null,
            "align_self": null,
            "border": null,
            "bottom": null,
            "display": null,
            "flex": null,
            "flex_flow": null,
            "grid_area": null,
            "grid_auto_columns": null,
            "grid_auto_flow": null,
            "grid_auto_rows": null,
            "grid_column": null,
            "grid_gap": null,
            "grid_row": null,
            "grid_template_areas": null,
            "grid_template_columns": null,
            "grid_template_rows": null,
            "height": null,
            "justify_content": null,
            "justify_items": null,
            "left": null,
            "margin": null,
            "max_height": null,
            "max_width": null,
            "min_height": null,
            "min_width": null,
            "object_fit": null,
            "object_position": null,
            "order": null,
            "overflow": null,
            "overflow_x": null,
            "overflow_y": null,
            "padding": null,
            "right": null,
            "top": null,
            "visibility": null,
            "width": null
          }
        },
        "ecc23e7173814a61bb0930c2ad12bdf5": {
          "model_module": "@jupyter-widgets/base",
          "model_name": "LayoutModel",
          "model_module_version": "1.2.0",
          "state": {
            "_model_module": "@jupyter-widgets/base",
            "_model_module_version": "1.2.0",
            "_model_name": "LayoutModel",
            "_view_count": null,
            "_view_module": "@jupyter-widgets/base",
            "_view_module_version": "1.2.0",
            "_view_name": "LayoutView",
            "align_content": null,
            "align_items": null,
            "align_self": null,
            "border": null,
            "bottom": null,
            "display": null,
            "flex": null,
            "flex_flow": null,
            "grid_area": null,
            "grid_auto_columns": null,
            "grid_auto_flow": null,
            "grid_auto_rows": null,
            "grid_column": null,
            "grid_gap": null,
            "grid_row": null,
            "grid_template_areas": null,
            "grid_template_columns": null,
            "grid_template_rows": null,
            "height": null,
            "justify_content": null,
            "justify_items": null,
            "left": null,
            "margin": null,
            "max_height": null,
            "max_width": null,
            "min_height": null,
            "min_width": null,
            "object_fit": null,
            "object_position": null,
            "order": null,
            "overflow": null,
            "overflow_x": null,
            "overflow_y": null,
            "padding": null,
            "right": null,
            "top": null,
            "visibility": null,
            "width": null
          }
        },
        "56f85fe09f054eaa8968ecf37c948540": {
          "model_module": "@jupyter-widgets/base",
          "model_name": "LayoutModel",
          "model_module_version": "1.2.0",
          "state": {
            "_model_module": "@jupyter-widgets/base",
            "_model_module_version": "1.2.0",
            "_model_name": "LayoutModel",
            "_view_count": null,
            "_view_module": "@jupyter-widgets/base",
            "_view_module_version": "1.2.0",
            "_view_name": "LayoutView",
            "align_content": null,
            "align_items": null,
            "align_self": null,
            "border": null,
            "bottom": null,
            "display": null,
            "flex": null,
            "flex_flow": null,
            "grid_area": null,
            "grid_auto_columns": null,
            "grid_auto_flow": null,
            "grid_auto_rows": null,
            "grid_column": null,
            "grid_gap": null,
            "grid_row": null,
            "grid_template_areas": null,
            "grid_template_columns": null,
            "grid_template_rows": null,
            "height": null,
            "justify_content": null,
            "justify_items": null,
            "left": null,
            "margin": null,
            "max_height": null,
            "max_width": null,
            "min_height": null,
            "min_width": null,
            "object_fit": null,
            "object_position": null,
            "order": null,
            "overflow": null,
            "overflow_x": null,
            "overflow_y": null,
            "padding": null,
            "right": null,
            "top": null,
            "visibility": null,
            "width": null
          }
        },
        "14cc5d2470034e3ba2a659b135eb3110": {
          "model_module": "jupyter-matplotlib",
          "model_name": "ToolbarModel",
          "model_module_version": "^0.11",
          "state": {
            "_current_action": "",
            "_dom_classes": [],
            "_model_module": "jupyter-matplotlib",
            "_model_module_version": "^0.11",
            "_model_name": "ToolbarModel",
            "_view_count": null,
            "_view_module": "jupyter-matplotlib",
            "_view_module_version": "^0.11",
            "_view_name": "ToolbarView",
            "button_style": "",
            "collapsed": true,
            "layout": "IPY_MODEL_ecc23e7173814a61bb0930c2ad12bdf5",
            "orientation": "vertical",
            "toolitems": [
              [
                "Home",
                "Reset original view",
                "home",
                "home"
              ],
              [
                "Back",
                "Back to previous view",
                "arrow-left",
                "back"
              ],
              [
                "Forward",
                "Forward to next view",
                "arrow-right",
                "forward"
              ],
              [
                "Pan",
                "Left button pans, Right button zooms\nx/y fixes axis, CTRL fixes aspect",
                "arrows",
                "pan"
              ],
              [
                "Zoom",
                "Zoom to rectangle\nx/y fixes axis",
                "square-o",
                "zoom"
              ],
              [
                "Download",
                "Download plot",
                "floppy-o",
                "save_figure"
              ]
            ]
          }
        },
        "8b9f239b7d3c40588df1bbd0fc81ff7c": {
          "model_module": "jupyter-matplotlib",
          "model_name": "ToolbarModel",
          "model_module_version": "^0.11",
          "state": {
            "_current_action": "",
            "_dom_classes": [],
            "_model_module": "jupyter-matplotlib",
            "_model_module_version": "^0.11",
            "_model_name": "ToolbarModel",
            "_view_count": null,
            "_view_module": "jupyter-matplotlib",
            "_view_module_version": "^0.11",
            "_view_name": "ToolbarView",
            "button_style": "",
            "collapsed": true,
            "layout": "IPY_MODEL_56f85fe09f054eaa8968ecf37c948540",
            "orientation": "vertical",
            "toolitems": [
              [
                "Home",
                "Reset original view",
                "home",
                "home"
              ],
              [
                "Back",
                "Back to previous view",
                "arrow-left",
                "back"
              ],
              [
                "Forward",
                "Forward to next view",
                "arrow-right",
                "forward"
              ],
              [
                "Pan",
                "Left button pans, Right button zooms\nx/y fixes axis, CTRL fixes aspect",
                "arrows",
                "pan"
              ],
              [
                "Zoom",
                "Zoom to rectangle\nx/y fixes axis",
                "square-o",
                "zoom"
              ],
              [
                "Download",
                "Download plot",
                "floppy-o",
                "save_figure"
              ]
            ]
          }
        },
        "663bbdbb4e4648ed96ae06abfc24fb62": {
          "model_module": "jupyter-matplotlib",
          "model_name": "MPLCanvasModel",
          "model_module_version": "^0.11",
          "state": {
            "_cursor": "default",
            "_data_url": "data:image/png;base64,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",
            "_dom_classes": [],
            "_figure_label": "Figure 8",
            "_image_mode": "full",
            "_message": "x=141.407 y=0.998268",
            "_model_module": "jupyter-matplotlib",
            "_model_module_version": "^0.11",
            "_model_name": "MPLCanvasModel",
            "_rubberband_height": 0,
            "_rubberband_width": 0,
            "_rubberband_x": 0,
            "_rubberband_y": 0,
            "_size": [
              843,
              333
            ],
            "_view_count": null,
            "_view_module": "jupyter-matplotlib",
            "_view_module_version": "^0.11",
            "_view_name": "MPLCanvasView",
            "capture_scroll": false,
            "footer_visible": true,
            "header_visible": true,
            "layout": "IPY_MODEL_428be0a10916446ea8bc1c61e1692edf",
            "pan_zoom_throttle": 33,
            "resizable": true,
            "toolbar": "IPY_MODEL_8b9f239b7d3c40588df1bbd0fc81ff7c",
            "toolbar_position": "left",
            "toolbar_visible": "fade-in-fade-out"
          }
        },
        "a3e4a62c7df84d7cb6e2b1a0bdf87c3f": {
          "model_module": "jupyter-matplotlib",
          "model_name": "MPLCanvasModel",
          "model_module_version": "^0.11",
          "state": {
            "_cursor": "default",
            "_data_url": "data:image/png;base64,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",
            "_dom_classes": [],
            "_figure_label": "Figure 9",
            "_image_mode": "full",
            "_message": "",
            "_model_module": "jupyter-matplotlib",
            "_model_module_version": "^0.11",
            "_model_name": "MPLCanvasModel",
            "_rubberband_height": 0,
            "_rubberband_width": 0,
            "_rubberband_x": 0,
            "_rubberband_y": 0,
            "_size": [
              720,
              288
            ],
            "_view_count": null,
            "_view_module": "jupyter-matplotlib",
            "_view_module_version": "^0.11",
            "_view_name": "MPLCanvasView",
            "capture_scroll": false,
            "footer_visible": true,
            "header_visible": true,
            "layout": "IPY_MODEL_0be8c73b966e4855882519e953269954",
            "pan_zoom_throttle": 33,
            "resizable": true,
            "toolbar": "IPY_MODEL_23809662bf4142ee8026831ef269ef9c",
            "toolbar_position": "left",
            "toolbar_visible": "fade-in-fade-out"
          }
        },
        "0be8c73b966e4855882519e953269954": {
          "model_module": "@jupyter-widgets/base",
          "model_name": "LayoutModel",
          "model_module_version": "1.2.0",
          "state": {
            "_model_module": "@jupyter-widgets/base",
            "_model_module_version": "1.2.0",
            "_model_name": "LayoutModel",
            "_view_count": null,
            "_view_module": "@jupyter-widgets/base",
            "_view_module_version": "1.2.0",
            "_view_name": "LayoutView",
            "align_content": null,
            "align_items": null,
            "align_self": null,
            "border": null,
            "bottom": null,
            "display": null,
            "flex": null,
            "flex_flow": null,
            "grid_area": null,
            "grid_auto_columns": null,
            "grid_auto_flow": null,
            "grid_auto_rows": null,
            "grid_column": null,
            "grid_gap": null,
            "grid_row": null,
            "grid_template_areas": null,
            "grid_template_columns": null,
            "grid_template_rows": null,
            "height": null,
            "justify_content": null,
            "justify_items": null,
            "left": null,
            "margin": null,
            "max_height": null,
            "max_width": null,
            "min_height": null,
            "min_width": null,
            "object_fit": null,
            "object_position": null,
            "order": null,
            "overflow": null,
            "overflow_x": null,
            "overflow_y": null,
            "padding": null,
            "right": null,
            "top": null,
            "visibility": null,
            "width": null
          }
        },
        "23809662bf4142ee8026831ef269ef9c": {
          "model_module": "jupyter-matplotlib",
          "model_name": "ToolbarModel",
          "model_module_version": "^0.11",
          "state": {
            "_current_action": "",
            "_dom_classes": [],
            "_model_module": "jupyter-matplotlib",
            "_model_module_version": "^0.11",
            "_model_name": "ToolbarModel",
            "_view_count": null,
            "_view_module": "jupyter-matplotlib",
            "_view_module_version": "^0.11",
            "_view_name": "ToolbarView",
            "button_style": "",
            "collapsed": true,
            "layout": "IPY_MODEL_eb5f126ba68d43e6afb06db1ed8d2725",
            "orientation": "vertical",
            "toolitems": [
              [
                "Home",
                "Reset original view",
                "home",
                "home"
              ],
              [
                "Back",
                "Back to previous view",
                "arrow-left",
                "back"
              ],
              [
                "Forward",
                "Forward to next view",
                "arrow-right",
                "forward"
              ],
              [
                "Pan",
                "Left button pans, Right button zooms\nx/y fixes axis, CTRL fixes aspect",
                "arrows",
                "pan"
              ],
              [
                "Zoom",
                "Zoom to rectangle\nx/y fixes axis",
                "square-o",
                "zoom"
              ],
              [
                "Download",
                "Download plot",
                "floppy-o",
                "save_figure"
              ]
            ]
          }
        },
        "eb5f126ba68d43e6afb06db1ed8d2725": {
          "model_module": "@jupyter-widgets/base",
          "model_name": "LayoutModel",
          "model_module_version": "1.2.0",
          "state": {
            "_model_module": "@jupyter-widgets/base",
            "_model_module_version": "1.2.0",
            "_model_name": "LayoutModel",
            "_view_count": null,
            "_view_module": "@jupyter-widgets/base",
            "_view_module_version": "1.2.0",
            "_view_name": "LayoutView",
            "align_content": null,
            "align_items": null,
            "align_self": null,
            "border": null,
            "bottom": null,
            "display": null,
            "flex": null,
            "flex_flow": null,
            "grid_area": null,
            "grid_auto_columns": null,
            "grid_auto_flow": null,
            "grid_auto_rows": null,
            "grid_column": null,
            "grid_gap": null,
            "grid_row": null,
            "grid_template_areas": null,
            "grid_template_columns": null,
            "grid_template_rows": null,
            "height": null,
            "justify_content": null,
            "justify_items": null,
            "left": null,
            "margin": null,
            "max_height": null,
            "max_width": null,
            "min_height": null,
            "min_width": null,
            "object_fit": null,
            "object_position": null,
            "order": null,
            "overflow": null,
            "overflow_x": null,
            "overflow_y": null,
            "padding": null,
            "right": null,
            "top": null,
            "visibility": null,
            "width": null
          }
        },
        "e292259ff7dc4706bb8a1afddda412c4": {
          "model_module": "jupyter-matplotlib",
          "model_name": "MPLCanvasModel",
          "model_module_version": "^0.11",
          "state": {
            "_cursor": "default",
            "_data_url": "data:image/png;base64,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",
            "_dom_classes": [],
            "_figure_label": "Figure 10",
            "_image_mode": "full",
            "_message": "x=253.8 y=0.99447",
            "_model_module": "jupyter-matplotlib",
            "_model_module_version": "^0.11",
            "_model_name": "MPLCanvasModel",
            "_rubberband_height": 0,
            "_rubberband_width": 0,
            "_rubberband_x": 0,
            "_rubberband_y": 0,
            "_size": [
              1092,
              580
            ],
            "_view_count": null,
            "_view_module": "jupyter-matplotlib",
            "_view_module_version": "^0.11",
            "_view_name": "MPLCanvasView",
            "capture_scroll": false,
            "footer_visible": true,
            "header_visible": true,
            "layout": "IPY_MODEL_696879364df44f988baf25044fdc57aa",
            "pan_zoom_throttle": 33,
            "resizable": true,
            "toolbar": "IPY_MODEL_e7bcaf603bd84b31b2381caede67f642",
            "toolbar_position": "left",
            "toolbar_visible": "fade-in-fade-out"
          }
        },
        "696879364df44f988baf25044fdc57aa": {
          "model_module": "@jupyter-widgets/base",
          "model_name": "LayoutModel",
          "model_module_version": "1.2.0",
          "state": {
            "_model_module": "@jupyter-widgets/base",
            "_model_module_version": "1.2.0",
            "_model_name": "LayoutModel",
            "_view_count": null,
            "_view_module": "@jupyter-widgets/base",
            "_view_module_version": "1.2.0",
            "_view_name": "LayoutView",
            "align_content": null,
            "align_items": null,
            "align_self": null,
            "border": null,
            "bottom": null,
            "display": null,
            "flex": null,
            "flex_flow": null,
            "grid_area": null,
            "grid_auto_columns": null,
            "grid_auto_flow": null,
            "grid_auto_rows": null,
            "grid_column": null,
            "grid_gap": null,
            "grid_row": null,
            "grid_template_areas": null,
            "grid_template_columns": null,
            "grid_template_rows": null,
            "height": null,
            "justify_content": null,
            "justify_items": null,
            "left": null,
            "margin": null,
            "max_height": null,
            "max_width": null,
            "min_height": null,
            "min_width": null,
            "object_fit": null,
            "object_position": null,
            "order": null,
            "overflow": null,
            "overflow_x": null,
            "overflow_y": null,
            "padding": null,
            "right": null,
            "top": null,
            "visibility": null,
            "width": null
          }
        },
        "e7bcaf603bd84b31b2381caede67f642": {
          "model_module": "jupyter-matplotlib",
          "model_name": "ToolbarModel",
          "model_module_version": "^0.11",
          "state": {
            "_current_action": "",
            "_dom_classes": [],
            "_model_module": "jupyter-matplotlib",
            "_model_module_version": "^0.11",
            "_model_name": "ToolbarModel",
            "_view_count": null,
            "_view_module": "jupyter-matplotlib",
            "_view_module_version": "^0.11",
            "_view_name": "ToolbarView",
            "button_style": "",
            "collapsed": true,
            "layout": "IPY_MODEL_2522c26bba2d4aa59ffbcbe76bf810eb",
            "orientation": "vertical",
            "toolitems": [
              [
                "Home",
                "Reset original view",
                "home",
                "home"
              ],
              [
                "Back",
                "Back to previous view",
                "arrow-left",
                "back"
              ],
              [
                "Forward",
                "Forward to next view",
                "arrow-right",
                "forward"
              ],
              [
                "Pan",
                "Left button pans, Right button zooms\nx/y fixes axis, CTRL fixes aspect",
                "arrows",
                "pan"
              ],
              [
                "Zoom",
                "Zoom to rectangle\nx/y fixes axis",
                "square-o",
                "zoom"
              ],
              [
                "Download",
                "Download plot",
                "floppy-o",
                "save_figure"
              ]
            ]
          }
        },
        "2522c26bba2d4aa59ffbcbe76bf810eb": {
          "model_module": "@jupyter-widgets/base",
          "model_name": "LayoutModel",
          "model_module_version": "1.2.0",
          "state": {
            "_model_module": "@jupyter-widgets/base",
            "_model_module_version": "1.2.0",
            "_model_name": "LayoutModel",
            "_view_count": null,
            "_view_module": "@jupyter-widgets/base",
            "_view_module_version": "1.2.0",
            "_view_name": "LayoutView",
            "align_content": null,
            "align_items": null,
            "align_self": null,
            "border": null,
            "bottom": null,
            "display": null,
            "flex": null,
            "flex_flow": null,
            "grid_area": null,
            "grid_auto_columns": null,
            "grid_auto_flow": null,
            "grid_auto_rows": null,
            "grid_column": null,
            "grid_gap": null,
            "grid_row": null,
            "grid_template_areas": null,
            "grid_template_columns": null,
            "grid_template_rows": null,
            "height": null,
            "justify_content": null,
            "justify_items": null,
            "left": null,
            "margin": null,
            "max_height": null,
            "max_width": null,
            "min_height": null,
            "min_width": null,
            "object_fit": null,
            "object_position": null,
            "order": null,
            "overflow": null,
            "overflow_x": null,
            "overflow_y": null,
            "padding": null,
            "right": null,
            "top": null,
            "visibility": null,
            "width": null
          }
        }
      }
    }
  },
  "nbformat": 4,
  "nbformat_minor": 5
}