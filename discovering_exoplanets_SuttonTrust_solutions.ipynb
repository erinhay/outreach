{
 "cells": [
  {
   "cell_type": "markdown",
   "metadata": {},
   "source": [
    "# Discovering Exoplanets Around Distant Stars\n",
    "\n",
    "By [Erin Hayes](https://www.ast.cam.ac.uk/people/Erin.Hayes), [Frances Rigby](https://www.ast.cam.ac.uk/people/frances.rigby), and [Richard Anslow](https://www.ast.cam.ac.uk/people/richard.anslow)\n",
    "\n",
    "Humans have known about some of the planets in our own solar system for millenia, with the most recent discoveries of Uranus and Neptune coming in 1781 and 1846 respectively. The next big leap came over a hundred years later in 1995 when the first exoplanet, a planet around another star, was detected.\n",
    "\n",
    "Since then over 5,000 exoplanets have since been confirmed. While some of these planets look like planets in own solar system, many of these planets are very different! They can be much bigger than Jupiter or much hotter than Mercury. It is the job of astronomers to use data such as the size and distance of the planet from its host star to figure out exactly how planets form and evolve over time to produce such a wide variety of solar systems. We've come a long way but there is still much more to uncover!\n",
    "\n",
    "In this notebook, you will learn how astronomers use data from NASA's Kepler Space Telescope to discover exoplanets orbiting around other stars in our galaxy, the Milky Way!"
   ]
  },
  {
   "cell_type": "markdown",
   "metadata": {},
   "source": [
    "## How to use this notebook:\n",
    "\n",
    "Astronomers often work in \"notebooks,\" which are workspaces for coding in python that make it very easy to do calculations and plot graphs quickly. Notebooks consists of many \"cells\" which help us organize our code. You can see the first cell of our notebook below this text.\n",
    "\n",
    "In order to \"run\" a cell, you should press Shift + Enter together on your keyboard. Click on the cell below and try running it!"
   ]
  },
  {
   "cell_type": "code",
   "execution_count": null,
   "metadata": {},
   "outputs": [],
   "source": [
    "# This is a cell!\n",
    "# In python, we use a '#' symbol at the beginning of a line in a cell to leave \"comments\" that the computer doesn't read.\n",
    "# Comments are helpful to organize our ideas when we're coding, or leave notes to help others understand our code.\n",
    "# Feel free to add your own comments throughout the notebook!"
   ]
  },
  {
   "cell_type": "markdown",
   "metadata": {},
   "source": [
    "Built-in to the computer are a number of \"functions.\" Functions are short commands that make the computer automatically perform a task for us.\n",
    "\n",
    "Functions are normally used by typing the name of the function followed by a set of parenthesis, which specify the object we want the function to focus on (this could be a number, a list of numbers, some text, etc). For example, the code `print('Hello World!')` tells the computer to show the phrase \"Hello World\" on your screen!"
   ]
  },
  {
   "cell_type": "code",
   "execution_count": null,
   "metadata": {},
   "outputs": [],
   "source": [
    "# Can you get the computer to print the phrase \"Exoplanets are awesome!\" ?\n",
    "print(\"Exoplanets are awesome!\")"
   ]
  },
  {
   "cell_type": "markdown",
   "metadata": {},
   "source": [
    "You should see the phrase you wanted to print shown above!\n",
    "\n",
    "Let's try using another built-in python function. The \"min\" function will find the minimum of a list of numbers for us. First, we'll want to create a list of numbers. Then we'll want to use the `min()` function to find the minimum of our list of numbers. "
   ]
  },
  {
   "cell_type": "code",
   "execution_count": null,
   "metadata": {},
   "outputs": [],
   "source": [
    "# Create a list of numbers below. Feel free to change it!\n",
    "numbers = [0.3, 1, 28, 17.6, 4, 0.05, 1.25]\n",
    "\n",
    "# Use the min function below to find the minimum of our list, \"numbers\"\n",
    "print('The minimum of our list of numbers is: ')\n",
    "min(numbers)"
   ]
  },
  {
   "cell_type": "markdown",
   "metadata": {},
   "source": [
    "If you are seeing the message `TypeError: min expected 1 arguments, got 0`, you may not have told the `min()` function what list to look at. Keep trying until you see the correct minimum of the list printed out above!\n",
    "\n",
    "To learn more about the built-in python functions, you can check out the [Python documentation](https://docs.python.org/3/library/functions.html), which lists all the available functions."
   ]
  },
  {
   "cell_type": "markdown",
   "metadata": {},
   "source": [
    "### Imports\n",
    "\n",
    "Basic python has some useful functions, but we're going to want more specialized functions for astronomy. Software engineers and astronomers have developed a number of \"packages,\" which contain extra functions that are useful for specific purposes. For example, the `matplotlib` package helps to make graphs, such as scatter plots or bar charts, in python. Examples of what you can do with `matplotlib` can be found on the [package documentation website](https://matplotlib.org/stable/gallery/index.html). When you run the cell below, the computer will install and import the packages we need for this notebook.\n",
    "\n",
    "The packages we're using are:\n",
    "* `numpy`: a package with extended functionality for advanced mathematical computations\n",
    "* `matplotlib`: a package for making plots and graphs\n",
    "* `ipywidgets`: a package for turning static plots into interactive plots\n",
    "* `astropy`: a package for keeping track of units and constants in astronomy, and opening files as data tables\n",
    "* `lightkurve`: a package for accessing exoplanet data from the Kepler Telescope"
   ]
  },
  {
   "cell_type": "code",
   "execution_count": null,
   "metadata": {},
   "outputs": [],
   "source": [
    "!git clone https://github.com/erinhay/outreach.git\n",
    "!pip install ipympl\n",
    "!pip install astropy\n",
    "!pip install lightkurve > /dev/null 2>&1 \n",
    "\n",
    "import os\n",
    "os.chdir('/content/outreach/Discovering-Exoplanets/')\n",
    "\n",
    "import numpy as np\n",
    "import matplotlib.pyplot as plt\n",
    "from ipywidgets import interact\n",
    "import astropy.table as at\n",
    "import astropy.units as au\n",
    "import astropy.constants as ac\n",
    "import lightkurve as lk\n",
    "\n",
    "from google.colab import output\n",
    "output.enable_custom_widget_manager()\n",
    "%matplotlib widget\n",
    "\n",
    "plt.style.use('./style/style.mplstyle')"
   ]
  },
  {
   "cell_type": "markdown",
   "metadata": {},
   "source": [
    "## What is a light curve?\n",
    "\n",
    "Light curves measure the brightness of a star over time, in a graph like this:"
   ]
  },
  {
   "cell_type": "code",
   "execution_count": null,
   "metadata": {},
   "outputs": [],
   "source": [
    "# When we imported matplotlib, we gave it a nickname so we don't have to type out all of \"matplotlib\" all the time.\n",
    "# Instead, to call functions from matplotlib, we can just use the prefix \"plt\"\n",
    "# For example, to make a \"figure,\" or the axes of our plot, we type \"plt.figure()\"\n",
    "\n",
    "plt.figure(figsize=(10,4))      # This line tells the computer we want to make a \"figure\" or graph\n",
    "                                # We've told matplotlib that we want our figure to be 10 units long and 4 units tall using figsize=(10,4)\n",
    "plt.xlabel('time [days]')       # This line makes an x-axis label with the text \"time [days]\"\n",
    "plt.ylabel('brightness')        # This line makes an y-axis label with the text \"brightness\"\n",
    "plt.xlim(0, 10)                 # This line makes the x-axis go from 0 to 10 days\n",
    "plt.ylim(0, 2)                  # This line makes the y-axis go from 0 to 2 units of brightness\n",
    "plt.tight_layout()\n",
    "plt.show()"
   ]
  },
  {
   "cell_type": "markdown",
   "metadata": {},
   "source": [
    "### The Kepler telescope was sent into space to observe the light curves of millions of stars, some of which might have exoplanets orbiting them. What do you expect the light curve of a star without an exoplanet orbiting it to look like?\n",
    "\n",
    "Below, you will open a file that has simulated data from a star without an exoplanet orbiting it. We will use the `read` function from astropy to put the file into a table. You can access this astropy funtion via `at.Table.read()`.\n",
    "\n",
    "Can you print the data table? What do the columns in the data table mean?"
   ]
  },
  {
   "cell_type": "code",
   "execution_count": null,
   "metadata": {},
   "outputs": [],
   "source": [
    "path_to_data = './data/star1.csv'          # The \"path\" tells us where the file is located on our computer. Don't worry about changing this!\n",
    "data_table = at.Table.read(path_to_data)   # We will tell the function at.Table.read() to look in the location specified by path_to_data to open the file\n",
    "\n",
    "# Print the table with the data!\n",
    "print(data_table)"
   ]
  },
  {
   "cell_type": "markdown",
   "metadata": {},
   "source": [
    "Now that we've opened the data table, can you plot the light curve?"
   ]
  },
  {
   "cell_type": "code",
   "execution_count": null,
   "metadata": {},
   "outputs": [],
   "source": [
    "# Retrieve the times of observation and the observed brightnesses from the data table\n",
    "times = data_table['time']          # Store the times of measurements here\n",
    "brightness = data_table['flux']     # and the brightness (or flux) measurements here\n",
    "\n",
    "\n",
    "# Open a figure and use the function plt.errorbar to plot the brightnesses as a scatter plot!\n",
    "plt.figure(figsize=(10,4))\n",
    "\n",
    "# With plt.errorbar, the first entry we give to the function should be the values\n",
    "# we want to plot on the x-axis (time, in our case). The second entry should\n",
    "# be the values we want to plot on the y-axis (brightness, in our case).\n",
    "# There are some extra parameters we can use to make the plot look clear, such as marker='.'.\n",
    "# You can find out more about the errorbar function here:\n",
    "# https://matplotlib.org/stable/api/_as_gen/matplotlib.pyplot.errorbar.html.\n",
    "# Give it a go!\n",
    "plt.errorbar(times, brightness, ls='None', marker='.')\n",
    "\n",
    "plt.xlabel('time [days]')\n",
    "plt.ylabel('brightness')\n",
    "plt.ylim(0,1.5)\n",
    "plt.tight_layout()"
   ]
  },
  {
   "cell_type": "markdown",
   "metadata": {},
   "source": [
    "What do you notice about this light curve? Is it as you expected?\n",
    "\n",
    "### When an exoplanet passes in front of a star, the brightness of the star decreases because the exoplanet blocks the light. The light curve is left with a dip in it like you see in this video:\n",
    "\n",
    "<br>\n",
    "<img src=\"https://github.com/erinhay/outreach/blob/main/Discovering-Exoplanets/images/transit_gif.gif?raw=1\" alt=\"Alternative text\" />\n",
    "<br>\n",
    "\n",
    "By observing stars and looking for dips in their brightnesses, astronomers can identify which stars have exoplanets orbiting around them. Now that we know what we're looking for, let's look at the light curve of a simulated star that has an exoplanet orbiting it!"
   ]
  },
  {
   "cell_type": "code",
   "execution_count": null,
   "metadata": {},
   "outputs": [],
   "source": [
    "path_to_data = './data/star2.csv'         # Again, don't worry about changing this!\n",
    "data_table = at.Table.read(path_to_data)"
   ]
  },
  {
   "cell_type": "code",
   "execution_count": null,
   "metadata": {},
   "outputs": [],
   "source": [
    "# As before, retrieve the times of observation and the observed brightnesses from the data table\n",
    "times = data_table['time']          # Store the times of measurements here\n",
    "brightness = data_table['flux']     # and the brightness (or flux) measurements here\n",
    "\n",
    "# Set up the graph in the same way as before:\n",
    "plt.figure(figsize=(10,4))\n",
    "\n",
    "# Make a scatter plot of the brightnesses over time\n",
    "plt.errorbar(times, brightness, ls='None', marker='.')\n",
    "\n",
    "plt.xlabel('time [days]')\n",
    "plt.ylabel('brightness')\n",
    "plt.ylim(0.9992,1.0002)\n",
    "plt.tight_layout()"
   ]
  },
  {
   "cell_type": "markdown",
   "metadata": {},
   "source": [
    "We can see the exoplanet orbit with a regular spacing between transits!\n",
    "\n",
    "### The shape of the transit can very a lot depending on a lot of factors, including the radius of the exoplanet and how fast the exoplanet moves around the star. There are a lot of other factors that affect the shape of the light curve, such as the size of the star and the distance of the exoplanet from the star.\n",
    "\n",
    "Fortunately, we can use our knowledge of physics to relate properties of the exoplanet to the shape of the transit. Next, we want to define a model for the brightness of a star with an exoplanet. Then, when we have data, we can use our model to match the shape of the light curve in the data to determine properties of the exoplanet.\n",
    "\n",
    "We want our model to be a function of 5 parameters:\n",
    "* the orbital radius, $a$\n",
    "* the radius of the exoplanet, $R_\\text{p}$ [m]\n",
    "* the mass of the exoplanet, $M_\\text{p}$ [kg]\n",
    "* the radius of the star, $R_\\text{star}$ [m]\n",
    "* the mass of the star, $M_\\text{star}$ [kg]\n",
    "* the inclination angle of the plane of the orbit of the exoplanet relative to the plane of the line between Earth and the host star, inclination [deg]\n",
    "\n",
    "Below, we define our own function `model()` that will tell us the brightness of a star at some times based on the four parameters listed above. However, we still need to fill in the period of the exoplanet's orbit from it's orbital radius. Can you recall Kepler's Third Law? You'll need it below!"
   ]
  },
  {
   "cell_type": "code",
   "execution_count": null,
   "metadata": {},
   "outputs": [],
   "source": [
    "def model(times, a = 1.496e11, R_p = 0, R_star = 6.96e8, M_star = 1.989e30, inclination = 45, offset=0):\n",
    "    \"\"\"\n",
    "    Model for the brightness of a star with an exoplanet orbiting it as a function of time.\n",
    "    This model has been adapted from Mandel & Agol 2002 & reparameterized to take 5 inputs:\n",
    "        * period of exoplanet orbit, a [m]\n",
    "        * radius of exoplanet, R_p [m]\n",
    "        * radius of host star, R_star [m]\n",
    "        * mass of the host star, M_star [kg]\n",
    "        * the inclination angle of the plane of the orbit of the exoplanet relative to the\n",
    "          plane of the line between Earth and the host star, inclination [deg]\n",
    "    \"\"\"\n",
    "\n",
    "    # Here, we are making sure our inputs are in the right units\n",
    "    # You don't need to change this!\n",
    "    times = (times*au.d).to(au.second)\n",
    "    offset = (offset*au.d).to(au.second)\n",
    "    a = a * au.m\n",
    "    R_p = R_p * au.m\n",
    "    R_star = R_star * au.m\n",
    "    M_star = M_star * au.kg\n",
    "\n",
    "    # How can we get the period from the orbital radius, a?\n",
    "    # Edit the model here!\n",
    "    period = 2 * np.pi * np.sqrt(a**3 / (ac.G * M_star))\n",
    "\n",
    "    # You don't need to change anything below this line!\n",
    "    rate = 2*np.pi*a / period # m / s\n",
    "    s = rate * (times-offset) #(m / s) * s = m\n",
    "    d = a * (1 - np.cos(s.value / a.value)) # m\n",
    "\n",
    "    p = R_p/R_star\n",
    "    zs = d/R_star/np.cos(inclination * np.pi / 180)\n",
    "\n",
    "    lamdba = np.zeros(len(zs))\n",
    "    for i, z in enumerate(zs):\n",
    "        if z > 1+p:\n",
    "            lamdba[i] = 0\n",
    "        elif z > np.abs(1-p) and z <= 1+p:\n",
    "            k0 = np.arccos((p**2 + z**2 - 1)/(2*p*z))\n",
    "            k1 = np.arccos((1 - p**2 + z**2)/(2*z))\n",
    "            root = ((2*z)**2 - (1 + z**2 - p**2)**2) / 4\n",
    "            lamdba[i] = ((k0.value * p.value**2) + k1.value - np.sqrt(root)) / np.pi\n",
    "        elif z <= 1-p:\n",
    "            lamdba[i] = p**2\n",
    "        elif z <= p-1:\n",
    "            lamdba[i] = 1\n",
    "    \n",
    "    brightness = np.ones(len(zs)) - lamdba\n",
    "    return brightness"
   ]
  },
  {
   "cell_type": "markdown",
   "metadata": {},
   "source": [
    "#### Now, let's see what our model can do!\n",
    "\n",
    "In the next cell, you will be able to adjust the radius of the exoplanet, the distance of the exoplanet from the host star, and the radius and mass of the host star using sliders. You are also able to change where the transits fall in time using the \"offset\" slider. Play with the sliders to create unique transit events and answer the following questions:\n",
    "\n",
    "1. What happens to the size of the transit dip if you make the radius of the exoplanet smaller?\n",
    "2. If the exoplanet is placed further away from the star, what happens to the shape of the transit?\n",
    "3. How does the inclination angle affect the shape of the transit?\n",
    "\n",
    "Can you come up with reasons for why the light curve changes as a result of these changing characteristics of the exoplanet system?"
   ]
  },
  {
   "cell_type": "code",
   "execution_count": null,
   "metadata": {},
   "outputs": [],
   "source": [
    "fig, ax = plt.subplots(figsize=(10,4))\n",
    "\n",
    "N_observations = 1000\n",
    "model_times = np.linspace(0, 10, N_observations)\n",
    "\n",
    "@interact(orbital_radius = (2e9, 9e9, 5e8), exoplanet_radius = (0, 1e8, 5e6),\n",
    "          star_radius = (1e8, 9e8, 5e7), star_mass = (1e30, 1e31, 5e29),\n",
    "          inclination = (0, 90, 5), offset = (0, 10, 0.5))\n",
    "\n",
    "def plot(orbital_radius, exoplanet_radius, star_radius, star_mass, inclination, offset):\n",
    "    model_brightness = model(model_times, a = orbital_radius, R_p = exoplanet_radius, R_star = star_radius,\n",
    "                             M_star = star_mass, inclination = inclination, offset = offset)\n",
    "    ax.clear()\n",
    "    ax.plot(model_times, model_brightness)\n",
    "    ax.set_ylim(0.985,1.005)\n",
    "    ax.set_xlabel('time [days]')\n",
    "    ax.set_ylabel('brightness')\n",
    "    \n",
    "plt.tight_layout()"
   ]
  },
  {
   "cell_type": "markdown",
   "metadata": {},
   "source": [
    "### We can plot our light curve on top of data and adjust the different aspects of the light curve to figure out the size of the exoplanet, its distance from the star, and more!\n",
    "\n",
    "Below, you will find the simulated data from above with the model plotted on top of it. Using the sliders, can you figure out the period of the exoplanet's orbit and the exoplanet's radius?"
   ]
  },
  {
   "cell_type": "code",
   "execution_count": null,
   "metadata": {},
   "outputs": [],
   "source": [
    "fig, ax = plt.subplots(figsize=(10,4))\n",
    "\n",
    "N_observations = 1000\n",
    "model_times = np.linspace(0, 10, N_observations)\n",
    "\n",
    "@interact(orbital_radius = (2e9, 9e9, 5e8), exoplanet_radius = (5e6, 2e7, 1e6),\n",
    "          star_radius = (1e8, 9e8, 5e7), star_mass = (1e30, 4e30, 2e29),\n",
    "          inclination = (0, 90, 5), offset = (0, 10, 0.5))\n",
    "\n",
    "def plot(orbital_radius, exoplanet_radius, star_radius, star_mass, inclination, offset):\n",
    "    model_brightness = model(model_times, a = orbital_radius, R_p = exoplanet_radius, R_star = star_radius,\n",
    "                             M_star = star_mass, inclination = inclination, offset = offset)\n",
    "    ax.clear()\n",
    "    ax.plot(model_times, model_brightness)\n",
    "    ax.errorbar(times, brightness, ls='None', marker='.', color='black')\n",
    "    ax.set_ylim(0.999, 1.0005)\n",
    "    ax.set_xlabel('time [days]')\n",
    "    ax.set_ylabel('brightness')\n",
    "    \n",
    "plt.tight_layout()"
   ]
  },
  {
   "cell_type": "markdown",
   "metadata": {},
   "source": [
    "#### Great work! It's not an easy task, so don't worry if you don't get a perfect fit!"
   ]
  },
  {
   "cell_type": "markdown",
   "metadata": {},
   "source": [
    "## Detecting Exoplanet Transits\n",
    "\n",
    "Now that we know what to look for, we can look at **real** data from the Kepler telescope!\n",
    "\n",
    "Kepler was a NASA space telescope designed to detect exoplanets orbiting other stars using the transit method described above. Before Kepler, scientists didn't know if Earth-like rocky planets were common or rare in the galaxy, or if most stars hosted planets at all. The overall aim of the mission was therefore to discover hundreds of new rocky planets, and more generally better understand the prevalence of different types of planets in our galaxy.\n",
    "Specific mission goals included determining the percentage of terrestrial planets in the habital zone of different types of stars, characterizing their sizes, shapes, and orbits, and understanding the properties of stars hosting planetary systems.\n",
    "\n",
    "Kepler launched in 2009. The primary mission consisted of continuous observation of a single field of about 160,000 stars. This allowed for well-measured, low-noise lightcurves so that small rocky planets could be detected despite the small dips they create. \n",
    "After four years of observation, two of Kepler's reaction wheels (that accurately pointed the spacecraft) failed by 2013. NASA scientists designed a new mission dubbed K2 to continue to do science despite these limitations. K2 continued until Kepler's retirement in 2018, observing additional planets as well as discovering 61 supernovae (stellar explosions).\n",
    "\n",
    "Over its lifetime, Kepler observed over 500,000 stars and discovered nearly 3,000 confirmed exoplanets -- many more than the approximately 300 that were known before Kepler. This confirmed that planets are in fact common, with more planets than stars in our galaxy, and Earth-size worlds in particular are likely to orbit up to half the stars we see. After its retirement, Kepler has been succeeded by another NASA mission called TESS. Launched in 2018, TESS also uses transits to search for planets; it takes a complementary approach to *Kepler*, hunting for nearby exoplanets around brighter stars across the whole sky, and is currently in its extended mission.\n",
    "\n",
    "<br>\n",
    "<img src=\"https://github.com/erinhay/outreach/blob/main/Discovering-Exoplanets/images/kepler.jpeg?raw=1\" alt=\"Alternative text\" />\n",
    "<br>\n",
    "\n",
    "These experiments are made possible by large teams of scientists and engineers working in concert, including outstanding contributions by many women. This includes Kepler/K2 project scientists [Natalie Batalha](https://www.nasa.gov/mission_pages/kepler/team/batalha.html) and [Jessie Dotson](https://www.nasa.gov/mission_pages/kepler/team/jessie_dotson) and TESS project scientist [Patricia Boyd](https://science.gsfc.nasa.gov/sed/bio/patricia.t.boyd), who have/had lead science roles in these projects, as well as leading operations work by Kepler Mission Director/Operations Manager [Marcie Smith](https://www.nasa.gov/mission_pages/kepler/team/Marcie_Smith.html), and Project Manager [Maura Fujieh](https://www.nasa.gov/mission_pages/kepler/team/maura-fujieh).\n",
    "\n",
    "-----\n",
    "\n",
    "To look at *Kepler* data, astronomers have developed special tools. We're going to use some of those tools now to look at the light curve from a star called Kepler 1658. Let's see if we can find an exoplanet around this star!"
   ]
  },
  {
   "cell_type": "code",
   "execution_count": null,
   "metadata": {},
   "outputs": [],
   "source": [
    "# First, we need to retrieve light curve data for Kepler-1658b\n",
    "## This requires a couple of steps using special functions:\n",
    "## 1. Download the file\n",
    "Kepler1658_file = lk.search_targetpixelfile(\"Kepler-1658\")[4].download()\n",
    "\n",
    "## 2. Extract the time and brightness data and put it into a table called \"light_curve_data\"\n",
    "light_curve_data = Kepler1658_file.to_lightcurve(method=\"sap\").remove_outliers().flatten()\n",
    "light_curve_data = light_curve_data['time', 'flux', 'flux_err']\n",
    "\n",
    "## 3. Can you print the table?\n",
    "print(light_curve_data)"
   ]
  },
  {
   "cell_type": "code",
   "execution_count": null,
   "metadata": {},
   "outputs": [],
   "source": [
    "## 4. From the light_curve_data table, can you extract the time and brightness data?\n",
    "Kepler_times = light_curve_data['time'].value        # times of measurements\n",
    "Kepler_brightness = light_curve_data['flux'].value   # brightness measurements\n",
    "Kepler_error = light_curve_data['flux_err'].value    # uncertainty on the brightness measurements"
   ]
  },
  {
   "cell_type": "code",
   "execution_count": null,
   "metadata": {},
   "outputs": [],
   "source": [
    "# Can you plot the data to see what the light curve looks like?\n",
    "\n",
    "fig, ax = plt.subplots(figsize=(10,4))\n",
    "ax.errorbar(Kepler_times, Kepler_brightness, yerr=Kepler_error, ls='None', marker='.', color='black', ms=1, lw=0.5)\n",
    "ax.set_ylim(0.998, 1.001)\n",
    "ax.set_xlabel('time [days]')\n",
    "ax.set_ylabel('brightness')\n",
    "\n",
    "plt.tight_layout()"
   ]
  },
  {
   "cell_type": "markdown",
   "metadata": {},
   "source": [
    "### Based on this light curve, do you think there's an exoplanet orbiting around this star? \n",
    "\n",
    "Can you zoom into a smaller region of the light curve to get a better look at it?"
   ]
  },
  {
   "cell_type": "code",
   "execution_count": null,
   "metadata": {},
   "outputs": [],
   "source": [
    "fig, ax = plt.subplots(figsize=(10,4))\n",
    "ax.errorbar(Kepler_times, Kepler_brightness, yerr=Kepler_error, ls='None', marker='.', color='black', ms=1, lw=0.5)\n",
    "ax.set_xlim(133.75, 143)\n",
    "ax.set_ylim(0.998, 1.001)\n",
    "ax.set_xlabel('time [days]')\n",
    "ax.set_ylabel('brightness')\n",
    "\n",
    "plt.tight_layout()"
   ]
  },
  {
   "cell_type": "markdown",
   "metadata": {},
   "source": [
    "### It's an exoplanet!\n",
    "\n",
    "Let's use the sliders from before to see if we can determine the period and radius of Kepler 1685's exoplanet. We know that this star is about 3x the size of the sun, so we won't worry about adjusting that value."
   ]
  },
  {
   "cell_type": "code",
   "execution_count": null,
   "metadata": {},
   "outputs": [],
   "source": [
    "true_Rs = 2.891*6.96e8*au.m\n",
    "\n",
    "fig, ax = plt.subplots(figsize=(10,4))\n",
    "\n",
    "N_observations = 1000\n",
    "model_times = np.linspace(133.75, 143, N_observations)\n",
    "\n",
    "@interact(orbital_radius = (2e9, 9e9, 5e8), exoplanet_radius = (5e7, 1e8, 2e6),\n",
    "          star_mass = (1e30, 4e30, 2e29), inclination = (0, 90, 5), offset = (0, 10, 1))\n",
    "\n",
    "def plot(orbital_radius, exoplanet_radius, star_mass, inclination, offset):\n",
    "    model_brightness = model(model_times, a = orbital_radius, R_p = exoplanet_radius,\n",
    "                             R_star = true_Rs.value, M_star = star_mass,\n",
    "                             inclination = inclination, offset = offset)\n",
    "    ax.clear()\n",
    "    ax.plot(model_times, model_brightness)\n",
    "    ax.errorbar(Kepler_times, Kepler_brightness, yerr=Kepler_error, ls='None', marker='.', color='black', ms=1, lw=0.5)\n",
    "    ax.set_xlim(133.75, 143)\n",
    "    ax.set_ylim(0.998, 1.001)\n",
    "    ax.set_xlabel('time [days]')\n",
    "    ax.set_ylabel('brightness')\n",
    "    \n",
    "plt.tight_layout()"
   ]
  },
  {
   "cell_type": "markdown",
   "metadata": {},
   "source": [
    "### Was that difficult to figure out? Don't worry -- it's nearly impossible to get the right answer on your own!\n",
    "\n",
    "Because there are a lot of different things affecting the shape of the light curve, astronomers had to come up with easier ways to find the exoplanet characteristics from the light curve. We had to do some complicated maths and coding to get the answers, but fortunately we can now use the findings by running the following cells to find out the solutions!"
   ]
  },
  {
   "cell_type": "code",
   "execution_count": 89,
   "metadata": {},
   "outputs": [
    {
     "name": "stdout",
     "output_type": "stream",
     "text": [
      "The mass of the star is:  76494300.0 kg\n",
      "The radius of the exoplanet is:  76494300.0 m\n",
      "The period of the light curve is:  3.849450437077787 d\n"
     ]
    }
   ],
   "source": [
    "true_inc = 76.52\n",
    "print('The inclination angle is: ', true_inc)\n",
    "\n",
    "true_Ms = 1.45*1.989e30*au.kg\n",
    "print('The mass of the star is: ', true_Ms)\n",
    "\n",
    "true_Rp = 1.07*7.149e7*au.m\n",
    "print('The radius of the exoplanet is: ', true_Rp)\n",
    "\n",
    "# Extract the period of the light curve:\n",
    "true_period = light_curve_data.to_periodogram(\"bls\").period_at_max_power\n",
    "\n",
    "# Stack each orbit on top of each other:\n",
    "folded_light_curve_data = light_curve_data.fold(2*true_period)\n",
    "\n",
    "time_data = folded_light_curve_data.time.value\n",
    "brightness_data = folded_light_curve_data.flux.value\n",
    "time_data = time_data - np.min(time_data)\n",
    "\n",
    "print('The period of the light curve is: ', true_period)"
   ]
  },
  {
   "cell_type": "markdown",
   "metadata": {},
   "source": [
    "Now that we know what the true period is, What does that mean the true orbital radius is?"
   ]
  },
  {
   "cell_type": "code",
   "execution_count": 38,
   "metadata": {},
   "outputs": [
    {
     "name": "stdout",
     "output_type": "stream",
     "text": [
      "The orbital radius of the exoplanet is:  7309679571.789415 m\n"
     ]
    }
   ],
   "source": [
    "true_a = ((true_period.to(au.second)**2 * ac.G * true_Ms ) / (4 * np.pi**2) )**(1/3)\n",
    "\n",
    "print('The orbital radius of the exoplanet is: ', true_a)"
   ]
  },
  {
   "cell_type": "markdown",
   "metadata": {},
   "source": [
    "### Let's plot the solution on top of one transit to see if it looks right!"
   ]
  },
  {
   "cell_type": "code",
   "execution_count": 41,
   "metadata": {},
   "outputs": [
    {
     "data": {
      "image/png": "[encoded data removed]",
      "text/plain": [
       "<Figure size 720x288 with 1 Axes>"
      ]
     },
     "metadata": {
      "needs_background": "light"
     },
     "output_type": "display_data"
    }
   ],
   "source": [
    "fig, ax = plt.subplots(figsize=(10,4))\n",
    "\n",
    "N_observations = 1000\n",
    "model_times = np.linspace(133.75, 143, N_observations)\n",
    "\n",
    "model_brightness = model(model_times, a = true_a.value, R_p = true_Rp.value,\n",
    "                         R_star = true_Rs.value, M_star = true_Ms.value,\n",
    "                         inclination = true_inc, offset = 3.55)\n",
    "\n",
    "ax.errorbar(Kepler_times, Kepler_brightness, yerr=Kepler_error, ls='None', marker='.', color='black', ms=1, lw=0.5)\n",
    "ax.plot(model_times, model_brightness)\n",
    "ax.set_xlim(133.75, 143)\n",
    "ax.set_ylim(0.998, 1.001)\n",
    "ax.set_xlabel('time [days]')\n",
    "ax.set_ylabel('brightness')\n",
    "    \n",
    "plt.tight_layout()"
   ]
  },
  {
   "cell_type": "markdown",
   "metadata": {},
   "source": [
    "### Congratulations on discovering your first exoplanet!\n",
    "\n",
    "Kepler 1658-b was first discovered in 2019 by a team of astronomers led by [Ashley Chontos](https://ashleyin.space/), a researcher at Princeton University in the USA. It took the Kepler team led by Chontos 10 years to confirm that this was a real exoplanet! Now that you are familiar with how many factors affect the system, you can appreciate why!\n",
    "\n",
    "The fit to the data looks great, but it may not be perfect. Are there any other factors that we haven't taken into account in our model that might affect how well the model fits the data?\n",
    "\n",
    "## Types of Exoplanets\n",
    "\n",
    "Not all planets look alike! Depending on factors like the radius of the exoplanet and how fast it is moving around its host star (aka its period), planets can have very different properties.\n",
    "\n",
    "Think about our own solar system:\n",
    "\n",
    "<br>\n",
    "<img src=\"https://github.com/erinhay/outreach/blob/main/Discovering-Exoplanets/images/solar_system.png?raw=1\" alt=\"Alternative text\"/>\n",
    "<br>\n",
    "\n",
    "Mercury, Venus, Earth, and Mars are relatively small rocky planets. Jupiter, Saturn, Neptune, and Uranus are much larger, cool gaseous planets. \n",
    "\n",
    "Just like there are different types of planets in our solar system, there are lots of different types of exoplanets. These types can be divided up by their radius and their period, as you can see in the graph below. For example, an exoplanet with a very large radius, more than 8-10x the radius of the Earth, and a very short period, less than 10 days, is called a \"Hot Jupiter.\" This name comes from the fact that the planets are as big as Jupiter, but are much closer to the host star, which makes them much hotter than Jupiter.\n",
    "\n",
    "Using the graph below, what are the other types of exoplanets? What do you think their names, sizes, and periods say about the characteristics of the exoplanets?\n",
    "\n",
    "<br>\n",
    "<img src=\"https://github.com/erinhay/outreach/blob/main/Discovering-Exoplanets/images/types_of_exoplanets.jpeg?raw=1\" alt=\"Alternative text\"/>\n",
    "<br>\n",
    "\n",
    "Can you find which class of planets Jupiter belongs to? It is about 11x the size of Earth and has a period of about 4,000 days!\n",
    "\n",
    "Because of their different radii and periods, the different types of exoplanets have different looking light curves. Run the cell below to see the differences in the shape of the light curve dip depending on the type of exoplanet!"
   ]
  },
  {
   "cell_type": "code",
   "execution_count": 88,
   "metadata": {},
   "outputs": [
    {
     "data": {
      "image/png": "[encoded data removed]",
      "text/plain": [
       "<Figure size 720x576 with 4 Axes>"
      ]
     },
     "metadata": {
      "needs_background": "light"
     },
     "output_type": "display_data"
    }
   ],
   "source": [
    "fig, ax = plt.subplots(2,2, figsize = (10,8), sharex=True, sharey=True)\n",
    "\n",
    "titles = [['Hot Jupiter', 'Cold Gas Giant'], ['Ice Giant', 'Rocky Planet']]\n",
    "colors = [['palevioletred', 'mediumpurple'], ['cornflowerblue', 'yellowgreen']]\n",
    "exoplanet_radii = [[8e7, 6.5e7], [3e7, 8e6]]\n",
    "orbital_radius = [[1e10, 3e11], [6e10, 1e10]]\n",
    "offset = [[10, 300], [0, 0]]\n",
    "\n",
    "N_observations = 154\n",
    "times = np.linspace(0, 400, N_observations)\n",
    "\n",
    "for i, title_pair in enumerate(titles):\n",
    "    for j, title in enumerate(title_pair):\n",
    "        \n",
    "        brightness = model(times, a = orbital_radius[i][j], R_p = exoplanet_radii[i][j], offset=offset[i][j])\n",
    "        \n",
    "        ax[i,j].errorbar(times, brightness, ls='None', marker='.', color=colors[i][j])\n",
    "        ax[i,j].set_xlabel('time', fontsize=14)\n",
    "        ax[i,j].set_ylabel('brightness', fontsize=14)\n",
    "        ax[i,j].set_title(title, fontsize=18)\n",
    "        \n",
    "plt.tight_layout()"
   ]
  },
  {
   "cell_type": "markdown",
   "metadata": {},
   "source": [
    "What do you notice about the above light curves? Is there anything that two or more of the light curves have in common? Is there anythink unique about one of the light curves? Which types of exoplanets do you think would be the easiest to detect? Which do you think would be the hardest to detect?\n",
    "\n",
    "# Thank you for exploring the world of exoplanets with us today!\n",
    "\n",
    "If you have any last questions, feel free to ask any helper in a purple shirt!\n",
    "\n",
    "## Sources\n",
    "* https://www.nytimes.com/2018/10/30/science/nasa-kepler-exoplanet.html\n",
    "* https://www.nasa.gov/mission_pages/kepler/team/index.html\n",
    "* https://www.nasa.gov/mission_pages/kepler/overview/index.html\n",
    "* https://www.nasa.gov/kepler/topscience\n",
    "* https://science.gsfc.nasa.gov/sed/bio/patricia.t.boyd\n",
    "* https://www.nasa.gov/mission_pages/kepler/team/batalha.html\n",
    "* https://www.nytimes.com/2018/03/26/science/tess-nasa-exoplanets.html\n",
    "* https://www.nasa.gov/content/about-tess\n",
    "\n",
    "## NYT Interactive graphic of Kepler planets:\n",
    "https://archive.nytimes.com/www.nytimes.com/interactive/science/space/keplers-tally-of-planets.html"
   ]
  },
  {
   "cell_type": "markdown",
   "metadata": {},
   "source": []
  }
 ],
 "metadata": {
  "kernelspec": {
   "display_name": "base",
   "language": "python",
   "name": "python3"
  },
  "language_info": {
   "codemirror_mode": {
    "name": "ipython",
    "version": 3
   },
   "file_extension": ".py",
   "mimetype": "text/x-python",
   "name": "python",
   "nbconvert_exporter": "python",
   "pygments_lexer": "ipython3",
   "version": "3.9.12"
  }
 },
 "nbformat": 4,
 "nbformat_minor": 2
}
